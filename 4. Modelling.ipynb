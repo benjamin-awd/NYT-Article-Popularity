{
 "cells": [
  {
   "cell_type": "markdown",
   "metadata": {},
   "source": [
    "# Modelling"
   ]
  },
  {
   "cell_type": "code",
   "execution_count": 1,
   "metadata": {
    "ExecuteTime": {
     "end_time": "2021-01-21T08:04:21.930707Z",
     "start_time": "2021-01-21T08:04:19.823686Z"
    }
   },
   "outputs": [],
   "source": [
    "# Import libraries\n",
    "import pandas as pd\n",
    "import numpy as np\n",
    "import matplotlib.pyplot as plt\n",
    "import seaborn as sns\n",
    "import pickle\n",
    "\n",
    "from sklearn.preprocessing import StandardScaler\n",
    "from sklearn.model_selection import train_test_split, GridSearchCV, cross_val_score\n",
    "from sklearn.pipeline import Pipeline\n",
    "from sklearn.linear_model import LogisticRegression\n",
    "from sklearn.metrics import (confusion_matrix, classification_report, plot_roc_curve, roc_auc_score, \n",
    "accuracy_score, precision_score, recall_score, f1_score, auc, precision_recall_curve, average_precision_score)\n",
    "from sklearn.ensemble import (RandomForestClassifier, ExtraTreesClassifier, GradientBoostingClassifier, \n",
    "                              AdaBoostClassifier)\n",
    "from sklearn.svm import SVC\n",
    "\n",
    "import xgboost as xgb\n",
    "from xgboost import XGBClassifier"
   ]
  },
  {
   "cell_type": "code",
   "execution_count": 2,
   "metadata": {
    "ExecuteTime": {
     "end_time": "2021-01-21T08:04:21.946700Z",
     "start_time": "2021-01-21T08:04:21.932696Z"
    }
   },
   "outputs": [],
   "source": [
    "pd.set_option('display.max_rows', 400)\n",
    "pd.set_option('max_colwidth', 120)\n",
    "pd.set_option('display.max_columns', None)"
   ]
  },
  {
   "cell_type": "code",
   "execution_count": 3,
   "metadata": {
    "ExecuteTime": {
     "end_time": "2021-01-21T08:04:22.138749Z",
     "start_time": "2021-01-21T08:04:21.950702Z"
    }
   },
   "outputs": [],
   "source": [
    "train = pd.read_csv('./datasets/train_processed.csv')\n",
    "train = train._get_numeric_data().drop(columns='n_comments', errors='ignore')"
   ]
  },
  {
   "cell_type": "code",
   "execution_count": 4,
   "metadata": {
    "ExecuteTime": {
     "end_time": "2021-01-21T08:04:22.217766Z",
     "start_time": "2021-01-21T08:04:22.138749Z"
    }
   },
   "outputs": [],
   "source": [
    "test = pd.read_csv('./datasets/test_processed.csv')\n",
    "test = test._get_numeric_data()"
   ]
  },
  {
   "cell_type": "code",
   "execution_count": 5,
   "metadata": {},
   "outputs": [],
   "source": [
    "full = pd.read_csv('./datasets/full_processed.csv')"
   ]
  },
  {
   "cell_type": "markdown",
   "metadata": {},
   "source": [
    "In this notebook, we'll carry out of the following steps\n",
    "\n",
    "- Run a Train-Test-Split on our data\n",
    "- Run data through a pipeline and fit various models to our training data\n",
    "- Select the best model and tune hyper-parameters\n",
    "- Evaluate model based on accuracy and ROC-AUC\n",
    "\n",
    "We'll look to test a range of classification techniques including Logistic Regression, Random Forest, Boosting, Multinomial Naive Bayes classification and Support Vector Machine (SVM) classification.\n",
    "\n",
    "Accuracy and ROC-AUC will be our main metrics -- we want to minimize both false negatives and false positives, but we also want to know how good our models are at separating our positive and negative class.\n",
    "\n",
    "It's worth noting that in previous iterations of my modelling I tried modelling with purely text-based features (headline + abstract). This returned an unsatisfactory accuracy and ROC-AUC score."
   ]
  },
  {
   "cell_type": "markdown",
   "metadata": {},
   "source": [
    "## Train Test Split"
   ]
  },
  {
   "cell_type": "code",
   "execution_count": 6,
   "metadata": {
    "ExecuteTime": {
     "end_time": "2021-01-21T08:04:22.233770Z",
     "start_time": "2021-01-21T08:04:22.219754Z"
    }
   },
   "outputs": [],
   "source": [
    "X = train.drop(columns=['is_popular'])\n",
    "y = train['is_popular']"
   ]
  },
  {
   "cell_type": "code",
   "execution_count": 7,
   "metadata": {
    "ExecuteTime": {
     "end_time": "2021-01-21T08:04:22.249762Z",
     "start_time": "2021-01-21T08:04:22.234757Z"
    }
   },
   "outputs": [],
   "source": [
    "X_train, X_test, y_train, y_test = train_test_split(X, y, test_size=0.3, random_state=42)"
   ]
  },
  {
   "cell_type": "markdown",
   "metadata": {},
   "source": [
    "## Instantiate Models"
   ]
  },
  {
   "cell_type": "code",
   "execution_count": 8,
   "metadata": {
    "ExecuteTime": {
     "end_time": "2021-01-21T08:04:22.265764Z",
     "start_time": "2021-01-21T08:04:22.252762Z"
    }
   },
   "outputs": [],
   "source": [
    "feature_names = X_train.columns"
   ]
  },
  {
   "cell_type": "code",
   "execution_count": 9,
   "metadata": {
    "ExecuteTime": {
     "end_time": "2021-01-21T08:04:22.281769Z",
     "start_time": "2021-01-21T08:04:22.267764Z"
    }
   },
   "outputs": [],
   "source": [
    "models = {'lr': LogisticRegression(max_iter=5_000, random_state=42, solver='saga'),\n",
    "          'rf': RandomForestClassifier(random_state=42),\n",
    "          'gb': GradientBoostingClassifier(random_state=42),\n",
    "          'et': ExtraTreesClassifier(random_state=42),\n",
    "          'ada': AdaBoostClassifier(random_state=42),\n",
    "          'svc': SVC(random_state=42, probability=True),\n",
    "          'xgb': xgb.XGBClassifier(seed=42, use_label_encoder=False, eval_metric='auc'),\n",
    "        }"
   ]
  },
  {
   "cell_type": "markdown",
   "metadata": {},
   "source": [
    "## Model Function Setup"
   ]
  },
  {
   "cell_type": "markdown",
   "metadata": {},
   "source": [
    "To get various feature importance scores from XGBoost, I created a custom transformer that scales all features with StandardScaler and returns it as a dataframe (instead of an array)."
   ]
  },
  {
   "cell_type": "code",
   "execution_count": 10,
   "metadata": {
    "ExecuteTime": {
     "end_time": "2021-01-21T08:04:22.297772Z",
     "start_time": "2021-01-21T08:04:22.283770Z"
    }
   },
   "outputs": [],
   "source": [
    "class CustomTransformer():\n",
    "    def __init__(self, func):\n",
    "        self.func = func\n",
    "\n",
    "    def transform(self, input_df, **transform_params):\n",
    "        return self.func(input_df)\n",
    "\n",
    "    def fit(self, X, y=None, **fit_params):\n",
    "        return self\n",
    "\n",
    "# This function takes a dataframe as input and returns a scaled version\n",
    "def scale_df(input_df):\n",
    "    ss = StandardScaler()\n",
    "    feature_names = input_df.columns\n",
    "    input_df = ss.fit_transform(input_df)\n",
    "    input_df = pd.DataFrame(input_df, columns=feature_names)\n",
    "    return input_df"
   ]
  },
  {
   "cell_type": "code",
   "execution_count": 11,
   "metadata": {
    "ExecuteTime": {
     "end_time": "2021-01-21T08:14:55.097192Z",
     "start_time": "2021-01-21T08:14:55.087199Z"
    }
   },
   "outputs": [],
   "source": [
    "# Instantiate lists to store results\n",
    "init_list = []\n",
    "gs_list = []\n",
    "\n",
    "# Function to run model -- input scaler and model\n",
    "def run_model(mod, mod_params={}, grid_search=False):\n",
    "    \n",
    "    # Initial dictionary to hold model results\n",
    "    results = {}\n",
    "    \n",
    "    pipe = Pipeline([\n",
    "            ('ss', CustomTransformer(scale_df)),\n",
    "            (mod, models[mod])\n",
    "            ])\n",
    "    \n",
    "    if grid_search:\n",
    "        # Instantiate list to store gridsearch results\n",
    "        gs = GridSearchCV(pipe, param_grid=mod_params, cv=3, verbose=1, scoring='roc_auc', n_jobs=-1)\n",
    "        gs.fit(X_train, y_train)\n",
    "        pipe = gs.best_estimator_\n",
    "        \n",
    "    else:\n",
    "        pipe.fit(X_train, y_train)\n",
    "    \n",
    "    # Retrieve metrics\n",
    "    predictions = pipe.predict(X_test)\n",
    "    tn, fp, fn, tp = confusion_matrix(y_test, predictions).ravel()\n",
    "    y_test_pred_prob = pipe.predict_proba(X_test)[:,1]\n",
    "    y_train_pred_prob = pipe.predict_proba(X_train)[:,1]\n",
    "    \n",
    "    results['model'] = mod\n",
    "    results['train_auc'] = roc_auc_score(y_train, y_train_pred_prob)\n",
    "    results['test_auc'] = roc_auc_score(y_test, y_test_pred_prob)\n",
    "    results['precision'] = precision_score(y_test, predictions)\n",
    "    results['specificity'] = tn / (tn + fp)\n",
    "    results['recall'] = recall_score(y_test, predictions)\n",
    "    results['f_score'] = f1_score(y_test, predictions)\n",
    "    \n",
    "    if grid_search:\n",
    "        gs_list.append(results)\n",
    "        print('### BEST PARAMS ###')\n",
    "        display(pipe[1])\n",
    "        \n",
    "    else:\n",
    "        init_list.append(results)\n",
    "    \n",
    "    print('### METRICS ###')\n",
    "    display(results)\n",
    "    \n",
    "    print(f\"True Negatives: {tn}\")\n",
    "    print(f\"False Positives: {fp}\")\n",
    "    print(f\"False Negatives: {fn}\")\n",
    "    print(f\"True Positives: {tp}\")\n",
    "    \n",
    "    return pipe"
   ]
  },
  {
   "cell_type": "markdown",
   "metadata": {},
   "source": [
    "## Initial Run"
   ]
  },
  {
   "cell_type": "code",
   "execution_count": 12,
   "metadata": {
    "ExecuteTime": {
     "end_time": "2021-01-21T08:04:22.808901Z",
     "start_time": "2021-01-21T08:04:22.315776Z"
    }
   },
   "outputs": [
    {
     "name": "stdout",
     "output_type": "stream",
     "text": [
      "### METRICS ###\n"
     ]
    },
    {
     "data": {
      "text/plain": [
       "{'model': 'lr',\n",
       " 'train_auc': 0.8441526452636806,\n",
       " 'test_auc': 0.848308634620144,\n",
       " 'precision': 0.7834254143646409,\n",
       " 'specificity': 0.7998979070954568,\n",
       " 'recall': 0.7546567323044172,\n",
       " 'f_score': 0.7687720249390079}"
      ]
     },
     "metadata": {},
     "output_type": "display_data"
    },
    {
     "name": "stdout",
     "output_type": "stream",
     "text": [
      "True Negatives: 1567\n",
      "False Positives: 392\n",
      "False Negatives: 461\n",
      "True Positives: 1418\n"
     ]
    }
   ],
   "source": [
    "lr = run_model('lr')"
   ]
  },
  {
   "cell_type": "code",
   "execution_count": 13,
   "metadata": {
    "ExecuteTime": {
     "end_time": "2021-01-21T08:04:24.342235Z",
     "start_time": "2021-01-21T08:04:22.809895Z"
    },
    "scrolled": true
   },
   "outputs": [
    {
     "name": "stdout",
     "output_type": "stream",
     "text": [
      "### METRICS ###\n"
     ]
    },
    {
     "data": {
      "text/plain": [
       "{'model': 'rf',\n",
       " 'train_auc': 1.0,\n",
       " 'test_auc': 0.8665311857419843,\n",
       " 'precision': 0.7942318358291736,\n",
       " 'specificity': 0.810617662072486,\n",
       " 'recall': 0.7621075039914849,\n",
       " 'f_score': 0.7778381314502987}"
      ]
     },
     "metadata": {},
     "output_type": "display_data"
    },
    {
     "name": "stdout",
     "output_type": "stream",
     "text": [
      "True Negatives: 1588\n",
      "False Positives: 371\n",
      "False Negatives: 447\n",
      "True Positives: 1432\n"
     ]
    }
   ],
   "source": [
    "rf = run_model('rf')"
   ]
  },
  {
   "cell_type": "code",
   "execution_count": 14,
   "metadata": {
    "ExecuteTime": {
     "end_time": "2021-01-21T08:04:25.649551Z",
     "start_time": "2021-01-21T08:04:24.343236Z"
    },
    "scrolled": true
   },
   "outputs": [
    {
     "name": "stdout",
     "output_type": "stream",
     "text": [
      "### METRICS ###\n"
     ]
    },
    {
     "data": {
      "text/plain": [
       "{'model': 'et',\n",
       " 'train_auc': 1.0,\n",
       " 'test_auc': 0.8685890722558594,\n",
       " 'precision': 0.7875275938189845,\n",
       " 'specificity': 0.8034711587544666,\n",
       " 'recall': 0.7594465141032464,\n",
       " 'f_score': 0.7732321863993498}"
      ]
     },
     "metadata": {},
     "output_type": "display_data"
    },
    {
     "name": "stdout",
     "output_type": "stream",
     "text": [
      "True Negatives: 1574\n",
      "False Positives: 385\n",
      "False Negatives: 452\n",
      "True Positives: 1427\n"
     ]
    }
   ],
   "source": [
    "et = run_model('et')"
   ]
  },
  {
   "cell_type": "code",
   "execution_count": 15,
   "metadata": {
    "ExecuteTime": {
     "end_time": "2021-01-21T08:04:27.673993Z",
     "start_time": "2021-01-21T08:04:25.651540Z"
    },
    "scrolled": true
   },
   "outputs": [
    {
     "name": "stdout",
     "output_type": "stream",
     "text": [
      "### METRICS ###\n"
     ]
    },
    {
     "data": {
      "text/plain": [
       "{'model': 'gb',\n",
       " 'train_auc': 0.877682750961473,\n",
       " 'test_auc': 0.8650679808886864,\n",
       " 'precision': 0.7859858772406301,\n",
       " 'specificity': 0.7988769780500256,\n",
       " 'recall': 0.7700904736562001,\n",
       " 'f_score': 0.7779569892473118}"
      ]
     },
     "metadata": {},
     "output_type": "display_data"
    },
    {
     "name": "stdout",
     "output_type": "stream",
     "text": [
      "True Negatives: 1565\n",
      "False Positives: 394\n",
      "False Negatives: 432\n",
      "True Positives: 1447\n"
     ]
    }
   ],
   "source": [
    "gb = run_model('gb')"
   ]
  },
  {
   "cell_type": "code",
   "execution_count": 16,
   "metadata": {
    "ExecuteTime": {
     "end_time": "2021-01-21T08:04:48.539740Z",
     "start_time": "2021-01-21T08:04:27.674992Z"
    }
   },
   "outputs": [
    {
     "name": "stdout",
     "output_type": "stream",
     "text": [
      "### METRICS ###\n"
     ]
    },
    {
     "data": {
      "text/plain": [
       "{'model': 'svc',\n",
       " 'train_auc': 0.8885165314480307,\n",
       " 'test_auc': 0.8527667095630733,\n",
       " 'precision': 0.7967064168086314,\n",
       " 'specificity': 0.8172537008677897,\n",
       " 'recall': 0.746673762639702,\n",
       " 'f_score': 0.7708791208791208}"
      ]
     },
     "metadata": {},
     "output_type": "display_data"
    },
    {
     "name": "stdout",
     "output_type": "stream",
     "text": [
      "True Negatives: 1601\n",
      "False Positives: 358\n",
      "False Negatives: 476\n",
      "True Positives: 1403\n"
     ]
    }
   ],
   "source": [
    "svc = run_model('svc')"
   ]
  },
  {
   "cell_type": "code",
   "execution_count": 17,
   "metadata": {
    "ExecuteTime": {
     "end_time": "2021-01-21T08:04:49.306893Z",
     "start_time": "2021-01-21T08:04:48.541734Z"
    },
    "scrolled": true
   },
   "outputs": [
    {
     "name": "stdout",
     "output_type": "stream",
     "text": [
      "### METRICS ###\n"
     ]
    },
    {
     "data": {
      "text/plain": [
       "{'model': 'ada',\n",
       " 'train_auc': 0.8517299029883305,\n",
       " 'test_auc': 0.8485251541649041,\n",
       " 'precision': 0.7730769230769231,\n",
       " 'specificity': 0.7891781521184278,\n",
       " 'recall': 0.7488025545502927,\n",
       " 'f_score': 0.7607461476074615}"
      ]
     },
     "metadata": {},
     "output_type": "display_data"
    },
    {
     "name": "stdout",
     "output_type": "stream",
     "text": [
      "True Negatives: 1546\n",
      "False Positives: 413\n",
      "False Negatives: 472\n",
      "True Positives: 1407\n"
     ]
    }
   ],
   "source": [
    "ada = run_model('ada')"
   ]
  },
  {
   "cell_type": "code",
   "execution_count": 18,
   "metadata": {
    "ExecuteTime": {
     "end_time": "2021-01-21T08:04:50.806030Z",
     "start_time": "2021-01-21T08:04:49.307893Z"
    }
   },
   "outputs": [
    {
     "name": "stdout",
     "output_type": "stream",
     "text": [
      "### METRICS ###\n"
     ]
    },
    {
     "data": {
      "text/plain": [
       "{'model': 'xgb',\n",
       " 'train_auc': 0.9934760781132403,\n",
       " 'test_auc': 0.8606760571492064,\n",
       " 'precision': 0.7783902976846747,\n",
       " 'specificity': 0.7947932618683001,\n",
       " 'recall': 0.7514635444385311,\n",
       " 'f_score': 0.7646899539669645}"
      ]
     },
     "metadata": {},
     "output_type": "display_data"
    },
    {
     "name": "stdout",
     "output_type": "stream",
     "text": [
      "True Negatives: 1557\n",
      "False Positives: 402\n",
      "False Negatives: 467\n",
      "True Positives: 1412\n"
     ]
    }
   ],
   "source": [
    "xgb = run_model('xgb')"
   ]
  },
  {
   "cell_type": "code",
   "execution_count": 19,
   "metadata": {
    "ExecuteTime": {
     "end_time": "2021-01-21T08:04:50.822034Z",
     "start_time": "2021-01-21T08:04:50.807030Z"
    }
   },
   "outputs": [
    {
     "data": {
      "text/html": [
       "<div>\n",
       "<style scoped>\n",
       "    .dataframe tbody tr th:only-of-type {\n",
       "        vertical-align: middle;\n",
       "    }\n",
       "\n",
       "    .dataframe tbody tr th {\n",
       "        vertical-align: top;\n",
       "    }\n",
       "\n",
       "    .dataframe thead th {\n",
       "        text-align: right;\n",
       "    }\n",
       "</style>\n",
       "<table border=\"1\" class=\"dataframe\">\n",
       "  <thead>\n",
       "    <tr style=\"text-align: right;\">\n",
       "      <th></th>\n",
       "      <th>model</th>\n",
       "      <th>train_auc</th>\n",
       "      <th>test_auc</th>\n",
       "      <th>precision</th>\n",
       "      <th>specificity</th>\n",
       "      <th>recall</th>\n",
       "      <th>f_score</th>\n",
       "    </tr>\n",
       "  </thead>\n",
       "  <tbody>\n",
       "    <tr>\n",
       "      <th>0</th>\n",
       "      <td>et</td>\n",
       "      <td>1.000000</td>\n",
       "      <td>0.868589</td>\n",
       "      <td>0.787528</td>\n",
       "      <td>0.803471</td>\n",
       "      <td>0.759447</td>\n",
       "      <td>0.773232</td>\n",
       "    </tr>\n",
       "    <tr>\n",
       "      <th>1</th>\n",
       "      <td>rf</td>\n",
       "      <td>1.000000</td>\n",
       "      <td>0.866531</td>\n",
       "      <td>0.794232</td>\n",
       "      <td>0.810618</td>\n",
       "      <td>0.762108</td>\n",
       "      <td>0.777838</td>\n",
       "    </tr>\n",
       "    <tr>\n",
       "      <th>2</th>\n",
       "      <td>gb</td>\n",
       "      <td>0.877683</td>\n",
       "      <td>0.865068</td>\n",
       "      <td>0.785986</td>\n",
       "      <td>0.798877</td>\n",
       "      <td>0.770090</td>\n",
       "      <td>0.777957</td>\n",
       "    </tr>\n",
       "    <tr>\n",
       "      <th>3</th>\n",
       "      <td>xgb</td>\n",
       "      <td>0.993476</td>\n",
       "      <td>0.860676</td>\n",
       "      <td>0.778390</td>\n",
       "      <td>0.794793</td>\n",
       "      <td>0.751464</td>\n",
       "      <td>0.764690</td>\n",
       "    </tr>\n",
       "    <tr>\n",
       "      <th>4</th>\n",
       "      <td>svc</td>\n",
       "      <td>0.888517</td>\n",
       "      <td>0.852767</td>\n",
       "      <td>0.796706</td>\n",
       "      <td>0.817254</td>\n",
       "      <td>0.746674</td>\n",
       "      <td>0.770879</td>\n",
       "    </tr>\n",
       "    <tr>\n",
       "      <th>5</th>\n",
       "      <td>ada</td>\n",
       "      <td>0.851730</td>\n",
       "      <td>0.848525</td>\n",
       "      <td>0.773077</td>\n",
       "      <td>0.789178</td>\n",
       "      <td>0.748803</td>\n",
       "      <td>0.760746</td>\n",
       "    </tr>\n",
       "    <tr>\n",
       "      <th>6</th>\n",
       "      <td>lr</td>\n",
       "      <td>0.844153</td>\n",
       "      <td>0.848309</td>\n",
       "      <td>0.783425</td>\n",
       "      <td>0.799898</td>\n",
       "      <td>0.754657</td>\n",
       "      <td>0.768772</td>\n",
       "    </tr>\n",
       "  </tbody>\n",
       "</table>\n",
       "</div>"
      ],
      "text/plain": [
       "  model  train_auc  test_auc  precision  specificity    recall   f_score\n",
       "0    et   1.000000  0.868589   0.787528     0.803471  0.759447  0.773232\n",
       "1    rf   1.000000  0.866531   0.794232     0.810618  0.762108  0.777838\n",
       "2    gb   0.877683  0.865068   0.785986     0.798877  0.770090  0.777957\n",
       "3   xgb   0.993476  0.860676   0.778390     0.794793  0.751464  0.764690\n",
       "4   svc   0.888517  0.852767   0.796706     0.817254  0.746674  0.770879\n",
       "5   ada   0.851730  0.848525   0.773077     0.789178  0.748803  0.760746\n",
       "6    lr   0.844153  0.848309   0.783425     0.799898  0.754657  0.768772"
      ]
     },
     "execution_count": 19,
     "metadata": {},
     "output_type": "execute_result"
    }
   ],
   "source": [
    "# Results of our initial modelling\n",
    "pd.DataFrame(init_list).sort_values(by='test_auc', ascending=False).reset_index(drop=True)"
   ]
  },
  {
   "cell_type": "markdown",
   "metadata": {},
   "source": [
    "## Hyperparameter Tuning"
   ]
  },
  {
   "cell_type": "markdown",
   "metadata": {
    "cell_id": "00034-acfe72b2-8985-42e7-98bd-133e3a36df9d",
    "deepnote_cell_type": "markdown",
    "output_cleared": false
   },
   "source": [
    "### Logistic Regression"
   ]
  },
  {
   "cell_type": "code",
   "execution_count": 20,
   "metadata": {
    "ExecuteTime": {
     "end_time": "2021-01-21T08:14:47.842145Z",
     "start_time": "2021-01-21T08:14:47.830144Z"
    },
    "cell_id": "00035-cac21cb8-4fdf-4b01-a757-4f5b80a882b9",
    "deepnote_cell_type": "code",
    "execution_millis": 1,
    "execution_start": 1608128623190,
    "output_cleared": false,
    "source_hash": "3e948428"
   },
   "outputs": [],
   "source": [
    "lr_params = {\n",
    "    # Trying different types of regularization\n",
    "    'lr__penalty':['l2','l1', 'elasticnet'],\n",
    "    \n",
    "    'lr__l1_ratio':[0, 0.5, 1],\n",
    "\n",
    "     # Trying different alphas of: 10, 1, 0.1  (C = 1/alpha)\n",
    "    'lr__C':[0.1, 1, 10],\n",
    "}"
   ]
  },
  {
   "cell_type": "code",
   "execution_count": 21,
   "metadata": {
    "ExecuteTime": {
     "end_time": "2021-01-21T08:14:48.874850Z",
     "start_time": "2021-01-21T08:14:48.857840Z"
    },
    "cell_id": "00036-00347ffc-97e1-49e6-b921-a614257a110e",
    "deepnote_cell_type": "code",
    "execution_millis": 17669,
    "execution_start": 1608128623234,
    "output_cleared": false,
    "source_hash": "fb9d1e6b"
   },
   "outputs": [
    {
     "name": "stdout",
     "output_type": "stream",
     "text": [
      "Fitting 3 folds for each of 27 candidates, totalling 81 fits\n"
     ]
    },
    {
     "name": "stderr",
     "output_type": "stream",
     "text": [
      "[Parallel(n_jobs=-1)]: Using backend LokyBackend with 12 concurrent workers.\n",
      "[Parallel(n_jobs=-1)]: Done  26 tasks      | elapsed:    2.4s\n",
      "[Parallel(n_jobs=-1)]: Done  81 out of  81 | elapsed:    6.8s finished\n",
      "C:\\Users\\benja\\anaconda3\\lib\\site-packages\\sklearn\\linear_model\\_logistic.py:1315: UserWarning: l1_ratio parameter is only used when penalty is 'elasticnet'. Got (penalty=l1)\n",
      "  warnings.warn(\"l1_ratio parameter is only used when penalty is \"\n"
     ]
    },
    {
     "name": "stdout",
     "output_type": "stream",
     "text": [
      "### BEST PARAMS ###\n"
     ]
    },
    {
     "data": {
      "text/plain": [
       "LogisticRegression(C=1, l1_ratio=0, max_iter=5000, penalty='l1',\n",
       "                   random_state=42, solver='saga')"
      ]
     },
     "metadata": {},
     "output_type": "display_data"
    },
    {
     "name": "stdout",
     "output_type": "stream",
     "text": [
      "### METRICS ###\n"
     ]
    },
    {
     "data": {
      "text/plain": [
       "{'model': 'lr',\n",
       " 'train_auc': 0.8441560877822272,\n",
       " 'test_auc': 0.8483385181206755,\n",
       " 'precision': 0.7838584853510226,\n",
       " 'specificity': 0.8004083716181726,\n",
       " 'recall': 0.7546567323044172,\n",
       " 'f_score': 0.7689804772234274}"
      ]
     },
     "metadata": {},
     "output_type": "display_data"
    },
    {
     "name": "stdout",
     "output_type": "stream",
     "text": [
      "True Negatives: 1568\n",
      "False Positives: 391\n",
      "False Negatives: 461\n",
      "True Positives: 1418\n"
     ]
    }
   ],
   "source": [
    "lr_gs = run_model('lr', mod_params=lr_params, grid_search=True)"
   ]
  },
  {
   "cell_type": "markdown",
   "metadata": {},
   "source": [
    "### SVC"
   ]
  },
  {
   "cell_type": "code",
   "execution_count": 22,
   "metadata": {
    "ExecuteTime": {
     "end_time": "2021-01-21T08:04:51.369174Z",
     "start_time": "2021-01-21T08:04:19.869Z"
    }
   },
   "outputs": [],
   "source": [
    "svc_params = {\n",
    "    'svc__C':[0.05, 1],\n",
    "    'svc__gamma':[0.05, 0.1], \n",
    "    'svc__kernel':['rbf', 'sigmoid'],\n",
    "}"
   ]
  },
  {
   "cell_type": "code",
   "execution_count": 23,
   "metadata": {
    "ExecuteTime": {
     "end_time": "2021-01-21T08:04:51.369174Z",
     "start_time": "2021-01-21T08:04:19.871Z"
    },
    "scrolled": false
   },
   "outputs": [
    {
     "name": "stdout",
     "output_type": "stream",
     "text": [
      "Fitting 3 folds for each of 8 candidates, totalling 24 fits\n"
     ]
    },
    {
     "name": "stderr",
     "output_type": "stream",
     "text": [
      "[Parallel(n_jobs=-1)]: Using backend LokyBackend with 12 concurrent workers.\n",
      "[Parallel(n_jobs=-1)]: Done  24 out of  24 | elapsed:   15.9s finished\n"
     ]
    },
    {
     "name": "stdout",
     "output_type": "stream",
     "text": [
      "### BEST PARAMS ###\n"
     ]
    },
    {
     "data": {
      "text/plain": [
       "SVC(C=1, gamma=0.05, probability=True, random_state=42)"
      ]
     },
     "metadata": {},
     "output_type": "display_data"
    },
    {
     "name": "stdout",
     "output_type": "stream",
     "text": [
      "### METRICS ###\n"
     ]
    },
    {
     "data": {
      "text/plain": [
       "{'model': 'svc',\n",
       " 'train_auc': 0.9051034339621418,\n",
       " 'test_auc': 0.8490527337833789,\n",
       " 'precision': 0.788826815642458,\n",
       " 'specificity': 0.8070444104134763,\n",
       " 'recall': 0.7514635444385311,\n",
       " 'f_score': 0.7696920141727991}"
      ]
     },
     "metadata": {},
     "output_type": "display_data"
    },
    {
     "name": "stdout",
     "output_type": "stream",
     "text": [
      "True Negatives: 1581\n",
      "False Positives: 378\n",
      "False Negatives: 467\n",
      "True Positives: 1412\n"
     ]
    }
   ],
   "source": [
    "svc_gs =  run_model('svc', mod_params=svc_params, grid_search=True)"
   ]
  },
  {
   "cell_type": "markdown",
   "metadata": {
    "cell_id": "00047-e387c823-24f3-4b10-bd76-788e4ea8612a",
    "deepnote_cell_type": "markdown",
    "output_cleared": false
   },
   "source": [
    "### Random Forest"
   ]
  },
  {
   "cell_type": "code",
   "execution_count": 24,
   "metadata": {
    "ExecuteTime": {
     "end_time": "2021-01-21T08:04:51.370159Z",
     "start_time": "2021-01-21T08:04:19.873Z"
    },
    "cell_id": "00048-153c3751-b937-475e-9efe-3272e717f71e",
    "deepnote_cell_type": "code",
    "execution_millis": 2,
    "output_cleared": false,
    "source_hash": "818ae80f"
   },
   "outputs": [],
   "source": [
    "rf_params = {'rf__n_estimators': [100, 200],\n",
    "             'rf__max_depth': [20, 25, 30, 40],\n",
    "             'rf__min_samples_leaf': [2, 3, 4],\n",
    "            }"
   ]
  },
  {
   "cell_type": "code",
   "execution_count": 25,
   "metadata": {
    "ExecuteTime": {
     "end_time": "2021-01-21T08:04:51.371177Z",
     "start_time": "2021-01-21T08:04:19.875Z"
    },
    "cell_id": "00049-f8899325-0bf6-48ff-8de3-14a8e474a66d",
    "deepnote_cell_type": "code",
    "execution_millis": 48356,
    "output_cleared": false,
    "source_hash": "b2289f2a"
   },
   "outputs": [
    {
     "name": "stdout",
     "output_type": "stream",
     "text": [
      "Fitting 3 folds for each of 24 candidates, totalling 72 fits\n"
     ]
    },
    {
     "name": "stderr",
     "output_type": "stream",
     "text": [
      "[Parallel(n_jobs=-1)]: Using backend LokyBackend with 12 concurrent workers.\n",
      "[Parallel(n_jobs=-1)]: Done  26 tasks      | elapsed:    4.3s\n",
      "[Parallel(n_jobs=-1)]: Done  72 out of  72 | elapsed:   10.3s finished\n"
     ]
    },
    {
     "name": "stdout",
     "output_type": "stream",
     "text": [
      "### BEST PARAMS ###\n"
     ]
    },
    {
     "data": {
      "text/plain": [
       "RandomForestClassifier(max_depth=20, min_samples_leaf=3, n_estimators=200,\n",
       "                       random_state=42)"
      ]
     },
     "metadata": {},
     "output_type": "display_data"
    },
    {
     "name": "stdout",
     "output_type": "stream",
     "text": [
      "### METRICS ###\n"
     ]
    },
    {
     "data": {
      "text/plain": [
       "{'model': 'rf',\n",
       " 'train_auc': 0.9912806493288461,\n",
       " 'test_auc': 0.8696699041364471,\n",
       " 'precision': 0.7928767123287671,\n",
       " 'specificity': 0.8070444104134763,\n",
       " 'recall': 0.7700904736562001,\n",
       " 'f_score': 0.781317494600432}"
      ]
     },
     "metadata": {},
     "output_type": "display_data"
    },
    {
     "name": "stdout",
     "output_type": "stream",
     "text": [
      "True Negatives: 1581\n",
      "False Positives: 378\n",
      "False Negatives: 432\n",
      "True Positives: 1447\n"
     ]
    }
   ],
   "source": [
    "rf_gs =  run_model('rf', mod_params=rf_params, grid_search=True)"
   ]
  },
  {
   "cell_type": "markdown",
   "metadata": {},
   "source": [
    "### Extra Trees"
   ]
  },
  {
   "cell_type": "code",
   "execution_count": 26,
   "metadata": {
    "ExecuteTime": {
     "end_time": "2021-01-21T08:04:51.372170Z",
     "start_time": "2021-01-21T08:04:19.877Z"
    }
   },
   "outputs": [],
   "source": [
    "et_params = {'et__n_estimators': [100, 200],\n",
    "             'et__max_depth': [20, 25, 30, 35, 40, 50],\n",
    "             'et__min_samples_leaf': [2, 3, 4],\n",
    "            }"
   ]
  },
  {
   "cell_type": "code",
   "execution_count": 27,
   "metadata": {
    "ExecuteTime": {
     "end_time": "2021-01-21T08:04:51.372170Z",
     "start_time": "2021-01-21T08:04:19.879Z"
    },
    "scrolled": false
   },
   "outputs": [
    {
     "name": "stdout",
     "output_type": "stream",
     "text": [
      "Fitting 3 folds for each of 36 candidates, totalling 108 fits\n"
     ]
    },
    {
     "name": "stderr",
     "output_type": "stream",
     "text": [
      "[Parallel(n_jobs=-1)]: Using backend LokyBackend with 12 concurrent workers.\n",
      "[Parallel(n_jobs=-1)]: Done  26 tasks      | elapsed:    2.6s\n",
      "[Parallel(n_jobs=-1)]: Done 108 out of 108 | elapsed:    9.7s finished\n"
     ]
    },
    {
     "name": "stdout",
     "output_type": "stream",
     "text": [
      "### BEST PARAMS ###\n"
     ]
    },
    {
     "data": {
      "text/plain": [
       "ExtraTreesClassifier(max_depth=40, min_samples_leaf=2, n_estimators=200,\n",
       "                     random_state=42)"
      ]
     },
     "metadata": {},
     "output_type": "display_data"
    },
    {
     "name": "stdout",
     "output_type": "stream",
     "text": [
      "### METRICS ###\n"
     ]
    },
    {
     "data": {
      "text/plain": [
       "{'model': 'et',\n",
       " 'train_auc': 0.9988750448088691,\n",
       " 'test_auc': 0.8728125617196161,\n",
       " 'precision': 0.7961538461538461,\n",
       " 'specificity': 0.810617662072486,\n",
       " 'recall': 0.7711548696114955,\n",
       " 'f_score': 0.7834549878345498}"
      ]
     },
     "metadata": {},
     "output_type": "display_data"
    },
    {
     "name": "stdout",
     "output_type": "stream",
     "text": [
      "True Negatives: 1588\n",
      "False Positives: 371\n",
      "False Negatives: 430\n",
      "True Positives: 1449\n"
     ]
    }
   ],
   "source": [
    "et_gs =  run_model('et', mod_params=et_params, grid_search=True)"
   ]
  },
  {
   "cell_type": "markdown",
   "metadata": {
    "cell_id": "00050-a0445189-7d2d-4431-96fa-20e6147b2da5",
    "deepnote_cell_type": "markdown",
    "deletable": false,
    "editable": false,
    "output_cleared": false,
    "run_control": {
     "frozen": true
    }
   },
   "source": [
    "### Adaptive Boosting"
   ]
  },
  {
   "cell_type": "code",
   "execution_count": 28,
   "metadata": {
    "ExecuteTime": {
     "end_time": "2021-01-21T08:04:51.373169Z",
     "start_time": "2021-01-21T08:04:19.881Z"
    },
    "cell_id": "00051-2b9d38d8-36cc-4432-908a-a672e2fd1a3b",
    "deepnote_cell_type": "code",
    "execution_millis": 1,
    "output_cleared": false,
    "source_hash": "605ca1e4"
   },
   "outputs": [],
   "source": [
    "ada_params = {'ada__n_estimators': [500],\n",
    "              'ada__learning_rate': [0.05, 0.1, 0.2, 0.9],\n",
    "             }"
   ]
  },
  {
   "cell_type": "code",
   "execution_count": 29,
   "metadata": {
    "ExecuteTime": {
     "end_time": "2021-01-21T08:04:51.373169Z",
     "start_time": "2021-01-21T08:04:19.884Z"
    },
    "cell_id": "00052-00963070-2a52-4a6b-8861-9f265cae8d4a",
    "deepnote_cell_type": "code",
    "execution_millis": 147596,
    "output_cleared": false,
    "scrolled": false,
    "source_hash": "3043ad5b"
   },
   "outputs": [
    {
     "name": "stdout",
     "output_type": "stream",
     "text": [
      "Fitting 3 folds for each of 4 candidates, totalling 12 fits\n"
     ]
    },
    {
     "name": "stderr",
     "output_type": "stream",
     "text": [
      "[Parallel(n_jobs=-1)]: Using backend LokyBackend with 12 concurrent workers.\n",
      "[Parallel(n_jobs=-1)]: Done   2 out of  12 | elapsed:    4.3s remaining:   22.1s\n",
      "[Parallel(n_jobs=-1)]: Done  12 out of  12 | elapsed:    4.5s finished\n"
     ]
    },
    {
     "name": "stdout",
     "output_type": "stream",
     "text": [
      "### BEST PARAMS ###\n"
     ]
    },
    {
     "data": {
      "text/plain": [
       "AdaBoostClassifier(learning_rate=0.1, n_estimators=500, random_state=42)"
      ]
     },
     "metadata": {},
     "output_type": "display_data"
    },
    {
     "name": "stdout",
     "output_type": "stream",
     "text": [
      "### METRICS ###\n"
     ]
    },
    {
     "data": {
      "text/plain": [
       "{'model': 'ada',\n",
       " 'train_auc': 0.851758141618727,\n",
       " 'test_auc': 0.8482246891504692,\n",
       " 'precision': 0.786368843069874,\n",
       " 'specificity': 0.8095967330270546,\n",
       " 'recall': 0.7307078233102714,\n",
       " 'f_score': 0.7575172413793104}"
      ]
     },
     "metadata": {},
     "output_type": "display_data"
    },
    {
     "name": "stdout",
     "output_type": "stream",
     "text": [
      "True Negatives: 1586\n",
      "False Positives: 373\n",
      "False Negatives: 506\n",
      "True Positives: 1373\n"
     ]
    }
   ],
   "source": [
    "ada_gs = run_model('ada', mod_params=ada_params, grid_search=True)"
   ]
  },
  {
   "cell_type": "markdown",
   "metadata": {
    "cell_id": "00053-59769990-73ce-4a7e-b426-b844f3519332",
    "deepnote_cell_type": "markdown",
    "output_cleared": false
   },
   "source": [
    "### Gradient Boosting"
   ]
  },
  {
   "cell_type": "code",
   "execution_count": 30,
   "metadata": {
    "ExecuteTime": {
     "end_time": "2021-01-21T08:04:51.374171Z",
     "start_time": "2021-01-21T08:04:19.886Z"
    },
    "cell_id": "00054-59a272ab-9194-4dc6-b774-9163715b25c8",
    "deepnote_cell_type": "code",
    "execution_millis": 1,
    "output_cleared": false,
    "source_hash": "d4dc6cc7"
   },
   "outputs": [],
   "source": [
    "gb_params = {'gb__n_estimators': [500, 1000],\n",
    "             'gb__learning_rate': [0.1, 0.2, 0.3],\n",
    "}"
   ]
  },
  {
   "cell_type": "code",
   "execution_count": 31,
   "metadata": {
    "ExecuteTime": {
     "end_time": "2021-01-21T08:04:51.375168Z",
     "start_time": "2021-01-21T08:04:19.888Z"
    },
    "cell_id": "00055-5ff7ba13-4cdf-4ccf-88c6-194f5f4e2af5",
    "deepnote_cell_type": "code",
    "execution_millis": 397867,
    "output_cleared": false,
    "scrolled": false,
    "source_hash": "f23e8be3"
   },
   "outputs": [
    {
     "name": "stdout",
     "output_type": "stream",
     "text": [
      "Fitting 3 folds for each of 6 candidates, totalling 18 fits\n"
     ]
    },
    {
     "name": "stderr",
     "output_type": "stream",
     "text": [
      "[Parallel(n_jobs=-1)]: Using backend LokyBackend with 12 concurrent workers.\n",
      "[Parallel(n_jobs=-1)]: Done  14 out of  18 | elapsed:   15.8s remaining:    4.5s\n",
      "[Parallel(n_jobs=-1)]: Done  18 out of  18 | elapsed:   22.3s finished\n"
     ]
    },
    {
     "name": "stdout",
     "output_type": "stream",
     "text": [
      "### BEST PARAMS ###\n"
     ]
    },
    {
     "data": {
      "text/plain": [
       "GradientBoostingClassifier(n_estimators=500, random_state=42)"
      ]
     },
     "metadata": {},
     "output_type": "display_data"
    },
    {
     "name": "stdout",
     "output_type": "stream",
     "text": [
      "### METRICS ###\n"
     ]
    },
    {
     "data": {
      "text/plain": [
       "{'model': 'gb',\n",
       " 'train_auc': 0.931495527345197,\n",
       " 'test_auc': 0.8660295504353347,\n",
       " 'precision': 0.7862554112554112,\n",
       " 'specificity': 0.7983665135273098,\n",
       " 'recall': 0.7732836615220862,\n",
       " 'f_score': 0.7797155889455325}"
      ]
     },
     "metadata": {},
     "output_type": "display_data"
    },
    {
     "name": "stdout",
     "output_type": "stream",
     "text": [
      "True Negatives: 1564\n",
      "False Positives: 395\n",
      "False Negatives: 426\n",
      "True Positives: 1453\n"
     ]
    }
   ],
   "source": [
    "gb_gs = run_model('gb', mod_params=gb_params, grid_search=True)"
   ]
  },
  {
   "cell_type": "markdown",
   "metadata": {},
   "source": [
    "### XGBoost"
   ]
  },
  {
   "cell_type": "code",
   "execution_count": 32,
   "metadata": {
    "ExecuteTime": {
     "end_time": "2021-01-21T08:04:51.375168Z",
     "start_time": "2021-01-21T08:04:19.892Z"
    }
   },
   "outputs": [],
   "source": [
    "xgb_params = { \n",
    "              'xgb__learning_rate' : [0.05, 0.1, 0.3],\n",
    "              'xgb__max_depth' : [6, 7], \n",
    "              'xgb__n_estimators' : [100, 150],\n",
    "              'xgb__reg_alpha' : [0, 1, 2],\n",
    "              'xgb__reg_lambda' : [0, 1, 2],\n",
    "              'xgb__gamma' : [0, 1, 3],\n",
    "             }"
   ]
  },
  {
   "cell_type": "code",
   "execution_count": 33,
   "metadata": {
    "ExecuteTime": {
     "end_time": "2021-01-21T08:04:51.376169Z",
     "start_time": "2021-01-21T08:04:19.894Z"
    }
   },
   "outputs": [
    {
     "name": "stdout",
     "output_type": "stream",
     "text": [
      "Fitting 3 folds for each of 324 candidates, totalling 972 fits\n"
     ]
    },
    {
     "name": "stderr",
     "output_type": "stream",
     "text": [
      "[Parallel(n_jobs=-1)]: Using backend LokyBackend with 12 concurrent workers.\n",
      "[Parallel(n_jobs=-1)]: Done  26 tasks      | elapsed:    5.6s\n",
      "[Parallel(n_jobs=-1)]: Done 176 tasks      | elapsed:   36.9s\n",
      "[Parallel(n_jobs=-1)]: Done 426 tasks      | elapsed:  1.5min\n",
      "[Parallel(n_jobs=-1)]: Done 776 tasks      | elapsed:  2.7min\n",
      "[Parallel(n_jobs=-1)]: Done 972 out of 972 | elapsed:  3.3min finished\n"
     ]
    },
    {
     "name": "stdout",
     "output_type": "stream",
     "text": [
      "### BEST PARAMS ###\n"
     ]
    },
    {
     "data": {
      "text/plain": [
       "XGBClassifier(base_score=0.5, booster='gbtree', colsample_bylevel=1,\n",
       "              colsample_bynode=1, colsample_bytree=1, eval_metric='auc',\n",
       "              gamma=0, gpu_id=-1, importance_type='gain',\n",
       "              interaction_constraints='', learning_rate=0.05, max_delta_step=0,\n",
       "              max_depth=6, min_child_weight=1, missing=nan,\n",
       "              monotone_constraints='()', n_estimators=100, n_jobs=12,\n",
       "              num_parallel_tree=1, random_state=42, reg_alpha=0, reg_lambda=0,\n",
       "              scale_pos_weight=1, seed=42, subsample=1, tree_method='exact',\n",
       "              use_label_encoder=False, validate_parameters=1, verbosity=None)"
      ]
     },
     "metadata": {},
     "output_type": "display_data"
    },
    {
     "name": "stdout",
     "output_type": "stream",
     "text": [
      "### METRICS ###\n"
     ]
    },
    {
     "data": {
      "text/plain": [
       "{'model': 'xgb',\n",
       " 'train_auc': 0.91806184709081,\n",
       " 'test_auc': 0.8727219603793683,\n",
       " 'precision': 0.7916666666666666,\n",
       " 'specificity': 0.8034711587544666,\n",
       " 'recall': 0.778605641298563,\n",
       " 'f_score': 0.7850818352562383}"
      ]
     },
     "metadata": {},
     "output_type": "display_data"
    },
    {
     "name": "stdout",
     "output_type": "stream",
     "text": [
      "True Negatives: 1574\n",
      "False Positives: 385\n",
      "False Negatives: 416\n",
      "True Positives: 1463\n"
     ]
    }
   ],
   "source": [
    "xgb_gs = run_model('xgb', mod_params=xgb_params, grid_search=True)"
   ]
  },
  {
   "cell_type": "markdown",
   "metadata": {},
   "source": [
    "## ROC-AUC Evaluation"
   ]
  },
  {
   "cell_type": "code",
   "execution_count": 34,
   "metadata": {
    "ExecuteTime": {
     "end_time": "2021-01-21T08:04:51.376169Z",
     "start_time": "2021-01-21T08:04:19.898Z"
    },
    "cell_id": "00056-6e98fdee-308e-4356-92fb-506363492b9a",
    "deepnote_cell_type": "code",
    "execution_millis": 13,
    "output_cleared": false,
    "source_hash": "a3600245"
   },
   "outputs": [
    {
     "data": {
      "text/html": [
       "<div>\n",
       "<style scoped>\n",
       "    .dataframe tbody tr th:only-of-type {\n",
       "        vertical-align: middle;\n",
       "    }\n",
       "\n",
       "    .dataframe tbody tr th {\n",
       "        vertical-align: top;\n",
       "    }\n",
       "\n",
       "    .dataframe thead th {\n",
       "        text-align: right;\n",
       "    }\n",
       "</style>\n",
       "<table border=\"1\" class=\"dataframe\">\n",
       "  <thead>\n",
       "    <tr style=\"text-align: right;\">\n",
       "      <th></th>\n",
       "      <th>model</th>\n",
       "      <th>train_auc</th>\n",
       "      <th>test_auc</th>\n",
       "      <th>precision</th>\n",
       "      <th>specificity</th>\n",
       "      <th>recall</th>\n",
       "      <th>f_score</th>\n",
       "    </tr>\n",
       "  </thead>\n",
       "  <tbody>\n",
       "    <tr>\n",
       "      <th>3</th>\n",
       "      <td>et</td>\n",
       "      <td>0.998875</td>\n",
       "      <td>0.872813</td>\n",
       "      <td>0.796154</td>\n",
       "      <td>0.810618</td>\n",
       "      <td>0.771155</td>\n",
       "      <td>0.783455</td>\n",
       "    </tr>\n",
       "    <tr>\n",
       "      <th>6</th>\n",
       "      <td>xgb</td>\n",
       "      <td>0.918062</td>\n",
       "      <td>0.872722</td>\n",
       "      <td>0.791667</td>\n",
       "      <td>0.803471</td>\n",
       "      <td>0.778606</td>\n",
       "      <td>0.785082</td>\n",
       "    </tr>\n",
       "    <tr>\n",
       "      <th>2</th>\n",
       "      <td>rf</td>\n",
       "      <td>0.991281</td>\n",
       "      <td>0.869670</td>\n",
       "      <td>0.792877</td>\n",
       "      <td>0.807044</td>\n",
       "      <td>0.770090</td>\n",
       "      <td>0.781317</td>\n",
       "    </tr>\n",
       "    <tr>\n",
       "      <th>5</th>\n",
       "      <td>gb</td>\n",
       "      <td>0.931496</td>\n",
       "      <td>0.866030</td>\n",
       "      <td>0.786255</td>\n",
       "      <td>0.798367</td>\n",
       "      <td>0.773284</td>\n",
       "      <td>0.779716</td>\n",
       "    </tr>\n",
       "    <tr>\n",
       "      <th>1</th>\n",
       "      <td>svc</td>\n",
       "      <td>0.905103</td>\n",
       "      <td>0.849053</td>\n",
       "      <td>0.788827</td>\n",
       "      <td>0.807044</td>\n",
       "      <td>0.751464</td>\n",
       "      <td>0.769692</td>\n",
       "    </tr>\n",
       "    <tr>\n",
       "      <th>0</th>\n",
       "      <td>lr</td>\n",
       "      <td>0.844156</td>\n",
       "      <td>0.848339</td>\n",
       "      <td>0.783858</td>\n",
       "      <td>0.800408</td>\n",
       "      <td>0.754657</td>\n",
       "      <td>0.768980</td>\n",
       "    </tr>\n",
       "    <tr>\n",
       "      <th>4</th>\n",
       "      <td>ada</td>\n",
       "      <td>0.851758</td>\n",
       "      <td>0.848225</td>\n",
       "      <td>0.786369</td>\n",
       "      <td>0.809597</td>\n",
       "      <td>0.730708</td>\n",
       "      <td>0.757517</td>\n",
       "    </tr>\n",
       "  </tbody>\n",
       "</table>\n",
       "</div>"
      ],
      "text/plain": [
       "  model  train_auc  test_auc  precision  specificity    recall   f_score\n",
       "3    et   0.998875  0.872813   0.796154     0.810618  0.771155  0.783455\n",
       "6   xgb   0.918062  0.872722   0.791667     0.803471  0.778606  0.785082\n",
       "2    rf   0.991281  0.869670   0.792877     0.807044  0.770090  0.781317\n",
       "5    gb   0.931496  0.866030   0.786255     0.798367  0.773284  0.779716\n",
       "1   svc   0.905103  0.849053   0.788827     0.807044  0.751464  0.769692\n",
       "0    lr   0.844156  0.848339   0.783858     0.800408  0.754657  0.768980\n",
       "4   ada   0.851758  0.848225   0.786369     0.809597  0.730708  0.757517"
      ]
     },
     "execution_count": 34,
     "metadata": {},
     "output_type": "execute_result"
    }
   ],
   "source": [
    "gs_df = pd.DataFrame(gs_list)\n",
    "gs_df.sort_values(by='test_auc', ascending=False)"
   ]
  },
  {
   "cell_type": "code",
   "execution_count": 35,
   "metadata": {
    "ExecuteTime": {
     "end_time": "2021-01-21T08:04:51.377168Z",
     "start_time": "2021-01-21T08:04:19.900Z"
    }
   },
   "outputs": [],
   "source": [
    "gs_dict = {\n",
    "    xgb_gs: 'XGBoostClassifier',\n",
    "    et_gs: 'ExtraTreeClassifier',\n",
    "    rf_gs: 'RandomForest',\n",
    "    gb_gs: 'GradientBoostingClassifier',\n",
    "    svc_gs: 'SupportVectorMachineClf',\n",
    "    lr_gs: 'LogisticRegression',\n",
    "    ada_gs: 'AdaBoostClassifier',\n",
    "}"
   ]
  },
  {
   "cell_type": "code",
   "execution_count": 36,
   "metadata": {
    "ExecuteTime": {
     "end_time": "2021-01-21T08:04:51.378162Z",
     "start_time": "2021-01-21T08:04:19.902Z"
    }
   },
   "outputs": [],
   "source": [
    "def roc_curve_plotter(model_dict, plot_top=False):\n",
    "    fig, ax = plt.subplots(1, 1, figsize=(12,10))\n",
    "    axes = {}\n",
    "    for i, m in enumerate(model_dict.keys()):\n",
    "        axes[f'ax{i}'] = plot_roc_curve(m, X_test, y_test, ax=ax, name=model_dict[m])\n",
    "    if plot_top:\n",
    "        for i, a in enumerate(axes):\n",
    "            if i != 0:\n",
    "                axes[a].line_.set_color('gray')\n",
    "                axes[a].line_.set_alpha(0.25)\n",
    "                \n",
    "    plt.plot([0, 1], [0, 1], color='black', lw=2, linestyle='--', label='Random Guess')\n",
    "    plt.title('ROC-AUC Curve', fontsize=22)\n",
    "    plt.xlabel('False Positive Rate', fontsize=12)\n",
    "    plt.ylabel('True Positive Rate', fontsize=12)\n",
    "    plt.legend(fontsize=12)"
   ]
  },
  {
   "cell_type": "markdown",
   "metadata": {},
   "source": [
    "Performance is pretty close between our ensemble tree models and XGBoost -- we can see that XGBoost has a TPR of 0.8 to a FPR of roughly 0.21."
   ]
  },
  {
   "cell_type": "code",
   "execution_count": 37,
   "metadata": {
    "ExecuteTime": {
     "end_time": "2021-01-21T08:04:51.379165Z",
     "start_time": "2021-01-21T08:04:19.904Z"
    },
    "scrolled": false
   },
   "outputs": [
    {
     "data": {
      "image/png": "[encoded data removed]",
      "text/plain": [
       "<Figure size 864x720 with 1 Axes>"
      ]
     },
     "metadata": {
      "needs_background": "light"
     },
     "output_type": "display_data"
    }
   ],
   "source": [
    "roc_curve_plotter(gs_dict, True)"
   ]
  },
  {
   "cell_type": "markdown",
   "metadata": {},
   "source": [
    "## Testing against unseen data"
   ]
  },
  {
   "cell_type": "markdown",
   "metadata": {},
   "source": [
    "At this point, we're taking our data and testing it on \"unseen\" data, or the test set that we earlier created. "
   ]
  },
  {
   "cell_type": "code",
   "execution_count": 38,
   "metadata": {
    "ExecuteTime": {
     "end_time": "2021-01-21T08:04:51.380163Z",
     "start_time": "2021-01-21T08:04:19.907Z"
    }
   },
   "outputs": [],
   "source": [
    "final_actual = test['is_popular']"
   ]
  },
  {
   "cell_type": "code",
   "execution_count": 39,
   "metadata": {
    "ExecuteTime": {
     "end_time": "2021-01-21T08:04:51.380163Z",
     "start_time": "2021-01-21T08:04:19.909Z"
    }
   },
   "outputs": [],
   "source": [
    "test = test.drop(columns=['is_popular'])"
   ]
  },
  {
   "cell_type": "code",
   "execution_count": 40,
   "metadata": {
    "ExecuteTime": {
     "end_time": "2021-01-21T08:04:51.381172Z",
     "start_time": "2021-01-21T08:04:19.912Z"
    }
   },
   "outputs": [],
   "source": [
    "def evaluate_model(model):\n",
    "    final_proba = model.predict_proba(test)\n",
    "    final_proba = final_proba[:, 1]\n",
    "    final_preds = model.predict(test)\n",
    "    print(f'Accuracy:', f'{accuracy_score(final_actual, final_preds):.3f}')\n",
    "    print(f'Precision:', f'{precision_score(final_actual, final_preds):.3f}')\n",
    "    print(f'Recall:', f'{recall_score(final_actual, final_preds):.3f}')\n",
    "    print(f'ROC-AUC:', f'{roc_auc_score(final_actual, final_proba):.3f}')"
   ]
  },
  {
   "cell_type": "code",
   "execution_count": 41,
   "metadata": {
    "ExecuteTime": {
     "end_time": "2021-01-21T08:04:51.382170Z",
     "start_time": "2021-01-21T08:04:19.914Z"
    }
   },
   "outputs": [
    {
     "name": "stdout",
     "output_type": "stream",
     "text": [
      "Accuracy: 0.782\n",
      "Precision: 0.768\n",
      "Recall: 0.787\n",
      "ROC-AUC: 0.865\n"
     ]
    }
   ],
   "source": [
    "evaluate_model(xgb_gs)"
   ]
  },
  {
   "cell_type": "code",
   "execution_count": 42,
   "metadata": {
    "ExecuteTime": {
     "end_time": "2021-01-21T08:04:51.382170Z",
     "start_time": "2021-01-21T08:04:19.915Z"
    }
   },
   "outputs": [
    {
     "name": "stdout",
     "output_type": "stream",
     "text": [
      "Accuracy: 0.784\n",
      "Precision: 0.775\n",
      "Recall: 0.781\n",
      "ROC-AUC: 0.864\n"
     ]
    }
   ],
   "source": [
    "evaluate_model(rf_gs)"
   ]
  },
  {
   "cell_type": "code",
   "execution_count": 43,
   "metadata": {
    "ExecuteTime": {
     "end_time": "2021-01-21T08:04:51.383170Z",
     "start_time": "2021-01-21T08:04:19.917Z"
    }
   },
   "outputs": [
    {
     "name": "stdout",
     "output_type": "stream",
     "text": [
      "Accuracy: 0.778\n",
      "Precision: 0.777\n",
      "Recall: 0.760\n",
      "ROC-AUC: 0.866\n"
     ]
    }
   ],
   "source": [
    "evaluate_model(et_gs)"
   ]
  },
  {
   "cell_type": "markdown",
   "metadata": {},
   "source": [
    "#### Refit models on entire dataset"
   ]
  },
  {
   "cell_type": "code",
   "execution_count": 44,
   "metadata": {
    "ExecuteTime": {
     "end_time": "2021-01-21T08:04:51.384171Z",
     "start_time": "2021-01-21T08:04:19.919Z"
    },
    "scrolled": false
   },
   "outputs": [],
   "source": [
    "xgb_gs.fit(X, y)\n",
    "rf_gs.fit(X, y)\n",
    "et_gs.fit(X, y);"
   ]
  },
  {
   "cell_type": "markdown",
   "metadata": {},
   "source": [
    "Performance for our top models is pretty close -- but looks like XGBoost wins. It has the highest accuracy and AUC-ROC score."
   ]
  },
  {
   "cell_type": "code",
   "execution_count": 45,
   "metadata": {
    "ExecuteTime": {
     "end_time": "2021-01-21T08:04:51.385176Z",
     "start_time": "2021-01-21T08:04:19.925Z"
    }
   },
   "outputs": [
    {
     "name": "stdout",
     "output_type": "stream",
     "text": [
      "Accuracy: 0.786\n",
      "Precision: 0.775\n",
      "Recall: 0.785\n",
      "ROC-AUC: 0.869\n"
     ]
    }
   ],
   "source": [
    "evaluate_model(xgb_gs)"
   ]
  },
  {
   "cell_type": "code",
   "execution_count": 46,
   "metadata": {
    "ExecuteTime": {
     "end_time": "2021-01-21T08:04:51.386169Z",
     "start_time": "2021-01-21T08:04:19.927Z"
    }
   },
   "outputs": [
    {
     "name": "stdout",
     "output_type": "stream",
     "text": [
      "Accuracy: 0.781\n",
      "Precision: 0.772\n",
      "Recall: 0.776\n",
      "ROC-AUC: 0.866\n"
     ]
    }
   ],
   "source": [
    "evaluate_model(rf_gs)"
   ]
  },
  {
   "cell_type": "code",
   "execution_count": 47,
   "metadata": {
    "ExecuteTime": {
     "end_time": "2021-01-21T08:04:51.387163Z",
     "start_time": "2021-01-21T08:04:19.929Z"
    }
   },
   "outputs": [
    {
     "name": "stdout",
     "output_type": "stream",
     "text": [
      "Accuracy: 0.779\n",
      "Precision: 0.780\n",
      "Recall: 0.756\n",
      "ROC-AUC: 0.866\n"
     ]
    }
   ],
   "source": [
    "evaluate_model(et_gs)"
   ]
  },
  {
   "cell_type": "markdown",
   "metadata": {},
   "source": [
    "### Misclassification Analysis"
   ]
  },
  {
   "cell_type": "code",
   "execution_count": 48,
   "metadata": {
    "ExecuteTime": {
     "end_time": "2021-01-21T08:04:51.387163Z",
     "start_time": "2021-01-21T08:04:19.931Z"
    }
   },
   "outputs": [],
   "source": [
    "final_proba = rf_gs.predict_proba(test)\n",
    "final_proba = final_proba[:, 1]\n",
    "final_preds = rf_gs.predict(test)"
   ]
  },
  {
   "cell_type": "code",
   "execution_count": 49,
   "metadata": {
    "ExecuteTime": {
     "end_time": "2021-01-21T08:04:51.388164Z",
     "start_time": "2021-01-21T08:04:19.933Z"
    }
   },
   "outputs": [],
   "source": [
    "predictions = pd.DataFrame(data=[final_actual, final_preds, final_proba]).T\n",
    "predictions.columns = ['actual', 'predicted', 'proba']"
   ]
  },
  {
   "cell_type": "code",
   "execution_count": 50,
   "metadata": {
    "ExecuteTime": {
     "end_time": "2021-01-21T08:04:51.388164Z",
     "start_time": "2021-01-21T08:04:19.935Z"
    }
   },
   "outputs": [
    {
     "data": {
      "text/html": [
       "<div>\n",
       "<style scoped>\n",
       "    .dataframe tbody tr th:only-of-type {\n",
       "        vertical-align: middle;\n",
       "    }\n",
       "\n",
       "    .dataframe tbody tr th {\n",
       "        vertical-align: top;\n",
       "    }\n",
       "\n",
       "    .dataframe thead th {\n",
       "        text-align: right;\n",
       "    }\n",
       "</style>\n",
       "<table border=\"1\" class=\"dataframe\">\n",
       "  <thead>\n",
       "    <tr style=\"text-align: right;\">\n",
       "      <th></th>\n",
       "      <th>actual</th>\n",
       "      <th>predicted</th>\n",
       "      <th>proba</th>\n",
       "    </tr>\n",
       "  </thead>\n",
       "  <tbody>\n",
       "    <tr>\n",
       "      <th>0</th>\n",
       "      <td>1.0</td>\n",
       "      <td>1.0</td>\n",
       "      <td>0.969706</td>\n",
       "    </tr>\n",
       "    <tr>\n",
       "      <th>1</th>\n",
       "      <td>1.0</td>\n",
       "      <td>1.0</td>\n",
       "      <td>0.988791</td>\n",
       "    </tr>\n",
       "    <tr>\n",
       "      <th>2</th>\n",
       "      <td>1.0</td>\n",
       "      <td>1.0</td>\n",
       "      <td>0.908532</td>\n",
       "    </tr>\n",
       "    <tr>\n",
       "      <th>3</th>\n",
       "      <td>1.0</td>\n",
       "      <td>1.0</td>\n",
       "      <td>0.994417</td>\n",
       "    </tr>\n",
       "    <tr>\n",
       "      <th>4</th>\n",
       "      <td>0.0</td>\n",
       "      <td>0.0</td>\n",
       "      <td>0.234660</td>\n",
       "    </tr>\n",
       "    <tr>\n",
       "      <th>...</th>\n",
       "      <td>...</td>\n",
       "      <td>...</td>\n",
       "      <td>...</td>\n",
       "    </tr>\n",
       "    <tr>\n",
       "      <th>3990</th>\n",
       "      <td>1.0</td>\n",
       "      <td>1.0</td>\n",
       "      <td>0.847033</td>\n",
       "    </tr>\n",
       "    <tr>\n",
       "      <th>3991</th>\n",
       "      <td>0.0</td>\n",
       "      <td>0.0</td>\n",
       "      <td>0.081849</td>\n",
       "    </tr>\n",
       "    <tr>\n",
       "      <th>3992</th>\n",
       "      <td>1.0</td>\n",
       "      <td>1.0</td>\n",
       "      <td>0.519875</td>\n",
       "    </tr>\n",
       "    <tr>\n",
       "      <th>3993</th>\n",
       "      <td>1.0</td>\n",
       "      <td>0.0</td>\n",
       "      <td>0.321361</td>\n",
       "    </tr>\n",
       "    <tr>\n",
       "      <th>3994</th>\n",
       "      <td>1.0</td>\n",
       "      <td>0.0</td>\n",
       "      <td>0.201106</td>\n",
       "    </tr>\n",
       "  </tbody>\n",
       "</table>\n",
       "<p>3995 rows × 3 columns</p>\n",
       "</div>"
      ],
      "text/plain": [
       "      actual  predicted     proba\n",
       "0        1.0        1.0  0.969706\n",
       "1        1.0        1.0  0.988791\n",
       "2        1.0        1.0  0.908532\n",
       "3        1.0        1.0  0.994417\n",
       "4        0.0        0.0  0.234660\n",
       "...      ...        ...       ...\n",
       "3990     1.0        1.0  0.847033\n",
       "3991     0.0        0.0  0.081849\n",
       "3992     1.0        1.0  0.519875\n",
       "3993     1.0        0.0  0.321361\n",
       "3994     1.0        0.0  0.201106\n",
       "\n",
       "[3995 rows x 3 columns]"
      ]
     },
     "execution_count": 50,
     "metadata": {},
     "output_type": "execute_result"
    }
   ],
   "source": [
    "predictions"
   ]
  },
  {
   "cell_type": "code",
   "execution_count": 51,
   "metadata": {
    "ExecuteTime": {
     "end_time": "2021-01-21T08:04:51.389163Z",
     "start_time": "2021-01-21T08:04:19.937Z"
    }
   },
   "outputs": [],
   "source": [
    "wrong_predictions = predictions[predictions['actual'] != predictions['predicted']]"
   ]
  },
  {
   "cell_type": "code",
   "execution_count": 52,
   "metadata": {
    "ExecuteTime": {
     "end_time": "2021-01-21T08:04:51.389163Z",
     "start_time": "2021-01-21T08:04:19.939Z"
    }
   },
   "outputs": [],
   "source": [
    "init_test = pd.read_pickle('./datasets/test.pickle').reset_index(drop=True)"
   ]
  },
  {
   "cell_type": "code",
   "execution_count": 53,
   "metadata": {
    "ExecuteTime": {
     "end_time": "2021-01-21T08:04:51.390164Z",
     "start_time": "2021-01-21T08:04:19.941Z"
    }
   },
   "outputs": [],
   "source": [
    "wrong_predictions = pd.merge(wrong_predictions, init_test, left_index=True, right_index=True)"
   ]
  },
  {
   "cell_type": "code",
   "execution_count": 54,
   "metadata": {
    "ExecuteTime": {
     "end_time": "2021-01-21T08:04:51.391163Z",
     "start_time": "2021-01-21T08:04:19.943Z"
    }
   },
   "outputs": [],
   "source": [
    "wrong_predictions = wrong_predictions[['actual', 'predicted', 'proba', 'newsdesk', 'section', 'subsection',\n",
    "                                       'headline', 'abstract', 'keywords']]"
   ]
  },
  {
   "cell_type": "code",
   "execution_count": 55,
   "metadata": {
    "ExecuteTime": {
     "end_time": "2021-01-21T08:04:51.391163Z",
     "start_time": "2021-01-21T08:04:19.945Z"
    }
   },
   "outputs": [
    {
     "data": {
      "text/plain": [
       "0.0    442\n",
       "1.0    432\n",
       "Name: actual, dtype: int64"
      ]
     },
     "execution_count": 55,
     "metadata": {},
     "output_type": "execute_result"
    }
   ],
   "source": [
    "# 1 = false positives, 0 = false negatives\n",
    "wrong_predictions['actual'].value_counts()"
   ]
  },
  {
   "cell_type": "code",
   "execution_count": 56,
   "metadata": {
    "ExecuteTime": {
     "end_time": "2021-01-21T08:04:51.392165Z",
     "start_time": "2021-01-21T08:04:19.947Z"
    },
    "scrolled": false
   },
   "outputs": [
    {
     "data": {
      "text/html": [
       "<div>\n",
       "<style scoped>\n",
       "    .dataframe tbody tr th:only-of-type {\n",
       "        vertical-align: middle;\n",
       "    }\n",
       "\n",
       "    .dataframe tbody tr th {\n",
       "        vertical-align: top;\n",
       "    }\n",
       "\n",
       "    .dataframe thead th {\n",
       "        text-align: right;\n",
       "    }\n",
       "</style>\n",
       "<table border=\"1\" class=\"dataframe\">\n",
       "  <thead>\n",
       "    <tr style=\"text-align: right;\">\n",
       "      <th></th>\n",
       "      <th>actual</th>\n",
       "      <th>predicted</th>\n",
       "      <th>proba</th>\n",
       "      <th>newsdesk</th>\n",
       "      <th>section</th>\n",
       "      <th>subsection</th>\n",
       "      <th>headline</th>\n",
       "      <th>abstract</th>\n",
       "      <th>keywords</th>\n",
       "    </tr>\n",
       "  </thead>\n",
       "  <tbody>\n",
       "    <tr>\n",
       "      <th>254</th>\n",
       "      <td>0.0</td>\n",
       "      <td>1.0</td>\n",
       "      <td>0.937960</td>\n",
       "      <td>OpEd</td>\n",
       "      <td>Opinion</td>\n",
       "      <td>NaN</td>\n",
       "      <td>What We Can Learn From the Rise and Fall of ‘Political Blackness’</td>\n",
       "      <td>Before “people of color” and BIPOC, Britain had its own inclusive concept for nonwhite people.</td>\n",
       "      <td>[Black People, Blacks, Race and Ethnicity, Minorities, Great Britain, Politics and Government]</td>\n",
       "    </tr>\n",
       "    <tr>\n",
       "      <th>66</th>\n",
       "      <td>0.0</td>\n",
       "      <td>1.0</td>\n",
       "      <td>0.931563</td>\n",
       "      <td>Politics</td>\n",
       "      <td>U.S.</td>\n",
       "      <td>Politics</td>\n",
       "      <td>Democrats Mount an All-Out Effort to Get Detroit to Vote</td>\n",
       "      <td>Urgently trying to avoid a repeat of 2016, when Donald Trump won Michigan by a razor-thin margin, Democrats have bee...</td>\n",
       "      <td>[Presidential Election of 2020, Black People, Blacks, Biden, Joseph R Jr, Harris, Kamala D, Trump, Donald J, Detroit...</td>\n",
       "    </tr>\n",
       "    <tr>\n",
       "      <th>321</th>\n",
       "      <td>0.0</td>\n",
       "      <td>1.0</td>\n",
       "      <td>0.844512</td>\n",
       "      <td>Washington</td>\n",
       "      <td>U.S.</td>\n",
       "      <td>Politics</td>\n",
       "      <td>Under Pence, Politics Regularly Seeped Into the Coronavirus Task Force</td>\n",
       "      <td>In taking a leading role in managing the White House’s response to the pandemic, the vice president and his team had...</td>\n",
       "      <td>[Pence, Mike, Coronavirus (2019-nCoV), United States Politics and Government, Presidential Election of 2020, Trump, ...</td>\n",
       "    </tr>\n",
       "    <tr>\n",
       "      <th>190</th>\n",
       "      <td>0.0</td>\n",
       "      <td>1.0</td>\n",
       "      <td>0.837098</td>\n",
       "      <td>The Upshot</td>\n",
       "      <td>The Upshot</td>\n",
       "      <td>NaN</td>\n",
       "      <td>The Pandemic Has Hindered Many of the Best Ideas for Reducing Violence</td>\n",
       "      <td>That may be one part of this year’s rise in violent crime.</td>\n",
       "      <td>[Crime and Criminals, Therapy and Rehabilitation, Nonprofit Organizations, Shutdowns (Institutional), Coronavirus (2...</td>\n",
       "    </tr>\n",
       "    <tr>\n",
       "      <th>318</th>\n",
       "      <td>0.0</td>\n",
       "      <td>1.0</td>\n",
       "      <td>0.829171</td>\n",
       "      <td>Metropolitan</td>\n",
       "      <td>New York</td>\n",
       "      <td>NaN</td>\n",
       "      <td>Their Buzzy Off Broadway Play Shut Down. Here’s What They Did Next.</td>\n",
       "      <td>When the virus forced New York theater to go dark, it upended thousands of lives, from actors to ticket takers. An a...</td>\n",
       "      <td>[Theater, New York City, Playwrights Horizons, Greenfield, Adam, Khoury, Sylvia, Selling Kabul (Play), Quarantine (L...</td>\n",
       "    </tr>\n",
       "    <tr>\n",
       "      <th>227</th>\n",
       "      <td>0.0</td>\n",
       "      <td>1.0</td>\n",
       "      <td>0.826981</td>\n",
       "      <td>OpEd</td>\n",
       "      <td>Opinion</td>\n",
       "      <td>NaN</td>\n",
       "      <td>One Woman’s Revenge Against the Nazis</td>\n",
       "      <td>Her actions have become legend in a small Czech town.</td>\n",
       "      <td>[World War II (1939-45), Holocaust and the Nazi Era, Czech Republic, Documentary Films and Programs, Sex Crimes, Syp...</td>\n",
       "    </tr>\n",
       "    <tr>\n",
       "      <th>423</th>\n",
       "      <td>0.0</td>\n",
       "      <td>1.0</td>\n",
       "      <td>0.821369</td>\n",
       "      <td>Washington</td>\n",
       "      <td>U.S.</td>\n",
       "      <td>Politics</td>\n",
       "      <td>Parties Offer Divergent Portraits of Barrett as Senate Opens Hearings</td>\n",
       "      <td>Democrats will portray President Trump’s Supreme Court nominee as an ideologue, while Republicans will paint her as ...</td>\n",
       "      <td>[Barrett, Amy Coney, Supreme Court (US), Appointments and Executive Changes, United States Politics and Government, ...</td>\n",
       "    </tr>\n",
       "    <tr>\n",
       "      <th>426</th>\n",
       "      <td>0.0</td>\n",
       "      <td>1.0</td>\n",
       "      <td>0.808347</td>\n",
       "      <td>Washington</td>\n",
       "      <td>U.S.</td>\n",
       "      <td>Politics</td>\n",
       "      <td>Trump’s Virus Treatment Revives Questions About Unchecked Nuclear Authority</td>\n",
       "      <td>Even before the president was given mood-altering drugs, there was a movement to end the commander in chief’s sole a...</td>\n",
       "      <td>[Trump, Donald J, White House Coronavirus Outbreak (2020), Coronavirus (2019-nCoV), Dexamethasone (Drug), Twenty-Fif...</td>\n",
       "    </tr>\n",
       "    <tr>\n",
       "      <th>69</th>\n",
       "      <td>0.0</td>\n",
       "      <td>1.0</td>\n",
       "      <td>0.803129</td>\n",
       "      <td>Washington</td>\n",
       "      <td>U.S.</td>\n",
       "      <td>Politics</td>\n",
       "      <td>Peace Corps Faces Questions Over Another Volunteer Death</td>\n",
       "      <td>A 24-year-old volunteer died of undiagnosed malaria on the island nation of Comoros. It was one of at least three de...</td>\n",
       "      <td>[Volunteers and Community Service, United States Politics and Government, Peace Corps, Castle, Nicholas Matthew (199...</td>\n",
       "    </tr>\n",
       "    <tr>\n",
       "      <th>462</th>\n",
       "      <td>0.0</td>\n",
       "      <td>1.0</td>\n",
       "      <td>0.800225</td>\n",
       "      <td>Foreign</td>\n",
       "      <td>World</td>\n",
       "      <td>Asia Pacific</td>\n",
       "      <td>‘We Were Bulletproof’: As Child Soldiers Grow Up, Legacy of War Lingers</td>\n",
       "      <td>Twin leaders of Myanmar’s God’s Army were once thought to have magical powers. Now adults, they are contending with ...</td>\n",
       "      <td>[Child Soldiers, Myanmar, Refugees and Displaced Persons, Karen National Union, Defense and Military Forces, God's A...</td>\n",
       "    </tr>\n",
       "  </tbody>\n",
       "</table>\n",
       "</div>"
      ],
      "text/plain": [
       "     actual  predicted     proba      newsdesk     section    subsection  \\\n",
       "254     0.0        1.0  0.937960          OpEd     Opinion           NaN   \n",
       "66      0.0        1.0  0.931563      Politics        U.S.      Politics   \n",
       "321     0.0        1.0  0.844512    Washington        U.S.      Politics   \n",
       "190     0.0        1.0  0.837098    The Upshot  The Upshot           NaN   \n",
       "318     0.0        1.0  0.829171  Metropolitan    New York           NaN   \n",
       "227     0.0        1.0  0.826981          OpEd     Opinion           NaN   \n",
       "423     0.0        1.0  0.821369    Washington        U.S.      Politics   \n",
       "426     0.0        1.0  0.808347    Washington        U.S.      Politics   \n",
       "69      0.0        1.0  0.803129    Washington        U.S.      Politics   \n",
       "462     0.0        1.0  0.800225       Foreign       World  Asia Pacific   \n",
       "\n",
       "                                                                        headline  \\\n",
       "254            What We Can Learn From the Rise and Fall of ‘Political Blackness’   \n",
       "66                      Democrats Mount an All-Out Effort to Get Detroit to Vote   \n",
       "321       Under Pence, Politics Regularly Seeped Into the Coronavirus Task Force   \n",
       "190       The Pandemic Has Hindered Many of the Best Ideas for Reducing Violence   \n",
       "318          Their Buzzy Off Broadway Play Shut Down. Here’s What They Did Next.   \n",
       "227                                        One Woman’s Revenge Against the Nazis   \n",
       "423        Parties Offer Divergent Portraits of Barrett as Senate Opens Hearings   \n",
       "426  Trump’s Virus Treatment Revives Questions About Unchecked Nuclear Authority   \n",
       "69                      Peace Corps Faces Questions Over Another Volunteer Death   \n",
       "462      ‘We Were Bulletproof’: As Child Soldiers Grow Up, Legacy of War Lingers   \n",
       "\n",
       "                                                                                                                    abstract  \\\n",
       "254                           Before “people of color” and BIPOC, Britain had its own inclusive concept for nonwhite people.   \n",
       "66   Urgently trying to avoid a repeat of 2016, when Donald Trump won Michigan by a razor-thin margin, Democrats have bee...   \n",
       "321  In taking a leading role in managing the White House’s response to the pandemic, the vice president and his team had...   \n",
       "190                                                               That may be one part of this year’s rise in violent crime.   \n",
       "318  When the virus forced New York theater to go dark, it upended thousands of lives, from actors to ticket takers. An a...   \n",
       "227                                                                    Her actions have become legend in a small Czech town.   \n",
       "423  Democrats will portray President Trump’s Supreme Court nominee as an ideologue, while Republicans will paint her as ...   \n",
       "426  Even before the president was given mood-altering drugs, there was a movement to end the commander in chief’s sole a...   \n",
       "69   A 24-year-old volunteer died of undiagnosed malaria on the island nation of Comoros. It was one of at least three de...   \n",
       "462  Twin leaders of Myanmar’s God’s Army were once thought to have magical powers. Now adults, they are contending with ...   \n",
       "\n",
       "                                                                                                                    keywords  \n",
       "254                           [Black People, Blacks, Race and Ethnicity, Minorities, Great Britain, Politics and Government]  \n",
       "66   [Presidential Election of 2020, Black People, Blacks, Biden, Joseph R Jr, Harris, Kamala D, Trump, Donald J, Detroit...  \n",
       "321  [Pence, Mike, Coronavirus (2019-nCoV), United States Politics and Government, Presidential Election of 2020, Trump, ...  \n",
       "190  [Crime and Criminals, Therapy and Rehabilitation, Nonprofit Organizations, Shutdowns (Institutional), Coronavirus (2...  \n",
       "318  [Theater, New York City, Playwrights Horizons, Greenfield, Adam, Khoury, Sylvia, Selling Kabul (Play), Quarantine (L...  \n",
       "227  [World War II (1939-45), Holocaust and the Nazi Era, Czech Republic, Documentary Films and Programs, Sex Crimes, Syp...  \n",
       "423  [Barrett, Amy Coney, Supreme Court (US), Appointments and Executive Changes, United States Politics and Government, ...  \n",
       "426  [Trump, Donald J, White House Coronavirus Outbreak (2020), Coronavirus (2019-nCoV), Dexamethasone (Drug), Twenty-Fif...  \n",
       "69   [Volunteers and Community Service, United States Politics and Government, Peace Corps, Castle, Nicholas Matthew (199...  \n",
       "462  [Child Soldiers, Myanmar, Refugees and Displaced Persons, Karen National Union, Defense and Military Forces, God's A...  "
      ]
     },
     "execution_count": 56,
     "metadata": {},
     "output_type": "execute_result"
    }
   ],
   "source": [
    "# Looking at false positives\n",
    "wrong_predictions[wrong_predictions['proba'] > 0.80].head(10).sort_values(by='proba', ascending=False)"
   ]
  },
  {
   "cell_type": "code",
   "execution_count": 57,
   "metadata": {
    "ExecuteTime": {
     "end_time": "2021-01-21T08:04:51.393164Z",
     "start_time": "2021-01-21T08:04:19.949Z"
    },
    "scrolled": false
   },
   "outputs": [
    {
     "data": {
      "text/html": [
       "<div>\n",
       "<style scoped>\n",
       "    .dataframe tbody tr th:only-of-type {\n",
       "        vertical-align: middle;\n",
       "    }\n",
       "\n",
       "    .dataframe tbody tr th {\n",
       "        vertical-align: top;\n",
       "    }\n",
       "\n",
       "    .dataframe thead th {\n",
       "        text-align: right;\n",
       "    }\n",
       "</style>\n",
       "<table border=\"1\" class=\"dataframe\">\n",
       "  <thead>\n",
       "    <tr style=\"text-align: right;\">\n",
       "      <th></th>\n",
       "      <th>actual</th>\n",
       "      <th>predicted</th>\n",
       "      <th>proba</th>\n",
       "      <th>newsdesk</th>\n",
       "      <th>section</th>\n",
       "      <th>subsection</th>\n",
       "      <th>headline</th>\n",
       "      <th>abstract</th>\n",
       "      <th>keywords</th>\n",
       "    </tr>\n",
       "  </thead>\n",
       "  <tbody>\n",
       "    <tr>\n",
       "      <th>34</th>\n",
       "      <td>1.0</td>\n",
       "      <td>0.0</td>\n",
       "      <td>0.094006</td>\n",
       "      <td>Weekend</td>\n",
       "      <td>Arts</td>\n",
       "      <td>Music</td>\n",
       "      <td>The Special Place Where Ella Fitzgerald Comes Alive</td>\n",
       "      <td>The singer’s concert recordings have always had a power that her studio outings could only imply. “Ella: The Lost Be...</td>\n",
       "      <td>[Jazz, Fitzgerald, Ella, Ella: The Lost Berlin Tapes (Album)]</td>\n",
       "    </tr>\n",
       "    <tr>\n",
       "      <th>50</th>\n",
       "      <td>1.0</td>\n",
       "      <td>0.0</td>\n",
       "      <td>0.105682</td>\n",
       "      <td>RealEstate</td>\n",
       "      <td>Real Estate</td>\n",
       "      <td>NaN</td>\n",
       "      <td>Real Estate Sales Continue to Stagnate in Manhattan</td>\n",
       "      <td>The number of apartments sold in the last three months was down by 46 percent compared to the same period in 2019.</td>\n",
       "      <td>[Real Estate and Housing (Residential), Quarantine (Life and Culture), Shutdowns (Institutional), Condominiums, Manh...</td>\n",
       "    </tr>\n",
       "    <tr>\n",
       "      <th>33</th>\n",
       "      <td>1.0</td>\n",
       "      <td>0.0</td>\n",
       "      <td>0.237722</td>\n",
       "      <td>Well</td>\n",
       "      <td>Well</td>\n",
       "      <td>Live</td>\n",
       "      <td>Where You Carry Body Fat May Affect How Long You Live</td>\n",
       "      <td>Extra weight in some places may lower your risk of dying prematurely.</td>\n",
       "      <td>[Weight, Deaths (Fatalities)]</td>\n",
       "    </tr>\n",
       "    <tr>\n",
       "      <th>60</th>\n",
       "      <td>1.0</td>\n",
       "      <td>0.0</td>\n",
       "      <td>0.247927</td>\n",
       "      <td>Styles</td>\n",
       "      <td>Style</td>\n",
       "      <td>NaN</td>\n",
       "      <td>‘Ridicule’: The French Reaction to ‘Emily in Paris’</td>\n",
       "      <td>Darren Star’s latest serial goes down like sour wine for actual Parisians.</td>\n",
       "      <td>[Television, Emily in Paris (TV Program), Paris (France), your-feed-fashion]</td>\n",
       "    </tr>\n",
       "    <tr>\n",
       "      <th>17</th>\n",
       "      <td>1.0</td>\n",
       "      <td>0.0</td>\n",
       "      <td>0.298873</td>\n",
       "      <td>Well</td>\n",
       "      <td>Well</td>\n",
       "      <td>Mind</td>\n",
       "      <td>Laughter May Be Effective Medicine for These Trying Times</td>\n",
       "      <td>Doctors, nurses and therapists have a prescription for helping all of us to get through these difficult times: Try a...</td>\n",
       "      <td>[Content Type: Service, Anxiety and Stress, Laughter, Comedy and Humor, Emergency Medical Treatment, Hospitals, Coro...</td>\n",
       "    </tr>\n",
       "    <tr>\n",
       "      <th>98</th>\n",
       "      <td>1.0</td>\n",
       "      <td>0.0</td>\n",
       "      <td>0.340034</td>\n",
       "      <td>Summary</td>\n",
       "      <td>Times Insider</td>\n",
       "      <td>NaN</td>\n",
       "      <td>Following Falsehoods: A Reporter’s Approach on QAnon</td>\n",
       "      <td>Kevin Roose, a Times tech columnist, has watched the baseless conspiracy theory grow from fringe internet subculture...</td>\n",
       "      <td>[QAnon, Conspiracy Theories, News and News Media, Rumors and Misinformation, Fringe Groups and Movements, Trump, Don...</td>\n",
       "    </tr>\n",
       "    <tr>\n",
       "      <th>28</th>\n",
       "      <td>1.0</td>\n",
       "      <td>0.0</td>\n",
       "      <td>0.349069</td>\n",
       "      <td>TStyle</td>\n",
       "      <td>T Magazine</td>\n",
       "      <td>NaN</td>\n",
       "      <td>On Long Island, a Beachfront Haven for Black Families</td>\n",
       "      <td>In the 1930s, a group of trailblazing African-Americans bought plots for themselves in Sag Harbor, establishing a cl...</td>\n",
       "      <td>[Black People, Blacks, Sag Harbor (NY), Families and Family Life, Historic Buildings and Sites, Real Estate and Hous...</td>\n",
       "    </tr>\n",
       "    <tr>\n",
       "      <th>19</th>\n",
       "      <td>1.0</td>\n",
       "      <td>0.0</td>\n",
       "      <td>0.353092</td>\n",
       "      <td>Dining</td>\n",
       "      <td>Food</td>\n",
       "      <td>Wine, Beer &amp; Cocktails</td>\n",
       "      <td>Jim Murray, a Top Whiskey Critic, Faces Accusations of Sexism</td>\n",
       "      <td>Several distillers and retailers have severed ties to the British writer, after complaints surfaced about the treatm...</td>\n",
       "      <td>[Whiskey, Murray, Jim (1957- ), Discrimination, Women and Girls, Jim Murray's Whisky Bible (Book), Books and Literat...</td>\n",
       "    </tr>\n",
       "    <tr>\n",
       "      <th>76</th>\n",
       "      <td>1.0</td>\n",
       "      <td>0.0</td>\n",
       "      <td>0.381530</td>\n",
       "      <td>Science</td>\n",
       "      <td>Health</td>\n",
       "      <td>NaN</td>\n",
       "      <td>Trump Has the Coronavirus. What Risks Does He Face?</td>\n",
       "      <td>Older men have a greater chance of becoming severely ill from Covid-19, though many recover quickly. Experts say the...</td>\n",
       "      <td>[Trump, Donald J, United States, Presidential Election of 2020, Coronavirus (2019-nCoV), Dexamethasone (Drug), Obesi...</td>\n",
       "    </tr>\n",
       "    <tr>\n",
       "      <th>102</th>\n",
       "      <td>1.0</td>\n",
       "      <td>0.0</td>\n",
       "      <td>0.384231</td>\n",
       "      <td>Express</td>\n",
       "      <td>World</td>\n",
       "      <td>Europe</td>\n",
       "      <td>Arctic Expedition’s Dress Code Raises Concerns About Sexism in Science</td>\n",
       "      <td>The scientific institute leading the trip denied that its policy had been applied to a specific sex, saying, “Women ...</td>\n",
       "      <td>[Wegener, Alfred, Institute for Polar and Marine Research, Science and Technology, Research, Workplace Hazards and V...</td>\n",
       "    </tr>\n",
       "  </tbody>\n",
       "</table>\n",
       "</div>"
      ],
      "text/plain": [
       "     actual  predicted     proba    newsdesk        section  \\\n",
       "34      1.0        0.0  0.094006     Weekend           Arts   \n",
       "50      1.0        0.0  0.105682  RealEstate    Real Estate   \n",
       "33      1.0        0.0  0.237722        Well           Well   \n",
       "60      1.0        0.0  0.247927      Styles          Style   \n",
       "17      1.0        0.0  0.298873        Well           Well   \n",
       "98      1.0        0.0  0.340034     Summary  Times Insider   \n",
       "28      1.0        0.0  0.349069      TStyle     T Magazine   \n",
       "19      1.0        0.0  0.353092      Dining           Food   \n",
       "76      1.0        0.0  0.381530     Science         Health   \n",
       "102     1.0        0.0  0.384231     Express          World   \n",
       "\n",
       "                 subsection  \\\n",
       "34                    Music   \n",
       "50                      NaN   \n",
       "33                     Live   \n",
       "60                      NaN   \n",
       "17                     Mind   \n",
       "98                      NaN   \n",
       "28                      NaN   \n",
       "19   Wine, Beer & Cocktails   \n",
       "76                      NaN   \n",
       "102                  Europe   \n",
       "\n",
       "                                                                   headline  \\\n",
       "34                      The Special Place Where Ella Fitzgerald Comes Alive   \n",
       "50                      Real Estate Sales Continue to Stagnate in Manhattan   \n",
       "33                    Where You Carry Body Fat May Affect How Long You Live   \n",
       "60                      ‘Ridicule’: The French Reaction to ‘Emily in Paris’   \n",
       "17                Laughter May Be Effective Medicine for These Trying Times   \n",
       "98                     Following Falsehoods: A Reporter’s Approach on QAnon   \n",
       "28                    On Long Island, a Beachfront Haven for Black Families   \n",
       "19            Jim Murray, a Top Whiskey Critic, Faces Accusations of Sexism   \n",
       "76                      Trump Has the Coronavirus. What Risks Does He Face?   \n",
       "102  Arctic Expedition’s Dress Code Raises Concerns About Sexism in Science   \n",
       "\n",
       "                                                                                                                    abstract  \\\n",
       "34   The singer’s concert recordings have always had a power that her studio outings could only imply. “Ella: The Lost Be...   \n",
       "50        The number of apartments sold in the last three months was down by 46 percent compared to the same period in 2019.   \n",
       "33                                                     Extra weight in some places may lower your risk of dying prematurely.   \n",
       "60                                                Darren Star’s latest serial goes down like sour wine for actual Parisians.   \n",
       "17   Doctors, nurses and therapists have a prescription for helping all of us to get through these difficult times: Try a...   \n",
       "98   Kevin Roose, a Times tech columnist, has watched the baseless conspiracy theory grow from fringe internet subculture...   \n",
       "28   In the 1930s, a group of trailblazing African-Americans bought plots for themselves in Sag Harbor, establishing a cl...   \n",
       "19   Several distillers and retailers have severed ties to the British writer, after complaints surfaced about the treatm...   \n",
       "76   Older men have a greater chance of becoming severely ill from Covid-19, though many recover quickly. Experts say the...   \n",
       "102  The scientific institute leading the trip denied that its policy had been applied to a specific sex, saying, “Women ...   \n",
       "\n",
       "                                                                                                                    keywords  \n",
       "34                                                             [Jazz, Fitzgerald, Ella, Ella: The Lost Berlin Tapes (Album)]  \n",
       "50   [Real Estate and Housing (Residential), Quarantine (Life and Culture), Shutdowns (Institutional), Condominiums, Manh...  \n",
       "33                                                                                             [Weight, Deaths (Fatalities)]  \n",
       "60                                              [Television, Emily in Paris (TV Program), Paris (France), your-feed-fashion]  \n",
       "17   [Content Type: Service, Anxiety and Stress, Laughter, Comedy and Humor, Emergency Medical Treatment, Hospitals, Coro...  \n",
       "98   [QAnon, Conspiracy Theories, News and News Media, Rumors and Misinformation, Fringe Groups and Movements, Trump, Don...  \n",
       "28   [Black People, Blacks, Sag Harbor (NY), Families and Family Life, Historic Buildings and Sites, Real Estate and Hous...  \n",
       "19   [Whiskey, Murray, Jim (1957- ), Discrimination, Women and Girls, Jim Murray's Whisky Bible (Book), Books and Literat...  \n",
       "76   [Trump, Donald J, United States, Presidential Election of 2020, Coronavirus (2019-nCoV), Dexamethasone (Drug), Obesi...  \n",
       "102  [Wegener, Alfred, Institute for Polar and Marine Research, Science and Technology, Research, Workplace Hazards and V...  "
      ]
     },
     "execution_count": 57,
     "metadata": {},
     "output_type": "execute_result"
    }
   ],
   "source": [
    "# Looking at false negatives\n",
    "wrong_predictions[wrong_predictions['proba'] < 0.4].head(10).sort_values(by='proba')"
   ]
  },
  {
   "cell_type": "markdown",
   "metadata": {},
   "source": [
    "### Correct Prediction Analysis"
   ]
  },
  {
   "cell_type": "code",
   "execution_count": 58,
   "metadata": {},
   "outputs": [],
   "source": [
    "predictions = pd.merge(predictions, init_test, left_index=True, right_index=True)"
   ]
  },
  {
   "cell_type": "code",
   "execution_count": 59,
   "metadata": {},
   "outputs": [],
   "source": [
    "predictions = predictions[['actual', 'predicted', 'proba', 'newsdesk', 'section', 'subsection',\n",
    "                                       'headline', 'abstract', 'keywords']]"
   ]
  },
  {
   "cell_type": "code",
   "execution_count": 60,
   "metadata": {},
   "outputs": [
    {
     "data": {
      "text/html": [
       "<div>\n",
       "<style scoped>\n",
       "    .dataframe tbody tr th:only-of-type {\n",
       "        vertical-align: middle;\n",
       "    }\n",
       "\n",
       "    .dataframe tbody tr th {\n",
       "        vertical-align: top;\n",
       "    }\n",
       "\n",
       "    .dataframe thead th {\n",
       "        text-align: right;\n",
       "    }\n",
       "</style>\n",
       "<table border=\"1\" class=\"dataframe\">\n",
       "  <thead>\n",
       "    <tr style=\"text-align: right;\">\n",
       "      <th></th>\n",
       "      <th>actual</th>\n",
       "      <th>predicted</th>\n",
       "      <th>proba</th>\n",
       "      <th>newsdesk</th>\n",
       "      <th>section</th>\n",
       "      <th>subsection</th>\n",
       "      <th>headline</th>\n",
       "      <th>abstract</th>\n",
       "      <th>keywords</th>\n",
       "    </tr>\n",
       "  </thead>\n",
       "  <tbody>\n",
       "    <tr>\n",
       "      <th>1087</th>\n",
       "      <td>1.0</td>\n",
       "      <td>1.0</td>\n",
       "      <td>1.000000</td>\n",
       "      <td>OpEd</td>\n",
       "      <td>Opinion</td>\n",
       "      <td>NaN</td>\n",
       "      <td>Trump’s Army of Angry White Men</td>\n",
       "      <td>This group will continue to fight for Trump and he knows that.</td>\n",
       "      <td>[Presidential Election of 2020, Polls and Public Opinion, Whites, Race and Ethnicity, Right-Wing Extremism and Alt-R...</td>\n",
       "    </tr>\n",
       "    <tr>\n",
       "      <th>2146</th>\n",
       "      <td>1.0</td>\n",
       "      <td>1.0</td>\n",
       "      <td>0.998882</td>\n",
       "      <td>Games</td>\n",
       "      <td>Crosswords &amp; Games</td>\n",
       "      <td>NaN</td>\n",
       "      <td>Baked Treat on a Stick</td>\n",
       "      <td>Kyle Dolan’s puzzle grows on us.</td>\n",
       "      <td>[Crossword Puzzles]</td>\n",
       "    </tr>\n",
       "    <tr>\n",
       "      <th>1054</th>\n",
       "      <td>1.0</td>\n",
       "      <td>1.0</td>\n",
       "      <td>0.998333</td>\n",
       "      <td>OpEd</td>\n",
       "      <td>Opinion</td>\n",
       "      <td>NaN</td>\n",
       "      <td>The Shrinking of the American Mind</td>\n",
       "      <td>What wasn’t said at the debates was as telling as what was.</td>\n",
       "      <td>[Presidential Election of 2020, European Union, Biden, Hunter, Trump, Donald J, North Atlantic Treaty Organization, ...</td>\n",
       "    </tr>\n",
       "    <tr>\n",
       "      <th>663</th>\n",
       "      <td>1.0</td>\n",
       "      <td>1.0</td>\n",
       "      <td>0.996100</td>\n",
       "      <td>OpEd</td>\n",
       "      <td>Opinion</td>\n",
       "      <td>NaN</td>\n",
       "      <td>How the G.O.P. Can Still Wreck America</td>\n",
       "      <td>Even if Trump loses, his party can do immense damage.</td>\n",
       "      <td>[Presidential Election of 2020, State Legislatures, Elections, Senate, Global Warming, National Debt (US), Coronavir...</td>\n",
       "    </tr>\n",
       "    <tr>\n",
       "      <th>1640</th>\n",
       "      <td>1.0</td>\n",
       "      <td>1.0</td>\n",
       "      <td>0.996069</td>\n",
       "      <td>OpEd</td>\n",
       "      <td>Opinion</td>\n",
       "      <td>NaN</td>\n",
       "      <td>We Waited in Vain for a Repudiation That Never Came</td>\n",
       "      <td>Trump may well end up losing to Biden, but Trumpism remains a viable political strategy.</td>\n",
       "      <td>[Presidential Election of 2020, United States Politics and Government, Black People, Blacks, Race and Ethnicity, Dem...</td>\n",
       "    </tr>\n",
       "  </tbody>\n",
       "</table>\n",
       "</div>"
      ],
      "text/plain": [
       "      actual  predicted     proba newsdesk             section subsection  \\\n",
       "1087     1.0        1.0  1.000000     OpEd             Opinion        NaN   \n",
       "2146     1.0        1.0  0.998882    Games  Crosswords & Games        NaN   \n",
       "1054     1.0        1.0  0.998333     OpEd             Opinion        NaN   \n",
       "663      1.0        1.0  0.996100     OpEd             Opinion        NaN   \n",
       "1640     1.0        1.0  0.996069     OpEd             Opinion        NaN   \n",
       "\n",
       "                                                 headline  \\\n",
       "1087                      Trump’s Army of Angry White Men   \n",
       "2146                               Baked Treat on a Stick   \n",
       "1054                   The Shrinking of the American Mind   \n",
       "663                How the G.O.P. Can Still Wreck America   \n",
       "1640  We Waited in Vain for a Repudiation That Never Came   \n",
       "\n",
       "                                                                                      abstract  \\\n",
       "1087                            This group will continue to fight for Trump and he knows that.   \n",
       "2146                                                          Kyle Dolan’s puzzle grows on us.   \n",
       "1054                               What wasn’t said at the debates was as telling as what was.   \n",
       "663                                      Even if Trump loses, his party can do immense damage.   \n",
       "1640  Trump may well end up losing to Biden, but Trumpism remains a viable political strategy.   \n",
       "\n",
       "                                                                                                                     keywords  \n",
       "1087  [Presidential Election of 2020, Polls and Public Opinion, Whites, Race and Ethnicity, Right-Wing Extremism and Alt-R...  \n",
       "2146                                                                                                      [Crossword Puzzles]  \n",
       "1054  [Presidential Election of 2020, European Union, Biden, Hunter, Trump, Donald J, North Atlantic Treaty Organization, ...  \n",
       "663   [Presidential Election of 2020, State Legislatures, Elections, Senate, Global Warming, National Debt (US), Coronavir...  \n",
       "1640  [Presidential Election of 2020, United States Politics and Government, Black People, Blacks, Race and Ethnicity, Dem...  "
      ]
     },
     "execution_count": 60,
     "metadata": {},
     "output_type": "execute_result"
    }
   ],
   "source": [
    "predictions.sort_values(by='proba', ascending=False).head(5)"
   ]
  },
  {
   "cell_type": "code",
   "execution_count": 61,
   "metadata": {},
   "outputs": [
    {
     "data": {
      "text/html": [
       "<div>\n",
       "<style scoped>\n",
       "    .dataframe tbody tr th:only-of-type {\n",
       "        vertical-align: middle;\n",
       "    }\n",
       "\n",
       "    .dataframe tbody tr th {\n",
       "        vertical-align: top;\n",
       "    }\n",
       "\n",
       "    .dataframe thead th {\n",
       "        text-align: right;\n",
       "    }\n",
       "</style>\n",
       "<table border=\"1\" class=\"dataframe\">\n",
       "  <thead>\n",
       "    <tr style=\"text-align: right;\">\n",
       "      <th></th>\n",
       "      <th>actual</th>\n",
       "      <th>predicted</th>\n",
       "      <th>proba</th>\n",
       "      <th>newsdesk</th>\n",
       "      <th>section</th>\n",
       "      <th>subsection</th>\n",
       "      <th>headline</th>\n",
       "      <th>abstract</th>\n",
       "      <th>keywords</th>\n",
       "    </tr>\n",
       "  </thead>\n",
       "  <tbody>\n",
       "    <tr>\n",
       "      <th>3173</th>\n",
       "      <td>0.0</td>\n",
       "      <td>0.0</td>\n",
       "      <td>0.014920</td>\n",
       "      <td>Culture</td>\n",
       "      <td>Arts</td>\n",
       "      <td>Television</td>\n",
       "      <td>Jimmy Fallon: Trump’s Hanukkah Party Was a ‘Festival of Lies’</td>\n",
       "      <td>“Even the dreidel was looking at Trump like, ‘Damn, this guy spins more than I do,’” Fallon joked on Wednesday.</td>\n",
       "      <td>[Colbert, Stephen, Noah, Trevor (1984- ), Fallon, Jimmy, Trump, Donald J, The Tonight Show (TV Program), The Daily S...</td>\n",
       "    </tr>\n",
       "    <tr>\n",
       "      <th>3547</th>\n",
       "      <td>0.0</td>\n",
       "      <td>0.0</td>\n",
       "      <td>0.011199</td>\n",
       "      <td>RealEstate</td>\n",
       "      <td>Real Estate</td>\n",
       "      <td>NaN</td>\n",
       "      <td>Homes That Sold for Around $600,000</td>\n",
       "      <td>Recent residential sales in New York City and the region.</td>\n",
       "      <td>[Real Estate and Housing (Residential), NoMad (Manhattan, NY), Norwalk (Conn), Midwood (Brooklyn, NY), Mamaroneck (N...</td>\n",
       "    </tr>\n",
       "    <tr>\n",
       "      <th>1647</th>\n",
       "      <td>0.0</td>\n",
       "      <td>0.0</td>\n",
       "      <td>0.010915</td>\n",
       "      <td>Podcasts</td>\n",
       "      <td>Podcasts</td>\n",
       "      <td>The Daily</td>\n",
       "      <td>Joe Biden Has the Edge</td>\n",
       "      <td>The Democratic candidate won Michigan and Wisconsin and seems to be well placed in other key states. President Trump...</td>\n",
       "      <td>[United States Politics and Government, Presidential Election of 2020, Absentee Voting, States (US), Trump, Donald J...</td>\n",
       "    </tr>\n",
       "    <tr>\n",
       "      <th>412</th>\n",
       "      <td>0.0</td>\n",
       "      <td>0.0</td>\n",
       "      <td>0.008919</td>\n",
       "      <td>RealEstate</td>\n",
       "      <td>Real Estate</td>\n",
       "      <td>NaN</td>\n",
       "      <td>Homes That Sold for Around $625,000</td>\n",
       "      <td>Recent residential sales in New York City and the region.</td>\n",
       "      <td>[Real Estate and Housing (Residential), Hastings-on-Hudson (NY), Midtown Area (Manhattan, NY), Park Slope (Brooklyn,...</td>\n",
       "    </tr>\n",
       "    <tr>\n",
       "      <th>976</th>\n",
       "      <td>0.0</td>\n",
       "      <td>0.0</td>\n",
       "      <td>0.008611</td>\n",
       "      <td>Metro</td>\n",
       "      <td>New York</td>\n",
       "      <td>NaN</td>\n",
       "      <td>New York Lockdown Rules: What to Know</td>\n",
       "      <td>Schools and nonessential business can reopen in some zones that were deemed virus hot spots, but  restrictions remai...</td>\n",
       "      <td>[New York City, Coronavirus Reopenings, Brooklyn (NYC), Lawrence, Jacob, Queens (NYC), Cuomo, Andrew M, Metropolitan...</td>\n",
       "    </tr>\n",
       "  </tbody>\n",
       "</table>\n",
       "</div>"
      ],
      "text/plain": [
       "      actual  predicted     proba    newsdesk      section  subsection  \\\n",
       "3173     0.0        0.0  0.014920     Culture         Arts  Television   \n",
       "3547     0.0        0.0  0.011199  RealEstate  Real Estate         NaN   \n",
       "1647     0.0        0.0  0.010915    Podcasts     Podcasts   The Daily   \n",
       "412      0.0        0.0  0.008919  RealEstate  Real Estate         NaN   \n",
       "976      0.0        0.0  0.008611       Metro     New York         NaN   \n",
       "\n",
       "                                                           headline  \\\n",
       "3173  Jimmy Fallon: Trump’s Hanukkah Party Was a ‘Festival of Lies’   \n",
       "3547                            Homes That Sold for Around $600,000   \n",
       "1647                                         Joe Biden Has the Edge   \n",
       "412                             Homes That Sold for Around $625,000   \n",
       "976                           New York Lockdown Rules: What to Know   \n",
       "\n",
       "                                                                                                                     abstract  \\\n",
       "3173          “Even the dreidel was looking at Trump like, ‘Damn, this guy spins more than I do,’” Fallon joked on Wednesday.   \n",
       "3547                                                                Recent residential sales in New York City and the region.   \n",
       "1647  The Democratic candidate won Michigan and Wisconsin and seems to be well placed in other key states. President Trump...   \n",
       "412                                                                 Recent residential sales in New York City and the region.   \n",
       "976   Schools and nonessential business can reopen in some zones that were deemed virus hot spots, but  restrictions remai...   \n",
       "\n",
       "                                                                                                                     keywords  \n",
       "3173  [Colbert, Stephen, Noah, Trevor (1984- ), Fallon, Jimmy, Trump, Donald J, The Tonight Show (TV Program), The Daily S...  \n",
       "3547  [Real Estate and Housing (Residential), NoMad (Manhattan, NY), Norwalk (Conn), Midwood (Brooklyn, NY), Mamaroneck (N...  \n",
       "1647  [United States Politics and Government, Presidential Election of 2020, Absentee Voting, States (US), Trump, Donald J...  \n",
       "412   [Real Estate and Housing (Residential), Hastings-on-Hudson (NY), Midtown Area (Manhattan, NY), Park Slope (Brooklyn,...  \n",
       "976   [New York City, Coronavirus Reopenings, Brooklyn (NYC), Lawrence, Jacob, Queens (NYC), Cuomo, Andrew M, Metropolitan...  "
      ]
     },
     "execution_count": 61,
     "metadata": {},
     "output_type": "execute_result"
    }
   ],
   "source": [
    "predictions.sort_values(by='proba', ascending=False).tail(5)"
   ]
  },
  {
   "cell_type": "markdown",
   "metadata": {},
   "source": [
    "## Model Insights"
   ]
  },
  {
   "cell_type": "markdown",
   "metadata": {},
   "source": [
    "Generally, our most important features regardless of model include newsdesk and section popularity. It goes to show that you can't ignore where an article is posted or placed when it comes to predicting popularity."
   ]
  },
  {
   "cell_type": "markdown",
   "metadata": {},
   "source": [
    "### Random Forest Feature Importance"
   ]
  },
  {
   "cell_type": "code",
   "execution_count": 62,
   "metadata": {
    "ExecuteTime": {
     "end_time": "2021-01-21T08:04:51.393164Z",
     "start_time": "2021-01-21T08:04:19.952Z"
    }
   },
   "outputs": [
    {
     "data": {
      "text/plain": [
       "<AxesSubplot:>"
      ]
     },
     "execution_count": 62,
     "metadata": {},
     "output_type": "execute_result"
    },
    {
     "data": {
      "image/png": "[encoded data removed]",
      "text/plain": [
       "<Figure size 720x864 with 1 Axes>"
      ]
     },
     "metadata": {
      "needs_background": "light"
     },
     "output_type": "display_data"
    }
   ],
   "source": [
    "plt.figure(figsize=(10,12))\n",
    "rf_feature_imp = pd.Series(rf_gs[1][1].feature_importances_, index=X.columns).sort_values(ascending=False)\n",
    "rf_feature_imp.sort_values().plot(kind = 'barh')"
   ]
  },
  {
   "cell_type": "markdown",
   "metadata": {},
   "source": [
    "### XGBoost Feature Importance"
   ]
  },
  {
   "cell_type": "code",
   "execution_count": 63,
   "metadata": {
    "ExecuteTime": {
     "end_time": "2021-01-21T08:04:51.394165Z",
     "start_time": "2021-01-21T08:04:19.955Z"
    }
   },
   "outputs": [],
   "source": [
    "scores_dict = xgb_gs.steps[1][1]._Booster.get_score(importance_type='gain')"
   ]
  },
  {
   "cell_type": "code",
   "execution_count": 64,
   "metadata": {},
   "outputs": [],
   "source": [
    "total_cover = pd.DataFrame(xgb_gs.steps[1][1]._Booster.get_score(importance_type='total_cover'), index=[0]) \\\n",
    "            .T.reset_index()\n",
    "total_cover.columns = ['feature', 'total cover']\n",
    "total_cover = total_cover.sort_values(by='total cover', ascending=False)"
   ]
  },
  {
   "cell_type": "code",
   "execution_count": 65,
   "metadata": {},
   "outputs": [],
   "source": [
    "total_gain = pd.DataFrame(xgb_gs.steps[1][1]._Booster.get_score(importance_type='total_gain'), index=[0]) \\\n",
    "            .T.reset_index()\n",
    "total_gain.columns = ['feature', 'total gain']\n",
    "total_gain = total_gain.sort_values(by='total gain', ascending=False)"
   ]
  },
  {
   "cell_type": "code",
   "execution_count": 66,
   "metadata": {
    "ExecuteTime": {
     "end_time": "2021-01-21T08:04:51.395166Z",
     "start_time": "2021-01-21T08:04:19.956Z"
    }
   },
   "outputs": [],
   "source": [
    "gain_df = pd.DataFrame(xgb_gs.steps[1][1]._Booster.get_score(importance_type='gain'), index=[0]) \\\n",
    "            .T.reset_index()\n",
    "gain_df.columns = ['feature', 'gain']\n",
    "gain_df = gain_df.sort_values(by='gain', ascending=False)"
   ]
  },
  {
   "cell_type": "code",
   "execution_count": 67,
   "metadata": {
    "ExecuteTime": {
     "end_time": "2021-01-21T08:04:51.395166Z",
     "start_time": "2021-01-21T08:04:19.958Z"
    }
   },
   "outputs": [],
   "source": [
    "weight_df = pd.DataFrame(xgb_gs.steps[1][1]._Booster.get_score(importance_type='weight'), index=[0]) \\\n",
    "            .T.reset_index()\n",
    "weight_df.columns = ['feature', 'weight']\n",
    "weight_df = weight_df.sort_values(by='weight', ascending=False)"
   ]
  },
  {
   "cell_type": "code",
   "execution_count": 68,
   "metadata": {
    "ExecuteTime": {
     "end_time": "2021-01-21T08:04:51.396165Z",
     "start_time": "2021-01-21T08:04:19.960Z"
    }
   },
   "outputs": [],
   "source": [
    "cover_df = pd.DataFrame(xgb_gs.steps[1][1]._Booster.get_score(importance_type='cover'), index=[0]) \\\n",
    "            .T.reset_index()\n",
    "cover_df.columns = ['feature', 'cover']\n",
    "cover_df = cover_df.sort_values(by='cover', ascending=False)"
   ]
  },
  {
   "cell_type": "code",
   "execution_count": 69,
   "metadata": {
    "ExecuteTime": {
     "end_time": "2021-01-21T08:04:51.397165Z",
     "start_time": "2021-01-21T08:04:19.962Z"
    }
   },
   "outputs": [
    {
     "data": {
      "image/png": "[encoded data removed]",
      "text/plain": [
       "<Figure size 576x864 with 1 Axes>"
      ]
     },
     "metadata": {
      "needs_background": "light"
     },
     "output_type": "display_data"
    }
   ],
   "source": [
    "plt.figure(figsize=(8,12))\n",
    "sns.barplot(data=gain_df, y='feature', x='gain', orient='h', palette='Reds_r')\n",
    "plt.ylabel('');\n",
    "plt.title('Gain', fontsize=18);"
   ]
  },
  {
   "cell_type": "code",
   "execution_count": 70,
   "metadata": {
    "ExecuteTime": {
     "end_time": "2021-01-21T08:04:51.397165Z",
     "start_time": "2021-01-21T08:04:19.964Z"
    }
   },
   "outputs": [
    {
     "data": {
      "image/png": "[encoded data removed]",
      "text/plain": [
       "<Figure size 576x864 with 1 Axes>"
      ]
     },
     "metadata": {
      "needs_background": "light"
     },
     "output_type": "display_data"
    }
   ],
   "source": [
    "plt.figure(figsize=(8,12))\n",
    "sns.barplot(data=weight_df, y='feature', x='weight', orient='h', palette='Blues_r')\n",
    "plt.ylabel('');\n",
    "plt.title('Weight', fontsize=18);"
   ]
  },
  {
   "cell_type": "code",
   "execution_count": 71,
   "metadata": {
    "ExecuteTime": {
     "end_time": "2021-01-21T08:04:51.398165Z",
     "start_time": "2021-01-21T08:04:19.965Z"
    }
   },
   "outputs": [
    {
     "data": {
      "image/png": "[encoded data removed]",
      "text/plain": [
       "<Figure size 576x864 with 1 Axes>"
      ]
     },
     "metadata": {
      "needs_background": "light"
     },
     "output_type": "display_data"
    }
   ],
   "source": [
    "plt.figure(figsize=(8,12))\n",
    "sns.barplot(data=cover_df, y='feature', x='cover', orient='h', palette='Greens_r')\n",
    "plt.ylabel('');\n",
    "plt.title('Cover', fontsize=18);"
   ]
  },
  {
   "cell_type": "code",
   "execution_count": 83,
   "metadata": {},
   "outputs": [
    {
     "data": {
      "image/png": "[encoded data removed]",
      "text/plain": [
       "<Figure size 576x864 with 1 Axes>"
      ]
     },
     "metadata": {
      "needs_background": "light"
     },
     "output_type": "display_data"
    }
   ],
   "source": [
    "plt.figure(figsize=(8,12))\n",
    "sns.barplot(data=total_gain, y='feature', x='total gain', orient='h', palette='Blues_r')\n",
    "plt.ylabel('');\n",
    "plt.xlabel('Total Gain', fontsize=12)\n",
    "plt.yticks(fontsize=12)\n",
    "plt.xticks(fontsize=12)\n",
    "plt.title('Total Gain', fontsize=18)\n",
    "plt.tight_layout()\n",
    "plt.savefig(fname='total_gain', dpi=180)"
   ]
  },
  {
   "cell_type": "code",
   "execution_count": 73,
   "metadata": {},
   "outputs": [
    {
     "data": {
      "image/png": "[encoded data removed]",
      "text/plain": [
       "<Figure size 576x864 with 1 Axes>"
      ]
     },
     "metadata": {
      "needs_background": "light"
     },
     "output_type": "display_data"
    }
   ],
   "source": [
    "plt.figure(figsize=(8,12))\n",
    "sns.barplot(data=total_cover, y='feature', x='total cover', orient='h', palette='Purples_r')\n",
    "plt.ylabel('');\n",
    "plt.xlabel('Total Cover', fontsize=12)\n",
    "plt.yticks(fontsize=12)\n",
    "plt.xticks(fontsize=12)\n",
    "plt.title('Total Cover', fontsize=18);"
   ]
  }
 ],
 "metadata": {
  "kernelspec": {
   "display_name": "Python 3",
   "language": "python",
   "name": "python3"
  },
  "language_info": {
   "codemirror_mode": {
    "name": "ipython",
    "version": 3
   },
   "file_extension": ".py",
   "mimetype": "text/x-python",
   "name": "python",
   "nbconvert_exporter": "python",
   "pygments_lexer": "ipython3",
   "version": "3.8.5"
  },
  "toc": {
   "base_numbering": 1,
   "nav_menu": {},
   "number_sections": false,
   "sideBar": true,
   "skip_h1_title": false,
   "title_cell": "Table of Contents",
   "title_sidebar": "Contents",
   "toc_cell": false,
   "toc_position": {
    "height": "calc(100% - 180px)",
    "left": "10px",
    "top": "150px",
    "width": "384px"
   },
   "toc_section_display": true,
   "toc_window_display": true
  }
 },
 "nbformat": 4,
 "nbformat_minor": 4
}
