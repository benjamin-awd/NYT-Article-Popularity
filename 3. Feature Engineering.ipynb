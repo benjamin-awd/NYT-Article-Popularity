{
 "cells": [
  {
   "cell_type": "markdown",
   "metadata": {},
   "source": [
    "# Feature Engineering & Preprocessing"
   ]
  },
  {
   "cell_type": "code",
   "execution_count": 1,
   "metadata": {
    "ExecuteTime": {
     "end_time": "2021-01-21T08:01:43.100084Z",
     "start_time": "2021-01-21T08:01:40.039509Z"
    }
   },
   "outputs": [],
   "source": [
    "import pickle\n",
    "import re\n",
    "import sys\n",
    "\n",
    "import pandas as pd\n",
    "import numpy as np\n",
    "import matplotlib.pyplot as plt\n",
    "import seaborn as sns\n",
    "from tqdm import tqdm\n",
    "\n",
    "from scipy.stats import boxcox, yeojohnson\n",
    "import nltk\n",
    "import spacy\n",
    "from nltk.sentiment.vader import SentimentIntensityAnalyzer as SIA\n",
    "from nltk.stem.snowball import SnowballStemmer\n",
    "from nltk.stem import WordNetLemmatizer\n",
    "from sklearn.feature_extraction import text\n",
    "from sklearn.feature_extraction.text import TfidfVectorizer\n",
    "from sklearn.cluster import KMeans, DBSCAN\n",
    "\n",
    "# Connect tqdm to pandas\n",
    "tqdm.pandas()\n",
    "\n",
    "pd.set_option('display.max_rows', 400)\n",
    "pd.set_option('max_colwidth', 50)\n",
    "pd.set_option('display.max_columns', None)"
   ]
  },
  {
   "cell_type": "code",
   "execution_count": 2,
   "metadata": {
    "ExecuteTime": {
     "end_time": "2021-01-21T08:01:43.104075Z",
     "start_time": "2021-01-21T08:01:40.027Z"
    }
   },
   "outputs": [],
   "source": [
    "train = pd.read_pickle(f'./datasets/train.pickle')"
   ]
  },
  {
   "cell_type": "code",
   "execution_count": 3,
   "metadata": {
    "ExecuteTime": {
     "end_time": "2021-01-21T08:01:43.105072Z",
     "start_time": "2021-01-21T08:01:40.029Z"
    }
   },
   "outputs": [],
   "source": [
    "n_comments = train['n_comments']"
   ]
  },
  {
   "cell_type": "code",
   "execution_count": 4,
   "metadata": {
    "ExecuteTime": {
     "end_time": "2021-01-21T08:01:43.105072Z",
     "start_time": "2021-01-21T08:01:40.030Z"
    }
   },
   "outputs": [],
   "source": [
    "train = train.drop(columns=['n_comments'])"
   ]
  },
  {
   "cell_type": "code",
   "execution_count": 5,
   "metadata": {
    "ExecuteTime": {
     "end_time": "2021-01-21T08:01:43.106073Z",
     "start_time": "2021-01-21T08:01:40.032Z"
    }
   },
   "outputs": [],
   "source": [
    "test = pd.read_pickle('./datasets/test.pickle')"
   ]
  },
  {
   "cell_type": "markdown",
   "metadata": {},
   "source": [
    "### Summary of Variables Created"
   ]
  },
  {
   "cell_type": "markdown",
   "metadata": {},
   "source": [
    "In this notebook, I created a significant number of additional features including:\n",
    "\n",
    "- Box-cox transformation of word count\n",
    "- Time variables based on publication date\n",
    "    - Day of week, day of month, hour, weekend\n",
    "    - Number of articles posted per day\n",
    "- Keywords\n",
    "    - Donald Trump\n",
    "    - Republican / Democrat news\n",
    "    - COVID-19\n",
    "- Headline / abstract length\n",
    "- Whether headline / abstract contains a question mark \n",
    "- Categorical features transformed into ordinal features based on average popularity (newsdesk, section, subsection, material)\n",
    "- Sentiment based on headline + abstract\n",
    "    - Positive, neutral, negative and compound sentiment"
   ]
  },
  {
   "cell_type": "markdown",
   "metadata": {},
   "source": [
    "## Word Count"
   ]
  },
  {
   "cell_type": "markdown",
   "metadata": {},
   "source": [
    "We saw previously that the Boxcox transformation seems to work best, so we'll use that going forward. We'll also keep the original word count variable as removing it led to a drop in model accuracy."
   ]
  },
  {
   "cell_type": "code",
   "execution_count": 6,
   "metadata": {
    "ExecuteTime": {
     "end_time": "2021-01-21T08:01:43.108074Z",
     "start_time": "2021-01-21T08:01:40.038Z"
    }
   },
   "outputs": [],
   "source": [
    "section_avg = train.groupby('section').mean()['word_count']"
   ]
  },
  {
   "cell_type": "code",
   "execution_count": 7,
   "metadata": {
    "ExecuteTime": {
     "end_time": "2021-01-21T08:01:43.108074Z",
     "start_time": "2021-01-21T08:01:40.041Z"
    }
   },
   "outputs": [],
   "source": [
    "train['boxcox_word'] = train['word_count'].apply(lambda x: 0.001 if x == 0 else x)\n",
    "train['boxcox_word'] = boxcox(train['boxcox_word'])[0]"
   ]
  },
  {
   "cell_type": "code",
   "execution_count": 8,
   "metadata": {
    "ExecuteTime": {
     "end_time": "2021-01-21T08:01:43.109074Z",
     "start_time": "2021-01-21T08:01:40.043Z"
    }
   },
   "outputs": [],
   "source": [
    "test['boxcox_word'] = test['word_count'].apply(lambda x: 0.001 if x == 0 else x)\n",
    "test['boxcox_word'] = boxcox(test['boxcox_word'])[0]"
   ]
  },
  {
   "cell_type": "markdown",
   "metadata": {},
   "source": [
    "## Time Variables"
   ]
  },
  {
   "cell_type": "markdown",
   "metadata": {},
   "source": [
    "Time affects the frequency of published articles, which correspondingly affects the popularity of articles. Articles published at a time where less articles are published are more likely to be more popular -- there's less places for commentators to go."
   ]
  },
  {
   "cell_type": "code",
   "execution_count": 9,
   "metadata": {
    "ExecuteTime": {
     "end_time": "2021-01-21T08:01:43.110074Z",
     "start_time": "2021-01-21T08:01:40.048Z"
    }
   },
   "outputs": [],
   "source": [
    "train['day_of_month'] = train['pub_date'].apply(lambda x: x.day)\n",
    "train['day_of_week'] = train['pub_date'].apply(lambda x: x.dayofweek)\n",
    "train['hour'] = train['pub_date'].apply(lambda x: x.hour)\n",
    "train['is_weekend'] = train['day_of_week'].apply(lambda x: 1 if x==5 or x==6 else 0)"
   ]
  },
  {
   "cell_type": "code",
   "execution_count": 10,
   "metadata": {
    "ExecuteTime": {
     "end_time": "2021-01-21T08:01:43.110074Z",
     "start_time": "2021-01-21T08:01:40.050Z"
    }
   },
   "outputs": [],
   "source": [
    "test['day_of_month'] = test['pub_date'].apply(lambda x: x.day)\n",
    "test['day_of_week'] = test['pub_date'].apply(lambda x: x.dayofweek)\n",
    "test['hour'] = test['pub_date'].apply(lambda x: x.hour)\n",
    "test['is_weekend'] = test['day_of_week'].apply(lambda x: 1 if x==5 or x==6 else 0)"
   ]
  },
  {
   "cell_type": "markdown",
   "metadata": {},
   "source": [
    "I also created an additional variable that tracks when an article was published. Articles published between 10PM and 2AM seem to have to have a much higher average popularity."
   ]
  },
  {
   "cell_type": "code",
   "execution_count": 11,
   "metadata": {
    "ExecuteTime": {
     "end_time": "2021-01-21T08:01:43.111074Z",
     "start_time": "2021-01-21T08:01:40.052Z"
    }
   },
   "outputs": [],
   "source": [
    "train['is_primehour'] = train['hour'].apply(lambda x: 1 if x > 22 else 1 if x < 4 else 0)"
   ]
  },
  {
   "cell_type": "code",
   "execution_count": 12,
   "metadata": {},
   "outputs": [
    {
     "data": {
      "text/plain": [
       "0.16983850369317796"
      ]
     },
     "execution_count": 12,
     "metadata": {},
     "output_type": "execute_result"
    }
   ],
   "source": [
    "train.corr()['is_popular']['is_primehour']"
   ]
  },
  {
   "cell_type": "code",
   "execution_count": 13,
   "metadata": {
    "ExecuteTime": {
     "end_time": "2021-01-21T08:01:43.111074Z",
     "start_time": "2021-01-21T08:01:40.054Z"
    }
   },
   "outputs": [],
   "source": [
    "test['is_primehour'] = test['hour'].apply(lambda x: 1 if x > 22 else 1 if x < 4 else 0)"
   ]
  },
  {
   "cell_type": "markdown",
   "metadata": {},
   "source": [
    "### Articles Per Day"
   ]
  },
  {
   "cell_type": "markdown",
   "metadata": {},
   "source": [
    "Similar to our time variables, I created a variable that tracks the number of articles posted in a day. The idea is that the less articles there are, the higher the popularity and vice versa."
   ]
  },
  {
   "cell_type": "code",
   "execution_count": 14,
   "metadata": {
    "ExecuteTime": {
     "end_time": "2021-01-21T08:01:43.112074Z",
     "start_time": "2021-01-21T08:01:40.056Z"
    }
   },
   "outputs": [],
   "source": [
    "train['group_date'] = train['pub_date'].astype(str).apply(lambda x: x[:10])\n",
    "group_dates = train['group_date'].value_counts()\n",
    "train['posts_per_day'] = train['group_date'].apply(lambda x: group_dates[x])"
   ]
  },
  {
   "cell_type": "code",
   "execution_count": 15,
   "metadata": {
    "ExecuteTime": {
     "end_time": "2021-01-21T08:01:43.112074Z",
     "start_time": "2021-01-21T08:01:40.058Z"
    }
   },
   "outputs": [
    {
     "data": {
      "text/plain": [
       "posts_per_day   -0.1039\n",
       "Name: is_popular, dtype: float64"
      ]
     },
     "execution_count": 15,
     "metadata": {},
     "output_type": "execute_result"
    }
   ],
   "source": [
    "# More posts in a day correlated with lower popularity\n",
    "train.corr()['is_popular'][['posts_per_day']]"
   ]
  },
  {
   "cell_type": "code",
   "execution_count": 16,
   "metadata": {
    "ExecuteTime": {
     "end_time": "2021-01-21T08:01:43.113075Z",
     "start_time": "2021-01-21T08:01:40.061Z"
    }
   },
   "outputs": [],
   "source": [
    "test['group_date'] = test['pub_date'].astype(str).apply(lambda x: x[:10])\n",
    "group_dates = test['group_date'].value_counts()\n",
    "test['posts_per_day'] = test['group_date'].apply(lambda x: group_dates[x])"
   ]
  },
  {
   "cell_type": "markdown",
   "metadata": {},
   "source": [
    "## Keywords"
   ]
  },
  {
   "cell_type": "markdown",
   "metadata": {},
   "source": [
    "Having a certain number of keywords seems important -- the ideal number of keywords seems to be between 11 and 16. This could suggest that people are more interested in articles that cover a range of topics, people and organizations."
   ]
  },
  {
   "cell_type": "code",
   "execution_count": 17,
   "metadata": {
    "ExecuteTime": {
     "end_time": "2021-01-21T08:01:43.113075Z",
     "start_time": "2021-01-21T08:01:40.064Z"
    }
   },
   "outputs": [],
   "source": [
    "train['n_keywords'] = train['keywords'].apply(lambda x: len(x))\n",
    "test['n_keywords'] = test['keywords'].apply(lambda x: len(x) if type(x) is list else 0)"
   ]
  },
  {
   "cell_type": "code",
   "execution_count": 18,
   "metadata": {
    "ExecuteTime": {
     "end_time": "2021-01-21T08:01:43.114075Z",
     "start_time": "2021-01-21T08:01:40.066Z"
    }
   },
   "outputs": [],
   "source": [
    "train['ideal_n_keywords'] = train['n_keywords'].apply(lambda x: 1 if x == 1 else 1 if (x > 11 and x < 16) else 0)\n",
    "test['ideal_n_keywords'] = test['n_keywords'].apply(lambda x: 1 if x == 1 else 1 if (x > 11 and x < 16) else 0)"
   ]
  },
  {
   "cell_type": "code",
   "execution_count": 19,
   "metadata": {
    "ExecuteTime": {
     "end_time": "2021-01-21T08:01:43.115076Z",
     "start_time": "2021-01-21T08:01:40.069Z"
    },
    "scrolled": false
   },
   "outputs": [
    {
     "data": {
      "text/plain": [
       "n_keywords          0.072866\n",
       "ideal_n_keywords    0.143074\n",
       "Name: is_popular, dtype: float64"
      ]
     },
     "execution_count": 19,
     "metadata": {},
     "output_type": "execute_result"
    }
   ],
   "source": [
    "train.corr()['is_popular'][['n_keywords', 'ideal_n_keywords']]"
   ]
  },
  {
   "cell_type": "markdown",
   "metadata": {},
   "source": [
    "### Trump / Republican / Democrat"
   ]
  },
  {
   "cell_type": "markdown",
   "metadata": {},
   "source": [
    "We saw that Donald Trump and Republican/Democrat keywords are among the most frequent keywords, so we'll create a variable here to keep track of that. Both these features have a significant correlation with popularity."
   ]
  },
  {
   "cell_type": "code",
   "execution_count": 20,
   "metadata": {
    "ExecuteTime": {
     "end_time": "2021-01-21T08:01:43.115076Z",
     "start_time": "2021-01-21T08:01:40.071Z"
    }
   },
   "outputs": [],
   "source": [
    "train['is_trump'] = train['keywords'].apply(lambda x: 1 if 'Trump, Donald J' in x else 0)\n",
    "\n",
    "test['is_trump'] = test['keywords'].apply(lambda x: 0 if type(x) is not list \n",
    "                                          else (1 if 'Trump, Donald J' in x else 0))"
   ]
  },
  {
   "cell_type": "code",
   "execution_count": 21,
   "metadata": {
    "ExecuteTime": {
     "end_time": "2021-01-21T08:01:43.116075Z",
     "start_time": "2021-01-21T08:01:40.073Z"
    }
   },
   "outputs": [],
   "source": [
    "train['is_party'] = train['keywords'].apply(lambda x: 0 if type(x) is not list \n",
    "                                          else (1 if 'Democratic Party' in x \n",
    "                                                else 1 if 'Republican Party' in x else 0))\n",
    "\n",
    "test['is_party'] = test['keywords'].apply(lambda x: 0 if type(x) is not list \n",
    "                                          else (1 if 'Democratic Party' in x \n",
    "                                                else 1 if 'Republican Party' in x else 0))"
   ]
  },
  {
   "cell_type": "code",
   "execution_count": 22,
   "metadata": {},
   "outputs": [
    {
     "data": {
      "text/plain": [
       "is_trump    0.273985\n",
       "is_party    0.201494\n",
       "Name: is_popular, dtype: float64"
      ]
     },
     "execution_count": 22,
     "metadata": {},
     "output_type": "execute_result"
    }
   ],
   "source": [
    "train.corr()['is_popular'][['is_trump', 'is_party']]"
   ]
  },
  {
   "cell_type": "markdown",
   "metadata": {},
   "source": [
    "### Race & Ethnicity"
   ]
  },
  {
   "cell_type": "markdown",
   "metadata": {},
   "source": [
    "Race and ethnicity has always been a hot topic in the US, and especially so this year with the death of George Floyd. This has a slight correlation with article popularity."
   ]
  },
  {
   "cell_type": "code",
   "execution_count": 23,
   "metadata": {
    "ExecuteTime": {
     "end_time": "2021-01-21T08:01:43.116075Z",
     "start_time": "2021-01-21T08:01:40.075Z"
    }
   },
   "outputs": [],
   "source": [
    "train['is_racial'] = train['keywords'].apply(lambda x: 0 if type(x) is not list \n",
    "                                          else (1 if 'Black People' in x \n",
    "                                                else 1 if 'Race and Ethnicity' in x \n",
    "                                                else 1 if 'Discrimination' in x\n",
    "                                                else 1 if 'Black Lives Matter Movement' in x\n",
    "                                                else 0))\n",
    "\n",
    "test['is_racial'] = test['keywords'].apply(lambda x: 0 if type(x) is not list \n",
    "                                          else (1 if 'Black People' in x \n",
    "                                                else 1 if 'Race and Ethnicity' in x \n",
    "                                                else 1 if 'Discrimination' in x\n",
    "                                                else 1 if 'Black Lives Matter Movement' in x\n",
    "                                                else 0))"
   ]
  },
  {
   "cell_type": "code",
   "execution_count": 24,
   "metadata": {},
   "outputs": [
    {
     "data": {
      "text/plain": [
       "is_racial    0.062983\n",
       "Name: is_popular, dtype: float64"
      ]
     },
     "execution_count": 24,
     "metadata": {},
     "output_type": "execute_result"
    }
   ],
   "source": [
    "train.corr()['is_popular'][['is_racial']]"
   ]
  },
  {
   "cell_type": "markdown",
   "metadata": {},
   "source": [
    "### COVID-19"
   ]
  },
  {
   "cell_type": "markdown",
   "metadata": {},
   "source": [
    "COVID-19 has drastically changed the world as we know it -- it was also the most frequent keyword in our entire dataset. All three features below have a faint correlation with popularity."
   ]
  },
  {
   "cell_type": "code",
   "execution_count": 25,
   "metadata": {
    "ExecuteTime": {
     "end_time": "2021-01-21T08:01:43.117076Z",
     "start_time": "2021-01-21T08:01:40.078Z"
    }
   },
   "outputs": [],
   "source": [
    "train['is_covid'] = train['keywords'].apply(lambda x: 0 if type(x) is not list \n",
    "                                          else (1 if 'Coronavirus (2019-nCoV)' in x \\\n",
    "                                                else 1 if 'Coronavirus Risks and Safety Concerns' in x \n",
    "                                                else 0))\n",
    "\n",
    "test['is_covid'] = test['keywords'].apply(lambda x: 0 if type(x) is not list \n",
    "                                          else (1 if 'Coronavirus (2019-nCoV)' in x \\\n",
    "                                                else 1 if 'Coronavirus Risks and Safety Concerns' in x else 0))"
   ]
  },
  {
   "cell_type": "code",
   "execution_count": 26,
   "metadata": {
    "ExecuteTime": {
     "end_time": "2021-01-21T08:01:43.118077Z",
     "start_time": "2021-01-21T08:01:40.080Z"
    }
   },
   "outputs": [],
   "source": [
    "train['is_epidemic'] = train['keywords'].apply(lambda x: 0 if type(x) is not list \n",
    "                                          else (1 if 'Epidemics' in x else 0))\n",
    "\n",
    "test['is_epidemic'] = test['keywords'].apply(lambda x: 0 if type(x) is not list \n",
    "                                          else (1 if 'Epidemics' in x else 0))"
   ]
  },
  {
   "cell_type": "code",
   "execution_count": 27,
   "metadata": {
    "ExecuteTime": {
     "end_time": "2021-01-21T08:01:43.118077Z",
     "start_time": "2021-01-21T08:01:40.082Z"
    }
   },
   "outputs": [],
   "source": [
    "train['is_death'] = train['keywords'].apply(lambda x: 1 if 'Deaths (Fatalities)' in x else 0)\n",
    "\n",
    "test['is_death'] = test['keywords'].apply(lambda x: 0 if type(x) is not list else 1 if 'Deaths (Fatalities)' in x else 0)"
   ]
  },
  {
   "cell_type": "code",
   "execution_count": 28,
   "metadata": {},
   "outputs": [
    {
     "data": {
      "text/plain": [
       "is_covid       0.071195\n",
       "is_epidemic    0.069257\n",
       "is_death       0.046664\n",
       "Name: is_popular, dtype: float64"
      ]
     },
     "execution_count": 28,
     "metadata": {},
     "output_type": "execute_result"
    }
   ],
   "source": [
    "train.corr()['is_popular'][['is_covid', 'is_epidemic', 'is_death']]"
   ]
  },
  {
   "cell_type": "markdown",
   "metadata": {},
   "source": [
    "## Question"
   ]
  },
  {
   "cell_type": "markdown",
   "metadata": {},
   "source": [
    "If the headline or abstract contains a question mark, there's a good chance that the article has been written in a way to invite commentary. Alternatively, people might view the question mark as a friendly invitation to comment."
   ]
  },
  {
   "cell_type": "code",
   "execution_count": 29,
   "metadata": {
    "ExecuteTime": {
     "end_time": "2021-01-21T08:01:43.119076Z",
     "start_time": "2021-01-21T08:01:40.085Z"
    }
   },
   "outputs": [],
   "source": [
    "train['headline_question'] = train['headline'].apply(lambda x: 1 if '?' in x else 0)\n",
    "test['headline_question'] = test['headline'].apply(lambda x: 1 if '?' in x else 0)"
   ]
  },
  {
   "cell_type": "code",
   "execution_count": 30,
   "metadata": {
    "ExecuteTime": {
     "end_time": "2021-01-21T08:01:43.120076Z",
     "start_time": "2021-01-21T08:01:40.088Z"
    }
   },
   "outputs": [
    {
     "data": {
      "text/plain": [
       "1    954\n",
       "0    685\n",
       "Name: is_popular, dtype: int64"
      ]
     },
     "execution_count": 30,
     "metadata": {},
     "output_type": "execute_result"
    }
   ],
   "source": [
    "train[train['headline_question'] == 1]['is_popular'].value_counts()"
   ]
  },
  {
   "cell_type": "code",
   "execution_count": 31,
   "metadata": {
    "ExecuteTime": {
     "end_time": "2021-01-21T08:01:43.120076Z",
     "start_time": "2021-01-21T08:01:40.090Z"
    }
   },
   "outputs": [],
   "source": [
    "train['abs_question'] = train['abstract'].apply(lambda x: 1 if '?' in x else 0)\n",
    "test['abs_question'] = test['abstract'].apply(lambda x: 1 if '?' in x else 0)"
   ]
  },
  {
   "cell_type": "code",
   "execution_count": 32,
   "metadata": {
    "ExecuteTime": {
     "end_time": "2021-01-21T08:01:43.121077Z",
     "start_time": "2021-01-21T08:01:40.091Z"
    }
   },
   "outputs": [
    {
     "data": {
      "text/plain": [
       "1    508\n",
       "0    387\n",
       "Name: is_popular, dtype: int64"
      ]
     },
     "execution_count": 32,
     "metadata": {},
     "output_type": "execute_result"
    }
   ],
   "source": [
    "train[train['abs_question'] == 1]['is_popular'].value_counts()"
   ]
  },
  {
   "cell_type": "code",
   "execution_count": 33,
   "metadata": {},
   "outputs": [
    {
     "data": {
      "text/plain": [
       "headline_question    0.065796\n",
       "abs_question         0.039141\n",
       "Name: is_popular, dtype: float64"
      ]
     },
     "execution_count": 33,
     "metadata": {},
     "output_type": "execute_result"
    }
   ],
   "source": [
    "train.corr()['is_popular'][['headline_question', 'abs_question']]"
   ]
  },
  {
   "cell_type": "markdown",
   "metadata": {},
   "source": [
    "## Newsdesk / Section / Subsection / Material"
   ]
  },
  {
   "cell_type": "markdown",
   "metadata": {},
   "source": [
    "An article's newsdesk, section, subsection are likely the most powerful predictors of popularity. Opinion Editorials (OpEds) are much more likely to draw comments because they're likely written in a way to attract attention or controversy. These OpEds tackle recent events and issues, and attempt to formulate viewpoints based on an objective analysis of happenings and conflicting/contrary opinions. NYT Opinion pieces are also always open for comments, which would naturally increase the likelihood of having a popular article.\n",
    "\n",
    "It was pretty difficult to decide on how to map / encode these features. There are 60 newsdesks, 42 sections, 67 subsections, and 10 types of material. Performing a one hot encoding on each variable would leave me with over 180 features in total.\n",
    "\n",
    "There are several approaches that I tried:\n",
    "- One hot encode Newsdesk, Section and Subsection (this returned poor results)\n",
    "- Combine Newsdesk, Section and Subsection into a single `NewsType` variable \n",
    "    - For example: Foreign newsdesk, World section, Australia Subsection --> #Foreign#World#Australia.\n",
    "    - Group similar articles together e.g. #Foreign#World#Australia and #Foreign#World#Asia Pacific. This naturally presents some difficulty though -- how do we decide which sections and subsections to group together? The Australia subsection has more popular articles but only has 46 articles compared to the 327 articles in the Asia Pacific subsection.\n",
    "- Create an ordinal interaction feature (number of popular articles * total number of articles) that gives a higher weight to features that have many popular articles and a large number of total articles.\n",
    "- Use DBSCAN or other clustering methods to group variables together.\n",
    "\n",
    "Ultimately, I found that <b>taking a simpler approach returned better results</b>. Below, I created a function that groups features according to their average popularity. In short, I created an ordinal feature that places more weight on newsdesks/sections/subsections/materials that have an average popularity of 0.6 and above. Conversely, I placed a low weight on variables that have a average popularity of 0.4 and below.\n",
    "\n",
    "To catch unique newsdesks/sections/subsections/materials that are in the test but not in train dataset, I added in an `if` statement that maps these unique sections to 0. This should cause our model to treat them in a neutral way."
   ]
  },
  {
   "cell_type": "code",
   "execution_count": 34,
   "metadata": {
    "ExecuteTime": {
     "end_time": "2021-01-21T08:01:43.131079Z",
     "start_time": "2021-01-21T08:01:40.123Z"
    }
   },
   "outputs": [],
   "source": [
    "# Combining newsdesks -- the different names reflect interactive articles that will be accounted for later\n",
    "train['newsdesk'] = train['newsdesk'].apply(lambda x: 'The Upshot' if x=='Upshot' else x)\n",
    "train['newsdesk'] = train['newsdesk'].apply(lambda x: 'OpEd' if x=='Opinion' else x)\n",
    "train['newsdesk'] = train['newsdesk'].apply(lambda x: 'AtHome' if x=='At Home' else x)\n",
    "\n",
    "test['newsdesk'] = test['newsdesk'].apply(lambda x: 'The Upshot' if x=='Upshot' else x)\n",
    "test['newsdesk'] = test['newsdesk'].apply(lambda x: 'OpEd' if x=='Opinion' else x)\n",
    "test['newsdesk'] = test['newsdesk'].apply(lambda x: 'AtHome' if x=='At Home' else x)"
   ]
  },
  {
   "cell_type": "code",
   "execution_count": 35,
   "metadata": {
    "ExecuteTime": {
     "end_time": "2021-01-21T08:01:43.130079Z",
     "start_time": "2021-01-21T08:01:40.121Z"
    }
   },
   "outputs": [],
   "source": [
    "# We have to fill the null values in our subsection\n",
    "train['subsection'].fillna('N/A', inplace=True)\n",
    "test['subsection'].fillna('N/A', inplace=True)"
   ]
  },
  {
   "cell_type": "code",
   "execution_count": 36,
   "metadata": {},
   "outputs": [],
   "source": [
    "def map_popularity(col):\n",
    "    df = train.groupby(f'{col}').mean().reset_index().sort_values(by='is_popular', ascending=False) \\\n",
    "              [[f'{col}', 'is_popular']]\n",
    "    df.columns=[f'{col}', 'avg_popularity']\n",
    "    \n",
    "    pop_5 = df[df['avg_popularity'] >= 0.7][f'{col}'].values\n",
    "    pop_4 = df[(df['avg_popularity'] < 0.7) & (df['avg_popularity'] >= 0.6)][f'{col}'].values\n",
    "    pop_3 = df[(df['avg_popularity'] < 0.6) & (df['avg_popularity'] >= 0.5)][f'{col}'].values\n",
    "    pop_2 = df[(df['avg_popularity'] < 0.5) & (df['avg_popularity'] >= 0.4)][f'{col}'].values\n",
    "    pop_1 = df[(df['avg_popularity'] < 0.4) & (df['avg_popularity'] >= 0.3)][f'{col}'].values\n",
    "    pop_0 = df[df['avg_popularity'] < 0.3][f'{col}'].values\n",
    "    \n",
    "    def lambda_fxn(x):\n",
    "        if x in pop_5:\n",
    "            return 5\n",
    "        elif x in pop_4:\n",
    "            return 4\n",
    "        elif x in pop_3:\n",
    "            return 3\n",
    "        elif x in pop_2:\n",
    "            return 2\n",
    "        elif x in pop_1:\n",
    "            return 1\n",
    "        elif x in pop_0:\n",
    "            return -1\n",
    "        \n",
    "        # To catch news desks/sections/subsections/material in test but not in train\n",
    "        else:\n",
    "            return 0\n",
    "    \n",
    "    train[f'{col}_pop'] = train[f'{col}'].apply(lambda_fxn)\n",
    "    test[f'{col}_pop'] = test[f'{col}'].apply(lambda_fxn)"
   ]
  },
  {
   "cell_type": "code",
   "execution_count": 37,
   "metadata": {
    "ExecuteTime": {
     "end_time": "2021-01-21T08:01:43.132080Z",
     "start_time": "2021-01-21T08:01:40.129Z"
    }
   },
   "outputs": [],
   "source": [
    "map_popularity('newsdesk')"
   ]
  },
  {
   "cell_type": "code",
   "execution_count": 38,
   "metadata": {
    "ExecuteTime": {
     "end_time": "2021-01-21T08:01:43.133080Z",
     "start_time": "2021-01-21T08:01:40.132Z"
    }
   },
   "outputs": [],
   "source": [
    "map_popularity('section')"
   ]
  },
  {
   "cell_type": "code",
   "execution_count": 39,
   "metadata": {
    "ExecuteTime": {
     "end_time": "2021-01-21T08:01:43.133080Z",
     "start_time": "2021-01-21T08:01:40.134Z"
    }
   },
   "outputs": [],
   "source": [
    "map_popularity('subsection')"
   ]
  },
  {
   "cell_type": "code",
   "execution_count": 40,
   "metadata": {},
   "outputs": [],
   "source": [
    "map_popularity('material')"
   ]
  },
  {
   "cell_type": "code",
   "execution_count": 41,
   "metadata": {
    "ExecuteTime": {
     "end_time": "2021-01-21T08:01:43.134079Z",
     "start_time": "2021-01-21T08:01:40.137Z"
    }
   },
   "outputs": [
    {
     "data": {
      "text/html": [
       "<div>\n",
       "<style scoped>\n",
       "    .dataframe tbody tr th:only-of-type {\n",
       "        vertical-align: middle;\n",
       "    }\n",
       "\n",
       "    .dataframe tbody tr th {\n",
       "        vertical-align: top;\n",
       "    }\n",
       "\n",
       "    .dataframe thead th {\n",
       "        text-align: right;\n",
       "    }\n",
       "</style>\n",
       "<table border=\"1\" class=\"dataframe\">\n",
       "  <thead>\n",
       "    <tr style=\"text-align: right;\">\n",
       "      <th></th>\n",
       "      <th>headline</th>\n",
       "      <th>newsdesk</th>\n",
       "      <th>newsdesk_pop</th>\n",
       "      <th>section</th>\n",
       "      <th>section_pop</th>\n",
       "      <th>subsection</th>\n",
       "      <th>subsection_pop</th>\n",
       "      <th>material</th>\n",
       "      <th>material_pop</th>\n",
       "    </tr>\n",
       "  </thead>\n",
       "  <tbody>\n",
       "    <tr>\n",
       "      <th>0</th>\n",
       "      <td>Protect Veterans From Fraud</td>\n",
       "      <td>Editorial</td>\n",
       "      <td>5</td>\n",
       "      <td>Opinion</td>\n",
       "      <td>5</td>\n",
       "      <td>N/A</td>\n",
       "      <td>3</td>\n",
       "      <td>Editorial</td>\n",
       "      <td>5</td>\n",
       "    </tr>\n",
       "  </tbody>\n",
       "</table>\n",
       "</div>"
      ],
      "text/plain": [
       "                      headline   newsdesk newsdesk_pop  section section_pop  \\\n",
       "0  Protect Veterans From Fraud  Editorial            5  Opinion           5   \n",
       "\n",
       "  subsection subsection_pop   material material_pop  \n",
       "0        N/A              3  Editorial            5  "
      ]
     },
     "execution_count": 41,
     "metadata": {},
     "output_type": "execute_result"
    }
   ],
   "source": [
    "train.loc[0][['headline', 'newsdesk', 'newsdesk_pop', 'section', 'section_pop', 'subsection',\n",
    "              'subsection_pop', 'material', 'material_pop']].to_frame().T"
   ]
  },
  {
   "cell_type": "code",
   "execution_count": 42,
   "metadata": {
    "ExecuteTime": {
     "end_time": "2021-01-21T08:01:43.135080Z",
     "start_time": "2021-01-21T08:01:40.139Z"
    },
    "scrolled": true
   },
   "outputs": [
    {
     "data": {
      "text/html": [
       "<div>\n",
       "<style scoped>\n",
       "    .dataframe tbody tr th:only-of-type {\n",
       "        vertical-align: middle;\n",
       "    }\n",
       "\n",
       "    .dataframe tbody tr th {\n",
       "        vertical-align: top;\n",
       "    }\n",
       "\n",
       "    .dataframe thead th {\n",
       "        text-align: right;\n",
       "    }\n",
       "</style>\n",
       "<table border=\"1\" class=\"dataframe\">\n",
       "  <thead>\n",
       "    <tr style=\"text-align: right;\">\n",
       "      <th></th>\n",
       "      <th>headline</th>\n",
       "      <th>newsdesk</th>\n",
       "      <th>newsdesk_pop</th>\n",
       "      <th>section</th>\n",
       "      <th>section_pop</th>\n",
       "      <th>subsection</th>\n",
       "      <th>subsection_pop</th>\n",
       "      <th>material</th>\n",
       "      <th>material_pop</th>\n",
       "    </tr>\n",
       "  </thead>\n",
       "  <tbody>\n",
       "    <tr>\n",
       "      <th>101</th>\n",
       "      <td>‘Nowhere Else to Go’: Some Defy Warnings to Fl...</td>\n",
       "      <td>Foreign</td>\n",
       "      <td>2</td>\n",
       "      <td>World</td>\n",
       "      <td>3</td>\n",
       "      <td>Australia</td>\n",
       "      <td>3</td>\n",
       "      <td>News</td>\n",
       "      <td>2</td>\n",
       "    </tr>\n",
       "  </tbody>\n",
       "</table>\n",
       "</div>"
      ],
      "text/plain": [
       "                                              headline newsdesk newsdesk_pop  \\\n",
       "101  ‘Nowhere Else to Go’: Some Defy Warnings to Fl...  Foreign            2   \n",
       "\n",
       "    section section_pop subsection subsection_pop material material_pop  \n",
       "101   World           3  Australia              3     News            2  "
      ]
     },
     "execution_count": 42,
     "metadata": {},
     "output_type": "execute_result"
    }
   ],
   "source": [
    "train.loc[101][['headline', 'newsdesk', 'newsdesk_pop', 'section', 'section_pop', 'subsection', \n",
    "                'subsection_pop', 'material', 'material_pop']].to_frame().T"
   ]
  },
  {
   "cell_type": "markdown",
   "metadata": {},
   "source": [
    "## Other Features"
   ]
  },
  {
   "cell_type": "code",
   "execution_count": 43,
   "metadata": {
    "ExecuteTime": {
     "end_time": "2021-01-21T08:01:43.121077Z",
     "start_time": "2021-01-21T08:01:40.094Z"
    }
   },
   "outputs": [],
   "source": [
    "train['combi_text'] = train['headline'] + '. ' + train['abstract']\n",
    "train['combi_text2'] = train['combi_text'].str.replace(r'[\\!?.]+[\\.]+','.', regex=True) # remove extra punctuation in headline\n",
    "\n",
    "test['combi_text'] = test['headline'] + '. ' + test['abstract']\n",
    "test['combi_text2'] = test['combi_text'].str.replace(r'[\\!?.]+[\\.]+','.', regex=True)"
   ]
  },
  {
   "cell_type": "markdown",
   "metadata": {},
   "source": [
    "### Sentiment"
   ]
  },
  {
   "cell_type": "markdown",
   "metadata": {},
   "source": [
    "Sentiment plays a notable role in determining popularity. People are more likely to comment on articles with headlines that have negative sentiment, and less likely to comment on articles with headlines that have neutral sentiment. Previous [research](https://jonahberger.com/wp-content/uploads/2013/02/ViralityB.pdf) has shown that content that evokes high-arousal positive (awe) or negative (anger or anxiety) emotions tends to be more viral."
   ]
  },
  {
   "cell_type": "code",
   "execution_count": 44,
   "metadata": {},
   "outputs": [
    {
     "data": {
      "text/plain": [
       "'Protect Veterans From Fraud. Congress could do much more to protect Americans who have served their country from predatory for-profit colleges.'"
      ]
     },
     "execution_count": 44,
     "metadata": {},
     "output_type": "execute_result"
    }
   ],
   "source": [
    "train['combi_text'][0]"
   ]
  },
  {
   "cell_type": "code",
   "execution_count": 45,
   "metadata": {
    "ExecuteTime": {
     "end_time": "2021-01-21T08:01:43.123077Z",
     "start_time": "2021-01-21T08:01:40.098Z"
    },
    "scrolled": true
   },
   "outputs": [
    {
     "data": {
      "text/plain": [
       "{'neg': 0.139, 'neu': 0.66, 'pos': 0.201, 'compound': 0.1725}"
      ]
     },
     "execution_count": 45,
     "metadata": {},
     "output_type": "execute_result"
    }
   ],
   "source": [
    "# Instantiating sentiment intensity analyzer\n",
    "sia = SIA()\n",
    "sia.polarity_scores(train['combi_text'][0])"
   ]
  },
  {
   "cell_type": "code",
   "execution_count": 46,
   "metadata": {
    "ExecuteTime": {
     "end_time": "2021-01-21T08:01:43.123077Z",
     "start_time": "2021-01-21T08:01:40.100Z"
    }
   },
   "outputs": [],
   "source": [
    "def get_sentiment(row):\n",
    "    sentiment_dict = sia.polarity_scores(row['combi_text'])\n",
    "    row['sentiment_pos'] = sentiment_dict['pos']\n",
    "    row['sentiment_neu'] = sentiment_dict['neu']\n",
    "    row['sentiment_neg'] = sentiment_dict['neg']\n",
    "    row['sentiment_compound'] = sentiment_dict['compound']\n",
    "    return row"
   ]
  },
  {
   "cell_type": "code",
   "execution_count": 47,
   "metadata": {
    "ExecuteTime": {
     "end_time": "2021-01-21T08:01:43.124077Z",
     "start_time": "2021-01-21T08:01:40.102Z"
    }
   },
   "outputs": [
    {
     "name": "stderr",
     "output_type": "stream",
     "text": [
      "100%|███████████████████████████████████████████████████████████████████████████| 12792/12792 [00:26<00:00, 476.11it/s]\n"
     ]
    }
   ],
   "source": [
    "train = train.progress_apply(get_sentiment, axis=1)"
   ]
  },
  {
   "cell_type": "code",
   "execution_count": 48,
   "metadata": {},
   "outputs": [
    {
     "data": {
      "text/html": [
       "<div>\n",
       "<style scoped>\n",
       "    .dataframe tbody tr th:only-of-type {\n",
       "        vertical-align: middle;\n",
       "    }\n",
       "\n",
       "    .dataframe tbody tr th {\n",
       "        vertical-align: top;\n",
       "    }\n",
       "\n",
       "    .dataframe thead th {\n",
       "        text-align: right;\n",
       "    }\n",
       "</style>\n",
       "<table border=\"1\" class=\"dataframe\">\n",
       "  <thead>\n",
       "    <tr style=\"text-align: right;\">\n",
       "      <th></th>\n",
       "      <th>newsdesk</th>\n",
       "      <th>section</th>\n",
       "      <th>subsection</th>\n",
       "      <th>material</th>\n",
       "      <th>headline</th>\n",
       "      <th>abstract</th>\n",
       "      <th>keywords</th>\n",
       "      <th>word_count</th>\n",
       "      <th>pub_date</th>\n",
       "      <th>is_popular</th>\n",
       "      <th>uniqueID</th>\n",
       "      <th>boxcox_word</th>\n",
       "      <th>day_of_month</th>\n",
       "      <th>day_of_week</th>\n",
       "      <th>hour</th>\n",
       "      <th>is_weekend</th>\n",
       "      <th>is_primehour</th>\n",
       "      <th>group_date</th>\n",
       "      <th>posts_per_day</th>\n",
       "      <th>n_keywords</th>\n",
       "      <th>ideal_n_keywords</th>\n",
       "      <th>is_trump</th>\n",
       "      <th>is_party</th>\n",
       "      <th>is_racial</th>\n",
       "      <th>is_covid</th>\n",
       "      <th>is_epidemic</th>\n",
       "      <th>is_death</th>\n",
       "      <th>headline_question</th>\n",
       "      <th>abs_question</th>\n",
       "      <th>newsdesk_pop</th>\n",
       "      <th>section_pop</th>\n",
       "      <th>subsection_pop</th>\n",
       "      <th>material_pop</th>\n",
       "      <th>combi_text</th>\n",
       "      <th>combi_text2</th>\n",
       "      <th>sentiment_pos</th>\n",
       "      <th>sentiment_neu</th>\n",
       "      <th>sentiment_neg</th>\n",
       "      <th>sentiment_compound</th>\n",
       "    </tr>\n",
       "  </thead>\n",
       "  <tbody>\n",
       "    <tr>\n",
       "      <th>6976</th>\n",
       "      <td>OpEd</td>\n",
       "      <td>Opinion</td>\n",
       "      <td>N/A</td>\n",
       "      <td>Op-Ed</td>\n",
       "      <td>We Should Help Workers, Not Kill Them</td>\n",
       "      <td>Unemployment benefits: an unheralded success s...</td>\n",
       "      <td>[Coronavirus Reopenings, Unemployment, Coronav...</td>\n",
       "      <td>883</td>\n",
       "      <td>2020-05-18 22:00:07+00:00</td>\n",
       "      <td>1</td>\n",
       "      <td>nyt://article/440db8c2-dc0f-58f8-aebd-4ff00adf...</td>\n",
       "      <td>42.202049</td>\n",
       "      <td>18</td>\n",
       "      <td>0</td>\n",
       "      <td>22</td>\n",
       "      <td>0</td>\n",
       "      <td>0</td>\n",
       "      <td>2020-05-18</td>\n",
       "      <td>58</td>\n",
       "      <td>7</td>\n",
       "      <td>0</td>\n",
       "      <td>0</td>\n",
       "      <td>1</td>\n",
       "      <td>0</td>\n",
       "      <td>1</td>\n",
       "      <td>0</td>\n",
       "      <td>0</td>\n",
       "      <td>0</td>\n",
       "      <td>0</td>\n",
       "      <td>5</td>\n",
       "      <td>5</td>\n",
       "      <td>3</td>\n",
       "      <td>5</td>\n",
       "      <td>We Should Help Workers, Not Kill Them. Unemplo...</td>\n",
       "      <td>We Should Help Workers, Not Kill Them. Unemplo...</td>\n",
       "      <td>0.654</td>\n",
       "      <td>0.346</td>\n",
       "      <td>0.000</td>\n",
       "      <td>0.9342</td>\n",
       "    </tr>\n",
       "    <tr>\n",
       "      <th>1869</th>\n",
       "      <td>Learning</td>\n",
       "      <td>The Learning Network</td>\n",
       "      <td>N/A</td>\n",
       "      <td>News</td>\n",
       "      <td>Slumber Parties</td>\n",
       "      <td>Do you enjoy sleepovers with friends?</td>\n",
       "      <td>[]</td>\n",
       "      <td>111</td>\n",
       "      <td>2020-02-11 08:00:03+00:00</td>\n",
       "      <td>0</td>\n",
       "      <td>nyt://article/a9d735d8-e5e1-5c72-ab18-ca10e085...</td>\n",
       "      <td>15.664226</td>\n",
       "      <td>11</td>\n",
       "      <td>1</td>\n",
       "      <td>8</td>\n",
       "      <td>0</td>\n",
       "      <td>0</td>\n",
       "      <td>2020-02-11</td>\n",
       "      <td>74</td>\n",
       "      <td>0</td>\n",
       "      <td>0</td>\n",
       "      <td>0</td>\n",
       "      <td>0</td>\n",
       "      <td>0</td>\n",
       "      <td>0</td>\n",
       "      <td>0</td>\n",
       "      <td>0</td>\n",
       "      <td>0</td>\n",
       "      <td>1</td>\n",
       "      <td>2</td>\n",
       "      <td>2</td>\n",
       "      <td>3</td>\n",
       "      <td>2</td>\n",
       "      <td>Slumber Parties. Do you enjoy sleepovers with ...</td>\n",
       "      <td>Slumber Parties. Do you enjoy sleepovers with ...</td>\n",
       "      <td>0.643</td>\n",
       "      <td>0.357</td>\n",
       "      <td>0.000</td>\n",
       "      <td>0.8402</td>\n",
       "    </tr>\n",
       "    <tr>\n",
       "      <th>12037</th>\n",
       "      <td>OpEd</td>\n",
       "      <td>Opinion</td>\n",
       "      <td>N/A</td>\n",
       "      <td>Op-Ed</td>\n",
       "      <td>A Rare Middle East Triumph</td>\n",
       "      <td>And — yes — a triumph for Trump, too.</td>\n",
       "      <td>[Bahrain, Israel, United Arab Emirates, Middle...</td>\n",
       "      <td>873</td>\n",
       "      <td>2020-09-14 23:00:06+00:00</td>\n",
       "      <td>1</td>\n",
       "      <td>nyt://article/620d8da7-35ac-570d-89ed-a4e7e94b...</td>\n",
       "      <td>41.980833</td>\n",
       "      <td>14</td>\n",
       "      <td>0</td>\n",
       "      <td>23</td>\n",
       "      <td>0</td>\n",
       "      <td>1</td>\n",
       "      <td>2020-09-14</td>\n",
       "      <td>42</td>\n",
       "      <td>13</td>\n",
       "      <td>1</td>\n",
       "      <td>1</td>\n",
       "      <td>0</td>\n",
       "      <td>0</td>\n",
       "      <td>0</td>\n",
       "      <td>0</td>\n",
       "      <td>0</td>\n",
       "      <td>0</td>\n",
       "      <td>0</td>\n",
       "      <td>5</td>\n",
       "      <td>5</td>\n",
       "      <td>3</td>\n",
       "      <td>5</td>\n",
       "      <td>A Rare Middle East Triumph. And — yes — a triu...</td>\n",
       "      <td>A Rare Middle East Triumph. And — yes — a triu...</td>\n",
       "      <td>0.560</td>\n",
       "      <td>0.440</td>\n",
       "      <td>0.000</td>\n",
       "      <td>0.8360</td>\n",
       "    </tr>\n",
       "    <tr>\n",
       "      <th>1393</th>\n",
       "      <td>Learning</td>\n",
       "      <td>The Learning Network</td>\n",
       "      <td>N/A</td>\n",
       "      <td>News</td>\n",
       "      <td>Super Bowl LIV</td>\n",
       "      <td>What are your favorite things about Super Bowl...</td>\n",
       "      <td>[]</td>\n",
       "      <td>138</td>\n",
       "      <td>2020-01-31 08:00:02+00:00</td>\n",
       "      <td>0</td>\n",
       "      <td>nyt://article/ccfec5d5-b976-52e3-925d-1bf5b344...</td>\n",
       "      <td>17.458791</td>\n",
       "      <td>31</td>\n",
       "      <td>4</td>\n",
       "      <td>8</td>\n",
       "      <td>0</td>\n",
       "      <td>0</td>\n",
       "      <td>2020-01-31</td>\n",
       "      <td>64</td>\n",
       "      <td>0</td>\n",
       "      <td>0</td>\n",
       "      <td>0</td>\n",
       "      <td>0</td>\n",
       "      <td>0</td>\n",
       "      <td>0</td>\n",
       "      <td>0</td>\n",
       "      <td>0</td>\n",
       "      <td>0</td>\n",
       "      <td>1</td>\n",
       "      <td>2</td>\n",
       "      <td>2</td>\n",
       "      <td>3</td>\n",
       "      <td>2</td>\n",
       "      <td>Super Bowl LIV. What are your favorite things ...</td>\n",
       "      <td>Super Bowl LIV. What are your favorite things ...</td>\n",
       "      <td>0.545</td>\n",
       "      <td>0.455</td>\n",
       "      <td>0.000</td>\n",
       "      <td>0.8957</td>\n",
       "    </tr>\n",
       "    <tr>\n",
       "      <th>1794</th>\n",
       "      <td>Culture</td>\n",
       "      <td>Movies</td>\n",
       "      <td>N/A</td>\n",
       "      <td>News</td>\n",
       "      <td>Oscars 2020: Highlights From a History-Making ...</td>\n",
       "      <td>“Parasite” was the first movie not in English ...</td>\n",
       "      <td>[Academy Awards (Oscars), Movies, Netflix Inc,...</td>\n",
       "      <td>1684</td>\n",
       "      <td>2020-02-09 16:59:09+00:00</td>\n",
       "      <td>1</td>\n",
       "      <td>nyt://article/0131cc8d-16d3-5b0e-9a2e-98156ade...</td>\n",
       "      <td>56.728365</td>\n",
       "      <td>9</td>\n",
       "      <td>6</td>\n",
       "      <td>16</td>\n",
       "      <td>1</td>\n",
       "      <td>0</td>\n",
       "      <td>2020-02-09</td>\n",
       "      <td>16</td>\n",
       "      <td>19</td>\n",
       "      <td>0</td>\n",
       "      <td>0</td>\n",
       "      <td>0</td>\n",
       "      <td>0</td>\n",
       "      <td>0</td>\n",
       "      <td>0</td>\n",
       "      <td>0</td>\n",
       "      <td>0</td>\n",
       "      <td>0</td>\n",
       "      <td>-1</td>\n",
       "      <td>1</td>\n",
       "      <td>3</td>\n",
       "      <td>2</td>\n",
       "      <td>Oscars 2020: Highlights From a History-Making ...</td>\n",
       "      <td>Oscars 2020: Highlights From a History-Making ...</td>\n",
       "      <td>0.536</td>\n",
       "      <td>0.464</td>\n",
       "      <td>0.000</td>\n",
       "      <td>0.9810</td>\n",
       "    </tr>\n",
       "    <tr>\n",
       "      <th>...</th>\n",
       "      <td>...</td>\n",
       "      <td>...</td>\n",
       "      <td>...</td>\n",
       "      <td>...</td>\n",
       "      <td>...</td>\n",
       "      <td>...</td>\n",
       "      <td>...</td>\n",
       "      <td>...</td>\n",
       "      <td>...</td>\n",
       "      <td>...</td>\n",
       "      <td>...</td>\n",
       "      <td>...</td>\n",
       "      <td>...</td>\n",
       "      <td>...</td>\n",
       "      <td>...</td>\n",
       "      <td>...</td>\n",
       "      <td>...</td>\n",
       "      <td>...</td>\n",
       "      <td>...</td>\n",
       "      <td>...</td>\n",
       "      <td>...</td>\n",
       "      <td>...</td>\n",
       "      <td>...</td>\n",
       "      <td>...</td>\n",
       "      <td>...</td>\n",
       "      <td>...</td>\n",
       "      <td>...</td>\n",
       "      <td>...</td>\n",
       "      <td>...</td>\n",
       "      <td>...</td>\n",
       "      <td>...</td>\n",
       "      <td>...</td>\n",
       "      <td>...</td>\n",
       "      <td>...</td>\n",
       "      <td>...</td>\n",
       "      <td>...</td>\n",
       "      <td>...</td>\n",
       "      <td>...</td>\n",
       "      <td>...</td>\n",
       "    </tr>\n",
       "    <tr>\n",
       "      <th>7789</th>\n",
       "      <td>OpEd</td>\n",
       "      <td>Opinion</td>\n",
       "      <td>Sunday Review</td>\n",
       "      <td>Op-Ed</td>\n",
       "      <td>The End of College as We Knew It?</td>\n",
       "      <td>Restaurants get eulogies. Airlines get bailout...</td>\n",
       "      <td>[Colleges and Universities, Coronavirus (2019-...</td>\n",
       "      <td>1895</td>\n",
       "      <td>2020-06-04 09:03:34+00:00</td>\n",
       "      <td>1</td>\n",
       "      <td>nyt://article/06533f1f-ea34-533e-bc1c-ad6d3222...</td>\n",
       "      <td>59.857525</td>\n",
       "      <td>4</td>\n",
       "      <td>3</td>\n",
       "      <td>9</td>\n",
       "      <td>0</td>\n",
       "      <td>0</td>\n",
       "      <td>2020-06-04</td>\n",
       "      <td>50</td>\n",
       "      <td>5</td>\n",
       "      <td>0</td>\n",
       "      <td>0</td>\n",
       "      <td>0</td>\n",
       "      <td>0</td>\n",
       "      <td>1</td>\n",
       "      <td>0</td>\n",
       "      <td>0</td>\n",
       "      <td>1</td>\n",
       "      <td>0</td>\n",
       "      <td>5</td>\n",
       "      <td>5</td>\n",
       "      <td>5</td>\n",
       "      <td>5</td>\n",
       "      <td>The End of College as We Knew It?. Restaurants...</td>\n",
       "      <td>The End of College as We Knew It. Restaurants ...</td>\n",
       "      <td>0.000</td>\n",
       "      <td>1.000</td>\n",
       "      <td>0.000</td>\n",
       "      <td>0.0000</td>\n",
       "    </tr>\n",
       "    <tr>\n",
       "      <th>2320</th>\n",
       "      <td>RealEstate</td>\n",
       "      <td>Real Estate</td>\n",
       "      <td>N/A</td>\n",
       "      <td>News</td>\n",
       "      <td>Homes for Sale in Brooklyn, Queens and Manhattan</td>\n",
       "      <td>This week’s properties are in Clinton Hill, Br...</td>\n",
       "      <td>[Real Estate and Housing (Residential), Clinto...</td>\n",
       "      <td>147</td>\n",
       "      <td>2020-02-20 14:00:25+00:00</td>\n",
       "      <td>0</td>\n",
       "      <td>nyt://article/eab1cf16-1a31-58c1-b482-44fc49cc...</td>\n",
       "      <td>18.012362</td>\n",
       "      <td>20</td>\n",
       "      <td>3</td>\n",
       "      <td>14</td>\n",
       "      <td>0</td>\n",
       "      <td>0</td>\n",
       "      <td>2020-02-20</td>\n",
       "      <td>78</td>\n",
       "      <td>4</td>\n",
       "      <td>0</td>\n",
       "      <td>0</td>\n",
       "      <td>0</td>\n",
       "      <td>0</td>\n",
       "      <td>0</td>\n",
       "      <td>0</td>\n",
       "      <td>0</td>\n",
       "      <td>0</td>\n",
       "      <td>0</td>\n",
       "      <td>-1</td>\n",
       "      <td>-1</td>\n",
       "      <td>3</td>\n",
       "      <td>2</td>\n",
       "      <td>Homes for Sale in Brooklyn, Queens and Manhatt...</td>\n",
       "      <td>Homes for Sale in Brooklyn, Queens and Manhatt...</td>\n",
       "      <td>0.000</td>\n",
       "      <td>1.000</td>\n",
       "      <td>0.000</td>\n",
       "      <td>0.0000</td>\n",
       "    </tr>\n",
       "    <tr>\n",
       "      <th>7786</th>\n",
       "      <td>Metropolitan</td>\n",
       "      <td>New York</td>\n",
       "      <td>N/A</td>\n",
       "      <td>News</td>\n",
       "      <td>When Their Mother Died at a Nursing Home, 2 De...</td>\n",
       "      <td>The sisters were used to getting information. ...</td>\n",
       "      <td>[Isabella Geriatric Center (Manhattan, NY, Nur...</td>\n",
       "      <td>2369</td>\n",
       "      <td>2020-06-04 09:00:27+00:00</td>\n",
       "      <td>0</td>\n",
       "      <td>nyt://article/e5667d51-2989-5ef2-af65-47a1e4e9...</td>\n",
       "      <td>66.236109</td>\n",
       "      <td>4</td>\n",
       "      <td>3</td>\n",
       "      <td>9</td>\n",
       "      <td>0</td>\n",
       "      <td>0</td>\n",
       "      <td>2020-06-04</td>\n",
       "      <td>50</td>\n",
       "      <td>5</td>\n",
       "      <td>0</td>\n",
       "      <td>0</td>\n",
       "      <td>0</td>\n",
       "      <td>0</td>\n",
       "      <td>1</td>\n",
       "      <td>0</td>\n",
       "      <td>1</td>\n",
       "      <td>0</td>\n",
       "      <td>0</td>\n",
       "      <td>4</td>\n",
       "      <td>3</td>\n",
       "      <td>3</td>\n",
       "      <td>2</td>\n",
       "      <td>When Their Mother Died at a Nursing Home, 2 De...</td>\n",
       "      <td>When Their Mother Died at a Nursing Home, 2 De...</td>\n",
       "      <td>0.000</td>\n",
       "      <td>0.893</td>\n",
       "      <td>0.107</td>\n",
       "      <td>-0.5574</td>\n",
       "    </tr>\n",
       "    <tr>\n",
       "      <th>2326</th>\n",
       "      <td>Dining</td>\n",
       "      <td>Food</td>\n",
       "      <td>N/A</td>\n",
       "      <td>News</td>\n",
       "      <td>Chocolate Chip Cookies for Everyone</td>\n",
       "      <td>Erin Jeanne McDowell, a cookbook author, devel...</td>\n",
       "      <td>[Recipes, Cooking and Cookbooks]</td>\n",
       "      <td>697</td>\n",
       "      <td>2020-02-20 17:16:09+00:00</td>\n",
       "      <td>0</td>\n",
       "      <td>nyt://article/48f318d6-c70e-528b-88b4-ad7177b3...</td>\n",
       "      <td>37.826775</td>\n",
       "      <td>20</td>\n",
       "      <td>3</td>\n",
       "      <td>17</td>\n",
       "      <td>0</td>\n",
       "      <td>0</td>\n",
       "      <td>2020-02-20</td>\n",
       "      <td>78</td>\n",
       "      <td>2</td>\n",
       "      <td>0</td>\n",
       "      <td>0</td>\n",
       "      <td>0</td>\n",
       "      <td>0</td>\n",
       "      <td>0</td>\n",
       "      <td>0</td>\n",
       "      <td>0</td>\n",
       "      <td>0</td>\n",
       "      <td>0</td>\n",
       "      <td>1</td>\n",
       "      <td>1</td>\n",
       "      <td>3</td>\n",
       "      <td>2</td>\n",
       "      <td>Chocolate Chip Cookies for Everyone. Erin Jean...</td>\n",
       "      <td>Chocolate Chip Cookies for Everyone. Erin Jean...</td>\n",
       "      <td>0.000</td>\n",
       "      <td>1.000</td>\n",
       "      <td>0.000</td>\n",
       "      <td>0.0000</td>\n",
       "    </tr>\n",
       "    <tr>\n",
       "      <th>2043</th>\n",
       "      <td>Science</td>\n",
       "      <td>Science</td>\n",
       "      <td>N/A</td>\n",
       "      <td>News</td>\n",
       "      <td>You Didn’t Touch These Jellyfish, but They Can...</td>\n",
       "      <td>The upside-down jellyfish is mostly stationary...</td>\n",
       "      <td>[Jellyfish, Diving and Divers, Fish and Other ...</td>\n",
       "      <td>696</td>\n",
       "      <td>2020-02-13 16:00:11+00:00</td>\n",
       "      <td>0</td>\n",
       "      <td>nyt://article/46cc9fd8-ee01-5d5d-ad1f-dc4ef42e...</td>\n",
       "      <td>37.801577</td>\n",
       "      <td>13</td>\n",
       "      <td>3</td>\n",
       "      <td>16</td>\n",
       "      <td>0</td>\n",
       "      <td>0</td>\n",
       "      <td>2020-02-13</td>\n",
       "      <td>78</td>\n",
       "      <td>8</td>\n",
       "      <td>0</td>\n",
       "      <td>0</td>\n",
       "      <td>0</td>\n",
       "      <td>0</td>\n",
       "      <td>0</td>\n",
       "      <td>0</td>\n",
       "      <td>0</td>\n",
       "      <td>0</td>\n",
       "      <td>0</td>\n",
       "      <td>1</td>\n",
       "      <td>-1</td>\n",
       "      <td>3</td>\n",
       "      <td>2</td>\n",
       "      <td>You Didn’t Touch These Jellyfish, but They Can...</td>\n",
       "      <td>You Didn’t Touch These Jellyfish, but They Can...</td>\n",
       "      <td>0.000</td>\n",
       "      <td>1.000</td>\n",
       "      <td>0.000</td>\n",
       "      <td>0.0000</td>\n",
       "    </tr>\n",
       "  </tbody>\n",
       "</table>\n",
       "<p>12792 rows × 39 columns</p>\n",
       "</div>"
      ],
      "text/plain": [
       "           newsdesk               section     subsection material  \\\n",
       "6976           OpEd               Opinion            N/A    Op-Ed   \n",
       "1869       Learning  The Learning Network            N/A     News   \n",
       "12037          OpEd               Opinion            N/A    Op-Ed   \n",
       "1393       Learning  The Learning Network            N/A     News   \n",
       "1794        Culture                Movies            N/A     News   \n",
       "...             ...                   ...            ...      ...   \n",
       "7789           OpEd               Opinion  Sunday Review    Op-Ed   \n",
       "2320     RealEstate           Real Estate            N/A     News   \n",
       "7786   Metropolitan              New York            N/A     News   \n",
       "2326         Dining                  Food            N/A     News   \n",
       "2043        Science               Science            N/A     News   \n",
       "\n",
       "                                                headline  \\\n",
       "6976               We Should Help Workers, Not Kill Them   \n",
       "1869                                     Slumber Parties   \n",
       "12037                         A Rare Middle East Triumph   \n",
       "1393                                      Super Bowl LIV   \n",
       "1794   Oscars 2020: Highlights From a History-Making ...   \n",
       "...                                                  ...   \n",
       "7789                   The End of College as We Knew It?   \n",
       "2320    Homes for Sale in Brooklyn, Queens and Manhattan   \n",
       "7786   When Their Mother Died at a Nursing Home, 2 De...   \n",
       "2326                 Chocolate Chip Cookies for Everyone   \n",
       "2043   You Didn’t Touch These Jellyfish, but They Can...   \n",
       "\n",
       "                                                abstract  \\\n",
       "6976   Unemployment benefits: an unheralded success s...   \n",
       "1869               Do you enjoy sleepovers with friends?   \n",
       "12037              And — yes — a triumph for Trump, too.   \n",
       "1393   What are your favorite things about Super Bowl...   \n",
       "1794   “Parasite” was the first movie not in English ...   \n",
       "...                                                  ...   \n",
       "7789   Restaurants get eulogies. Airlines get bailout...   \n",
       "2320   This week’s properties are in Clinton Hill, Br...   \n",
       "7786   The sisters were used to getting information. ...   \n",
       "2326   Erin Jeanne McDowell, a cookbook author, devel...   \n",
       "2043   The upside-down jellyfish is mostly stationary...   \n",
       "\n",
       "                                                keywords  word_count  \\\n",
       "6976   [Coronavirus Reopenings, Unemployment, Coronav...         883   \n",
       "1869                                                  []         111   \n",
       "12037  [Bahrain, Israel, United Arab Emirates, Middle...         873   \n",
       "1393                                                  []         138   \n",
       "1794   [Academy Awards (Oscars), Movies, Netflix Inc,...        1684   \n",
       "...                                                  ...         ...   \n",
       "7789   [Colleges and Universities, Coronavirus (2019-...        1895   \n",
       "2320   [Real Estate and Housing (Residential), Clinto...         147   \n",
       "7786   [Isabella Geriatric Center (Manhattan, NY, Nur...        2369   \n",
       "2326                    [Recipes, Cooking and Cookbooks]         697   \n",
       "2043   [Jellyfish, Diving and Divers, Fish and Other ...         696   \n",
       "\n",
       "                       pub_date  is_popular  \\\n",
       "6976  2020-05-18 22:00:07+00:00           1   \n",
       "1869  2020-02-11 08:00:03+00:00           0   \n",
       "12037 2020-09-14 23:00:06+00:00           1   \n",
       "1393  2020-01-31 08:00:02+00:00           0   \n",
       "1794  2020-02-09 16:59:09+00:00           1   \n",
       "...                         ...         ...   \n",
       "7789  2020-06-04 09:03:34+00:00           1   \n",
       "2320  2020-02-20 14:00:25+00:00           0   \n",
       "7786  2020-06-04 09:00:27+00:00           0   \n",
       "2326  2020-02-20 17:16:09+00:00           0   \n",
       "2043  2020-02-13 16:00:11+00:00           0   \n",
       "\n",
       "                                                uniqueID  boxcox_word  \\\n",
       "6976   nyt://article/440db8c2-dc0f-58f8-aebd-4ff00adf...    42.202049   \n",
       "1869   nyt://article/a9d735d8-e5e1-5c72-ab18-ca10e085...    15.664226   \n",
       "12037  nyt://article/620d8da7-35ac-570d-89ed-a4e7e94b...    41.980833   \n",
       "1393   nyt://article/ccfec5d5-b976-52e3-925d-1bf5b344...    17.458791   \n",
       "1794   nyt://article/0131cc8d-16d3-5b0e-9a2e-98156ade...    56.728365   \n",
       "...                                                  ...          ...   \n",
       "7789   nyt://article/06533f1f-ea34-533e-bc1c-ad6d3222...    59.857525   \n",
       "2320   nyt://article/eab1cf16-1a31-58c1-b482-44fc49cc...    18.012362   \n",
       "7786   nyt://article/e5667d51-2989-5ef2-af65-47a1e4e9...    66.236109   \n",
       "2326   nyt://article/48f318d6-c70e-528b-88b4-ad7177b3...    37.826775   \n",
       "2043   nyt://article/46cc9fd8-ee01-5d5d-ad1f-dc4ef42e...    37.801577   \n",
       "\n",
       "       day_of_month  day_of_week  hour  is_weekend  is_primehour  group_date  \\\n",
       "6976             18            0    22           0             0  2020-05-18   \n",
       "1869             11            1     8           0             0  2020-02-11   \n",
       "12037            14            0    23           0             1  2020-09-14   \n",
       "1393             31            4     8           0             0  2020-01-31   \n",
       "1794              9            6    16           1             0  2020-02-09   \n",
       "...             ...          ...   ...         ...           ...         ...   \n",
       "7789              4            3     9           0             0  2020-06-04   \n",
       "2320             20            3    14           0             0  2020-02-20   \n",
       "7786              4            3     9           0             0  2020-06-04   \n",
       "2326             20            3    17           0             0  2020-02-20   \n",
       "2043             13            3    16           0             0  2020-02-13   \n",
       "\n",
       "       posts_per_day  n_keywords  ideal_n_keywords  is_trump  is_party  \\\n",
       "6976              58           7                 0         0         1   \n",
       "1869              74           0                 0         0         0   \n",
       "12037             42          13                 1         1         0   \n",
       "1393              64           0                 0         0         0   \n",
       "1794              16          19                 0         0         0   \n",
       "...              ...         ...               ...       ...       ...   \n",
       "7789              50           5                 0         0         0   \n",
       "2320              78           4                 0         0         0   \n",
       "7786              50           5                 0         0         0   \n",
       "2326              78           2                 0         0         0   \n",
       "2043              78           8                 0         0         0   \n",
       "\n",
       "       is_racial  is_covid  is_epidemic  is_death  headline_question  \\\n",
       "6976           0         1            0         0                  0   \n",
       "1869           0         0            0         0                  0   \n",
       "12037          0         0            0         0                  0   \n",
       "1393           0         0            0         0                  0   \n",
       "1794           0         0            0         0                  0   \n",
       "...          ...       ...          ...       ...                ...   \n",
       "7789           0         1            0         0                  1   \n",
       "2320           0         0            0         0                  0   \n",
       "7786           0         1            0         1                  0   \n",
       "2326           0         0            0         0                  0   \n",
       "2043           0         0            0         0                  0   \n",
       "\n",
       "       abs_question  newsdesk_pop  section_pop  subsection_pop  material_pop  \\\n",
       "6976              0             5            5               3             5   \n",
       "1869              1             2            2               3             2   \n",
       "12037             0             5            5               3             5   \n",
       "1393              1             2            2               3             2   \n",
       "1794              0            -1            1               3             2   \n",
       "...             ...           ...          ...             ...           ...   \n",
       "7789              0             5            5               5             5   \n",
       "2320              0            -1           -1               3             2   \n",
       "7786              0             4            3               3             2   \n",
       "2326              0             1            1               3             2   \n",
       "2043              0             1           -1               3             2   \n",
       "\n",
       "                                              combi_text  \\\n",
       "6976   We Should Help Workers, Not Kill Them. Unemplo...   \n",
       "1869   Slumber Parties. Do you enjoy sleepovers with ...   \n",
       "12037  A Rare Middle East Triumph. And — yes — a triu...   \n",
       "1393   Super Bowl LIV. What are your favorite things ...   \n",
       "1794   Oscars 2020: Highlights From a History-Making ...   \n",
       "...                                                  ...   \n",
       "7789   The End of College as We Knew It?. Restaurants...   \n",
       "2320   Homes for Sale in Brooklyn, Queens and Manhatt...   \n",
       "7786   When Their Mother Died at a Nursing Home, 2 De...   \n",
       "2326   Chocolate Chip Cookies for Everyone. Erin Jean...   \n",
       "2043   You Didn’t Touch These Jellyfish, but They Can...   \n",
       "\n",
       "                                             combi_text2  sentiment_pos  \\\n",
       "6976   We Should Help Workers, Not Kill Them. Unemplo...          0.654   \n",
       "1869   Slumber Parties. Do you enjoy sleepovers with ...          0.643   \n",
       "12037  A Rare Middle East Triumph. And — yes — a triu...          0.560   \n",
       "1393   Super Bowl LIV. What are your favorite things ...          0.545   \n",
       "1794   Oscars 2020: Highlights From a History-Making ...          0.536   \n",
       "...                                                  ...            ...   \n",
       "7789   The End of College as We Knew It. Restaurants ...          0.000   \n",
       "2320   Homes for Sale in Brooklyn, Queens and Manhatt...          0.000   \n",
       "7786   When Their Mother Died at a Nursing Home, 2 De...          0.000   \n",
       "2326   Chocolate Chip Cookies for Everyone. Erin Jean...          0.000   \n",
       "2043   You Didn’t Touch These Jellyfish, but They Can...          0.000   \n",
       "\n",
       "       sentiment_neu  sentiment_neg  sentiment_compound  \n",
       "6976           0.346          0.000              0.9342  \n",
       "1869           0.357          0.000              0.8402  \n",
       "12037          0.440          0.000              0.8360  \n",
       "1393           0.455          0.000              0.8957  \n",
       "1794           0.464          0.000              0.9810  \n",
       "...              ...            ...                 ...  \n",
       "7789           1.000          0.000              0.0000  \n",
       "2320           1.000          0.000              0.0000  \n",
       "7786           0.893          0.107             -0.5574  \n",
       "2326           1.000          0.000              0.0000  \n",
       "2043           1.000          0.000              0.0000  \n",
       "\n",
       "[12792 rows x 39 columns]"
      ]
     },
     "execution_count": 48,
     "metadata": {},
     "output_type": "execute_result"
    }
   ],
   "source": [
    "train.loc[train['sentiment_pos'].sort_values(ascending=False).index]"
   ]
  },
  {
   "cell_type": "code",
   "execution_count": 49,
   "metadata": {
    "ExecuteTime": {
     "end_time": "2021-01-21T08:01:43.125078Z",
     "start_time": "2021-01-21T08:01:40.104Z"
    }
   },
   "outputs": [
    {
     "data": {
      "text/plain": [
       "sentiment_compound   -0.101446\n",
       "sentiment_pos        -0.009546\n",
       "sentiment_neu        -0.105958\n",
       "sentiment_neg         0.136188\n",
       "Name: is_popular, dtype: float64"
      ]
     },
     "execution_count": 49,
     "metadata": {},
     "output_type": "execute_result"
    }
   ],
   "source": [
    "# Looks like negative articles tend to be more popular\n",
    "train.corr()['is_popular'][['sentiment_compound', 'sentiment_pos', 'sentiment_neu', 'sentiment_neg']]"
   ]
  },
  {
   "cell_type": "code",
   "execution_count": 50,
   "metadata": {
    "ExecuteTime": {
     "end_time": "2021-01-21T08:01:43.125078Z",
     "start_time": "2021-01-21T08:01:40.106Z"
    }
   },
   "outputs": [
    {
     "name": "stderr",
     "output_type": "stream",
     "text": [
      "100%|█████████████████████████████████████████████████████████████████████████████| 3995/3995 [00:08<00:00, 495.89it/s]\n"
     ]
    }
   ],
   "source": [
    "test = test.progress_apply(get_sentiment, axis=1)"
   ]
  },
  {
   "cell_type": "markdown",
   "metadata": {},
   "source": [
    "### Headline / Abstract Length"
   ]
  },
  {
   "cell_type": "markdown",
   "metadata": {},
   "source": [
    "The idea here is that longer headlines and abstracts will lead to less comments -- the easier the headline / abstract is to understand, the more comments the article will attract. We can see this seems to be a factor for the abstract, while headline length doesn't seem to have much of an impact."
   ]
  },
  {
   "cell_type": "code",
   "execution_count": 51,
   "metadata": {
    "ExecuteTime": {
     "end_time": "2021-01-21T08:01:43.126078Z",
     "start_time": "2021-01-21T08:01:40.108Z"
    }
   },
   "outputs": [],
   "source": [
    "train['headline_len'] = train['headline'].apply(lambda x: len(x))\n",
    "train['abstract_len'] = train['abstract'].apply(lambda x: len(x))"
   ]
  },
  {
   "cell_type": "code",
   "execution_count": 52,
   "metadata": {
    "ExecuteTime": {
     "end_time": "2021-01-21T08:01:43.126078Z",
     "start_time": "2021-01-21T08:01:40.111Z"
    }
   },
   "outputs": [],
   "source": [
    "test['headline_len'] = test['headline'].apply(lambda x: len(x))\n",
    "test['abstract_len'] = test['abstract'].apply(lambda x: len(x))"
   ]
  },
  {
   "cell_type": "code",
   "execution_count": 53,
   "metadata": {
    "ExecuteTime": {
     "end_time": "2021-01-21T08:01:43.127078Z",
     "start_time": "2021-01-21T08:01:40.113Z"
    }
   },
   "outputs": [],
   "source": [
    "train['head_abs_len'] = train['headline_len'] + train['abstract_len']\n",
    "test['head_abs_len'] = test['headline_len'] + test['abstract_len']"
   ]
  },
  {
   "cell_type": "code",
   "execution_count": 54,
   "metadata": {
    "ExecuteTime": {
     "end_time": "2021-01-21T08:01:43.128078Z",
     "start_time": "2021-01-21T08:01:40.117Z"
    },
    "scrolled": true
   },
   "outputs": [
    {
     "data": {
      "text/plain": [
       "abstract_len   -0.104951\n",
       "headline_len   -0.001611\n",
       "Name: is_popular, dtype: float64"
      ]
     },
     "execution_count": 54,
     "metadata": {},
     "output_type": "execute_result"
    }
   ],
   "source": [
    "# Shorter abstracts seem to do better\n",
    "train.corr()['is_popular'].sort_values(ascending=False)[['abstract_len', 'headline_len']]"
   ]
  },
  {
   "cell_type": "markdown",
   "metadata": {
    "deletable": false,
    "editable": false,
    "run_control": {
     "frozen": true
    }
   },
   "source": [
    "### Interactive Features"
   ]
  },
  {
   "cell_type": "markdown",
   "metadata": {},
   "source": [
    "There are only a few interactive features, but generally I found that including this feature increased my model accuracy."
   ]
  },
  {
   "cell_type": "code",
   "execution_count": 55,
   "metadata": {
    "ExecuteTime": {
     "end_time": "2021-01-21T08:01:43.135080Z",
     "start_time": "2021-01-21T08:01:40.141Z"
    }
   },
   "outputs": [],
   "source": [
    "train['is_interactive'] = train['material'].apply(lambda x: 1 if x == 'Interactive Feature' else 0)\n",
    "test['is_interactive'] = test['material'].apply(lambda x: 1 if x == 'Interactive Feature' else 0)"
   ]
  },
  {
   "cell_type": "markdown",
   "metadata": {
    "deletable": false,
    "editable": false,
    "run_control": {
     "frozen": true
    }
   },
   "source": [
    "### Clustering"
   ]
  },
  {
   "cell_type": "markdown",
   "metadata": {},
   "source": [
    "I also tried out various clustering methods on my data to see if there was a more efficient way of clustering by newsdesk or section, or by headline. Generally, I found that clustering didn't help my model accuracy much. The headlines also seemed clustered pretty close together, which made it difficult for DBSCAN effectively separate them. Using K-means clustering seemed to work slightly better, but the topics ended up looking pretty similar. I excluded clustering from my final model, but it's worth noting that some clusters, particularly cluster 4 had a moderate correlation with popularity."
   ]
  },
  {
   "cell_type": "code",
   "execution_count": 56,
   "metadata": {
    "deletable": false,
    "editable": false,
    "run_control": {
     "frozen": true
    }
   },
   "outputs": [],
   "source": [
    "full_df = pd.concat([train, test])"
   ]
  },
  {
   "cell_type": "code",
   "execution_count": 57,
   "metadata": {
    "deletable": false,
    "editable": false,
    "run_control": {
     "frozen": true
    }
   },
   "outputs": [
    {
     "data": {
      "text/plain": [
       "(60, 42, 67, 10)"
      ]
     },
     "execution_count": 57,
     "metadata": {},
     "output_type": "execute_result"
    }
   ],
   "source": [
    "full_df['newsdesk'].nunique(), full_df['section'].nunique(), full_df['subsection'].nunique(), full_df['material'].nunique()"
   ]
  },
  {
   "cell_type": "code",
   "execution_count": 58,
   "metadata": {
    "deletable": false,
    "editable": false,
    "run_control": {
     "frozen": true
    }
   },
   "outputs": [],
   "source": [
    "extra_stopwords = [\"ain't\", \"amn't\", \"aren't\", \"can't\", \"could've\", \"couldn't\",\n",
    "                    \"daresn't\", \"didn't\", \"doesn't\", \"don't\", \"gonna\", \"gotta\", \n",
    "                    \"hadn't\", \"hasn't\", \"haven't\", \"he'd\", \"he'll\", \"he's\", \"how'd\",\n",
    "                    \"how'll\", \"how's\", \"I'd\", \"I'll\", \"I'm\", \"I've\", \"isn't\", \"it'd\",\n",
    "                    \"it'll\", \"it's\", \"let's\", \"mayn't\", \"may've\", \"mightn't\", \n",
    "                    \"might've\", \"mustn't\", \"must've\", \"needn't\", \"o'clock\", \"ol'\",\n",
    "                    \"oughtn't\", \"shan't\", \"she'd\", \"she'll\", \"she's\", \"should've\",\n",
    "                    \"shouldn't\", \"somebody's\", \"someone's\", \"something's\", \"that'll\",\n",
    "                    \"that're\", \"that's\", \"that'd\", \"there'd\", \"there're\", \"there's\", \n",
    "                    \"these're\", \"they'd\", \"they'll\", \"they're\", \"they've\", \"this's\",\n",
    "                    \"those're\", \"tis\", \"twas\", \"twasn't\", \"wasn't\", \"we'd\", \"we'd've\",\n",
    "                    \"we'll\", \"we're\", \"we've\", \"weren't\", \"what'd\", \"what'll\", \n",
    "                    \"what're\", \"what's\", \"what've\", \"when's\", \"where'd\", \"where're\",\n",
    "                    \"where's\", \"where've\", \"which's\", \"who'd\", \"who'd've\", \"who'll\",\n",
    "                    \"who're\", \"who's\", \"who've\", \"why'd\", \"why're\", \"why's\", \"won't\",\n",
    "                    \"would've\", \"wouldn't\", \"y'all\", \"you'd\", \"you'll\", \"you're\", \n",
    "                    \"you've\", \"'s\", \"'d\", \"'m\", \"abov\", \"afterward\", \"ai\", \"alon\", \"alreadi\", \"alway\", \"ani\", \n",
    "                     \"anoth\", \"anyon\", \"anyth\", \"anywher\", \"becam\", \"becaus\", \"becom\", \"befor\", \n",
    "                     \"besid\", \"ca\", \"cri\", \"dare\", \"describ\", \"did\", \"doe\", \"dure\", \"els\", \n",
    "                     \"elsewher\", \"empti\", \"everi\", \"everyon\", \"everyth\", \"everywher\", \"fifti\", \n",
    "                     \"forti\", \"gon\", \"got\", \"henc\", \"hereaft\", \"herebi\", \"howev\", \"hundr\", \"inde\", \n",
    "                     \"let\", \"ll\", \"mani\", \"meanwhil\", \"moreov\", \"n't\", \"na\", \"need\", \"nobodi\", \"noon\", \n",
    "                     \"noth\", \"nowher\", \"ol\", \"onc\", \"onli\", \"otherwis\", \"ought\", \"ourselv\", \"perhap\", \n",
    "                     \"pleas\", \"sever\", \"sha\", \"sinc\", \"sincer\", \"sixti\", \"somebodi\", \"someon\", \"someth\", \n",
    "                     \"sometim\", \"somewher\", \"ta\", \"themselv\", \"thenc\", \"thereaft\", \"therebi\", \"therefor\", \n",
    "                     \"togeth\", \"twelv\", \"twenti\", \"ve\", \"veri\", \"whatev\", \"whenc\", \"whenev\", \n",
    "                    \"wherea\", \"whereaft\", \"wherebi\", \"wherev\", \"whi\", \"wo\", \"anywh\", \"el\", \"elsewh\", \"everywh\", \n",
    "                    \"ind\", \"otherwi\", \"plea\", \"somewh\", \"yourselv\"]\n",
    "\n",
    "custom_stopwords = text.ENGLISH_STOP_WORDS.union(extra_stopwords)"
   ]
  },
  {
   "cell_type": "code",
   "execution_count": 59,
   "metadata": {
    "ExecuteTime": {
     "end_time": "2021-01-21T08:01:43.136080Z",
     "start_time": "2021-01-21T08:01:40.144Z"
    },
    "deletable": false,
    "editable": false,
    "run_control": {
     "frozen": true
    }
   },
   "outputs": [],
   "source": [
    "stemmer = SnowballStemmer(\"english\")"
   ]
  },
  {
   "cell_type": "code",
   "execution_count": 60,
   "metadata": {
    "ExecuteTime": {
     "end_time": "2021-01-21T08:01:43.137081Z",
     "start_time": "2021-01-21T08:01:40.146Z"
    },
    "deletable": false,
    "editable": false,
    "run_control": {
     "frozen": true
    }
   },
   "outputs": [],
   "source": [
    "def tokenize_and_stem(text, do_stem=True):\n",
    "    # first tokenize by sentence, then by word to ensure that punctuation is caught as it's own token\n",
    "    tokens = [word.lower() for sent in nltk.sent_tokenize(text) for word in nltk.word_tokenize(sent)]\n",
    "    \n",
    "    # filter out any tokens not containing letters (e.g., numeric tokens, raw punctuation)\n",
    "    filtered_tokens = []\n",
    "    for token in tokens:\n",
    "        if re.search('[a-zA-Z]', token):\n",
    "            filtered_tokens.append(token)\n",
    "            \n",
    "    # stem filtered tokens\n",
    "    stems = [stemmer.stem(t) for t in filtered_tokens]\n",
    "    \n",
    "    if do_stem:\n",
    "        return stems\n",
    "    else:\n",
    "        return filtered_tokens"
   ]
  },
  {
   "cell_type": "code",
   "execution_count": 61,
   "metadata": {
    "ExecuteTime": {
     "end_time": "2021-01-21T08:01:43.138080Z",
     "start_time": "2021-01-21T08:01:40.148Z"
    },
    "deletable": false,
    "editable": false,
    "run_control": {
     "frozen": true
    }
   },
   "outputs": [
    {
     "name": "stderr",
     "output_type": "stream",
     "text": [
      "100%|███████████████████████████████████████████████████████████████████████████| 16787/16787 [00:22<00:00, 757.24it/s]\n"
     ]
    }
   ],
   "source": [
    "# not super pythonic, no, not at all.\n",
    "# use extend so it's a big flat list of vocab\n",
    "totalvocab_stemmed = []\n",
    "totalvocab_tokenized = []\n",
    "for i in tqdm(full_df['combi_text2']):\n",
    "    allwords_stemmed = tokenize_and_stem(i)\n",
    "    totalvocab_stemmed.extend(allwords_stemmed)\n",
    "    \n",
    "    allwords_tokenized = tokenize_and_stem(i, False)\n",
    "    totalvocab_tokenized.extend(allwords_tokenized)"
   ]
  },
  {
   "cell_type": "code",
   "execution_count": 62,
   "metadata": {
    "ExecuteTime": {
     "end_time": "2021-01-21T08:01:43.138080Z",
     "start_time": "2021-01-21T08:01:40.150Z"
    },
    "deletable": false,
    "editable": false,
    "run_control": {
     "frozen": true
    }
   },
   "outputs": [
    {
     "data": {
      "text/html": [
       "<div>\n",
       "<style scoped>\n",
       "    .dataframe tbody tr th:only-of-type {\n",
       "        vertical-align: middle;\n",
       "    }\n",
       "\n",
       "    .dataframe tbody tr th {\n",
       "        vertical-align: top;\n",
       "    }\n",
       "\n",
       "    .dataframe thead th {\n",
       "        text-align: right;\n",
       "    }\n",
       "</style>\n",
       "<table border=\"1\" class=\"dataframe\">\n",
       "  <thead>\n",
       "    <tr style=\"text-align: right;\">\n",
       "      <th></th>\n",
       "      <th>words</th>\n",
       "    </tr>\n",
       "  </thead>\n",
       "  <tbody>\n",
       "    <tr>\n",
       "      <th>protect</th>\n",
       "      <td>protect</td>\n",
       "    </tr>\n",
       "    <tr>\n",
       "      <th>veteran</th>\n",
       "      <td>veterans</td>\n",
       "    </tr>\n",
       "    <tr>\n",
       "      <th>from</th>\n",
       "      <td>from</td>\n",
       "    </tr>\n",
       "    <tr>\n",
       "      <th>fraud</th>\n",
       "      <td>fraud</td>\n",
       "    </tr>\n",
       "    <tr>\n",
       "      <th>congress</th>\n",
       "      <td>congress</td>\n",
       "    </tr>\n",
       "  </tbody>\n",
       "</table>\n",
       "</div>"
      ],
      "text/plain": [
       "             words\n",
       "protect    protect\n",
       "veteran   veterans\n",
       "from          from\n",
       "fraud        fraud\n",
       "congress  congress"
      ]
     },
     "execution_count": 62,
     "metadata": {},
     "output_type": "execute_result"
    }
   ],
   "source": [
    "vocab_frame = pd.DataFrame({'words': totalvocab_tokenized}, index = totalvocab_stemmed)\n",
    "vocab_frame.head()"
   ]
  },
  {
   "cell_type": "code",
   "execution_count": 63,
   "metadata": {
    "ExecuteTime": {
     "end_time": "2021-01-21T08:01:43.139081Z",
     "start_time": "2021-01-21T08:01:40.152Z"
    },
    "deletable": false,
    "editable": false,
    "run_control": {
     "frozen": true
    }
   },
   "outputs": [
    {
     "name": "stdout",
     "output_type": "stream",
     "text": [
      "(16787, 269)\n"
     ]
    }
   ],
   "source": [
    "#define vectorizer parameters\n",
    "tfidf_vectorizer = TfidfVectorizer(max_features=20_000,\n",
    "                                 use_idf=True, tokenizer=tokenize_and_stem, ngram_range=(1,2), \n",
    "                                   min_df=0.01, stop_words=extra_stopwords)\n",
    "\n",
    "tfidf_matrix = tfidf_vectorizer.fit_transform(full_df['combi_text2']) #fit the vectorizer to synopses\n",
    "\n",
    "print(tfidf_matrix.shape)\n",
    "\n",
    "terms = tfidf_vectorizer.get_feature_names()"
   ]
  },
  {
   "cell_type": "code",
   "execution_count": 64,
   "metadata": {
    "ExecuteTime": {
     "end_time": "2021-01-21T08:01:43.140081Z",
     "start_time": "2021-01-21T08:01:40.154Z"
    },
    "deletable": false,
    "editable": false,
    "run_control": {
     "frozen": true
    }
   },
   "outputs": [],
   "source": [
    "num_clusters = 7\n",
    "cluster_model = KMeans(n_clusters=num_clusters, random_state=42)\n",
    "#DBSCAN(eps=1)"
   ]
  },
  {
   "cell_type": "code",
   "execution_count": 65,
   "metadata": {
    "ExecuteTime": {
     "end_time": "2021-01-21T08:01:43.140081Z",
     "start_time": "2021-01-21T08:01:40.157Z"
    },
    "deletable": false,
    "editable": false,
    "run_control": {
     "frozen": true
    }
   },
   "outputs": [
    {
     "data": {
      "text/html": [
       "<div>\n",
       "<style scoped>\n",
       "    .dataframe tbody tr th:only-of-type {\n",
       "        vertical-align: middle;\n",
       "    }\n",
       "\n",
       "    .dataframe tbody tr th {\n",
       "        vertical-align: top;\n",
       "    }\n",
       "\n",
       "    .dataframe thead th {\n",
       "        text-align: right;\n",
       "    }\n",
       "</style>\n",
       "<table border=\"1\" class=\"dataframe\">\n",
       "  <thead>\n",
       "    <tr style=\"text-align: right;\">\n",
       "      <th></th>\n",
       "      <th>headline</th>\n",
       "      <th>cluster</th>\n",
       "    </tr>\n",
       "  </thead>\n",
       "  <tbody>\n",
       "    <tr>\n",
       "      <th>0</th>\n",
       "      <td>Protect Veterans From Fraud</td>\n",
       "      <td>0</td>\n",
       "    </tr>\n",
       "    <tr>\n",
       "      <th>1</th>\n",
       "      <td>‘It’s Green and Slimy’</td>\n",
       "      <td>3</td>\n",
       "    </tr>\n",
       "    <tr>\n",
       "      <th>2</th>\n",
       "      <td>Meteor Showers in 2020 That Will Light Up Nigh...</td>\n",
       "      <td>3</td>\n",
       "    </tr>\n",
       "    <tr>\n",
       "      <th>3</th>\n",
       "      <td>Sync your calendar with the solar system</td>\n",
       "      <td>0</td>\n",
       "    </tr>\n",
       "    <tr>\n",
       "      <th>4</th>\n",
       "      <td>Rocket Launches, Trips to Mars and More 2020 S...</td>\n",
       "      <td>3</td>\n",
       "    </tr>\n",
       "  </tbody>\n",
       "</table>\n",
       "</div>"
      ],
      "text/plain": [
       "                                            headline  cluster\n",
       "0                        Protect Veterans From Fraud        0\n",
       "1                             ‘It’s Green and Slimy’        3\n",
       "2  Meteor Showers in 2020 That Will Light Up Nigh...        3\n",
       "3           Sync your calendar with the solar system        0\n",
       "4  Rocket Launches, Trips to Mars and More 2020 S...        3"
      ]
     },
     "execution_count": 65,
     "metadata": {},
     "output_type": "execute_result"
    }
   ],
   "source": [
    "cluster_model.fit(tfidf_matrix)\n",
    "clusters = cluster_model.labels_.tolist()\n",
    "full_df['cluster'] = clusters\n",
    "full_df.head()[['headline', 'cluster']]"
   ]
  },
  {
   "cell_type": "markdown",
   "metadata": {},
   "source": [
    "Most headlines seem to fall into clusters 0 and 2, which seems to cover a wide range of mostly unimportant articles."
   ]
  },
  {
   "cell_type": "code",
   "execution_count": 66,
   "metadata": {
    "deletable": false,
    "editable": false,
    "run_control": {
     "frozen": true
    }
   },
   "outputs": [
    {
     "data": {
      "text/plain": [
       "0    7250\n",
       "2    2702\n",
       "5    1811\n",
       "4    1717\n",
       "3    1325\n",
       "1    1036\n",
       "6     946\n",
       "Name: cluster, dtype: int64"
      ]
     },
     "execution_count": 66,
     "metadata": {},
     "output_type": "execute_result"
    }
   ],
   "source": [
    "full_df['cluster'].value_counts()"
   ]
  },
  {
   "cell_type": "markdown",
   "metadata": {},
   "source": [
    "Clusters 4, 5 and 6 are of slightly more interest. Cluster 4 covers US political news i.e. Trump/Biden. Cluster 5 covers COVID-19, while cluster 6 seems to cover news pertaining to New York City."
   ]
  },
  {
   "cell_type": "code",
   "execution_count": 67,
   "metadata": {
    "deletable": false,
    "editable": false,
    "run_control": {
     "frozen": true
    },
    "scrolled": false
   },
   "outputs": [
    {
     "name": "stdout",
     "output_type": "stream",
     "text": [
      "Top terms per cluster:\n",
      "\n",
      "Cluster 0 words: new, pandemic, home, make, say, americans,\n",
      "\n",
      "Cluster 0 titles:\n",
      " - Protect Veterans From Fraud\n",
      " - Sync your calendar with the solar system\n",
      " - Pro-Iranian Protesters End Siege of U.S. Embassy in Baghdad\n",
      " - Judge John Hodgman on Uncle Money Bags\n",
      " - These Armenian Flatbreads Stuffed With Greens Are the Perfect Snack\n",
      " - Can You Talk Your Way Out of a Life Sentence?\n",
      " - Couture Creations for Dancing Bodies\n",
      " - Bedminster, N.J.: Horses, Golf and Presidential Visits\n",
      "\n",
      "\n",
      "Cluster 1 words: t, don, don, s, won, pandemic,\n",
      "\n",
      "Cluster 1 titles:\n",
      " - She Felt Fine, but Her M.R.I. Showed Several Strokes. What Was Wrong?\n",
      " - ‘Don’t Believe a Word,’ a Look at Language and Power (and Why Dolphins Have Accents)\n",
      " - ‘It’s Creepy’: Unexplained Drones Are Swarming by Night Over Colorado\n",
      " - It Looks Like Health Insurance, but It’s Not. ‘Just Trust God,’ Buyers Are Told.\n",
      " - Julián Castro Ends Presidential Run: ‘It Simply Isn’t Our Time’\n",
      " - Will the Oscars Get as Nostalgic as Hollywood Did in 2019?\n",
      " - Many Felt David Stern’s Wrath. He’ll Be Missed Anyway.\n",
      " - We Asked You to Name These Athletes, Politicians and Celebrities. Here’s How You Did.\n",
      "\n",
      "\n",
      "Cluster 2 words: s, new, world, look, puzzle, life,\n",
      "\n",
      "Cluster 2 titles:\n",
      " - Only You Can Prevent Dystopia\n",
      " - Head-Scarf Ban and Carbon Taxes: Austria Gets an Unlikely Government\n",
      " - Turkey Questions Pilots About Carlos Ghosn’s Escape From Japan\n",
      " - Where’s the Best Place to Buy a Winter Vacation Rental?\n",
      " - ‘It’s Going to Be a Blast Furnace’: Australia Fires Intensify\n",
      " - Review: Arthur Miller’s Dying ‘Salesman’ Is Reborn in London\n",
      " - At SoftBank’s Jewel in India: ‘Toxic’ Culture and Troubling Incidents\n",
      " - Carlos Ghosn Flirted With Hollywood, Then Delivered a Plot Twist\n",
      "\n",
      "\n",
      "Cluster 3 words: year, time, s, new, pandemic, make,\n",
      "\n",
      "Cluster 3 titles:\n",
      " - ‘It’s Green and Slimy’\n",
      " - Meteor Showers in 2020 That Will Light Up Night Skies\n",
      " - Rocket Launches, Trips to Mars and More 2020 Space and Astronomy Events\n",
      " - Eat Better, Feel Better? Food Advice From the Year in Well\n",
      " - New Year, New You?\n",
      " - What Are Your Predictions for the New Year and the New Decade?\n",
      " - Why Is America So Depressed?\n",
      " - Teenagers in The Times: December 2019\n",
      "\n",
      "\n",
      "Cluster 4 words: trump, president, s, trump, president, biden,\n",
      "\n",
      "Cluster 4 titles:\n",
      " - Trump Bet He Could Isolate Iran and Charm North Korea. It’s Not That Easy.\n",
      " - Already Had Plenty of Trump 2020?\n",
      " - The President and the Publisher\n",
      " - Christianity Today Editor Laments ‘Ethical Naïveté’ of Trump Backers\n",
      " - Cash-Rich Democrats Brace for Long Fight as Trump Hoards Money\n",
      " - The Case for a One-Term Joe\n",
      " - For Trump, a Risky Decision on Suleimani Is One Other Presidents Had Avoided\n",
      " - ‘The Game Has Changed’\n",
      "\n",
      "\n",
      "Cluster 5 words: coronavirus, pandemic, virus, tests, outbreak, s,\n",
      "\n",
      "Cluster 5 titles:\n",
      " - Three U.S. Airports to Check Passengers for a Deadly Chinese Coronavirus\n",
      " - The Test a Deadly Coronavirus Outbreak Poses to China’s Leadership\n",
      " - Wuhan, Center of Coronavirus Outbreak, Is Being Cut Off by Chinese Authorities\n",
      " - As New Virus Spreads From China, Scientists See Grim Reminders\n",
      " - Scale of China’s Wuhan Shutdown Is Believed to Be Without Precedent\n",
      " - Coronavirus Death Toll Climbs in China, and a Lockdown Widens\n",
      " - Many in China Wear Them, but Do Masks Block Coronavirus?\n",
      " - Toll From Outbreak Climbs in China as Infections Reach Europe and Australia\n",
      "\n",
      "\n",
      "Cluster 6 words: new, york, new, city, york, s,\n",
      "\n",
      "Cluster 6 titles:\n",
      " - More People Are Dying on New York City’s Streets. What Went Wrong?\n",
      " - It’s an Old and Insidious Hatred. And New Yorkers Can’t Stand for It.\n",
      " - This Union Defeated Airbnb. Now It’s Taking Aim at a New Target.\n",
      " - 7 of Our Top Stories From 2019\n",
      " - In the Swim of Digital Images, There’s Nothing Boring About Sculpture\n",
      " - Which Subway Seat Is Best? Your Answer Is Obviously Wrong\n",
      " - Why Your Uber Ride Can Cost as Much as a Plane Ticket\n",
      " - A Deadly Year on N.Y.C. Streets\n",
      "\n",
      "\n"
     ]
    }
   ],
   "source": [
    "print(\"Top terms per cluster:\")\n",
    "print()\n",
    "\n",
    "#sort cluster centers by proximity to centroid\n",
    "order_centroids = cluster_model.cluster_centers_.argsort()[:, ::-1] \n",
    "\n",
    "for i in range(num_clusters):\n",
    "    print(\"Cluster %d words:\" % i, end='')\n",
    "\n",
    "    for ind in order_centroids[i, :6]: #replace 6 with n words per cluster\n",
    "        print(' %s' % vocab_frame.loc[terms[ind].split(' ')].values.tolist()[0][0], end=',')\n",
    "    print('\\n')\n",
    "\n",
    "    print(\"Cluster %d titles:\" % i, end='')\n",
    "    print()\n",
    "    for title in full_df[full_df['cluster'] == i]['headline'].values.tolist()[:8]:\n",
    "        print(' - %s' % title)\n",
    "    print('\\n')"
   ]
  },
  {
   "cell_type": "code",
   "execution_count": 68,
   "metadata": {
    "ExecuteTime": {
     "end_time": "2021-01-21T08:01:43.141081Z",
     "start_time": "2021-01-21T08:01:40.161Z"
    },
    "deletable": false,
    "editable": false,
    "run_control": {
     "frozen": true
    }
   },
   "outputs": [],
   "source": [
    "cluster_df = pd.get_dummies(data=full_df, columns=['cluster'])"
   ]
  },
  {
   "cell_type": "markdown",
   "metadata": {},
   "source": [
    "Only Cluster 4 has a moderate correlation with popularity -- however we're already accounting for political news with our previous features."
   ]
  },
  {
   "cell_type": "code",
   "execution_count": 69,
   "metadata": {
    "ExecuteTime": {
     "end_time": "2021-01-21T08:01:43.142081Z",
     "start_time": "2021-01-21T08:01:40.163Z"
    },
    "deletable": false,
    "editable": false,
    "run_control": {
     "frozen": true
    }
   },
   "outputs": [
    {
     "data": {
      "text/plain": [
       "cluster_4    0.216744\n",
       "cluster_1    0.027266\n",
       "cluster_5    0.004168\n",
       "cluster_6   -0.014234\n",
       "cluster_3   -0.055443\n",
       "cluster_0   -0.057863\n",
       "cluster_2   -0.072488\n",
       "Name: is_popular, dtype: float64"
      ]
     },
     "execution_count": 69,
     "metadata": {},
     "output_type": "execute_result"
    }
   ],
   "source": [
    "cluster_df.corr()['is_popular'].sort_values(ascending=False).filter(like='cluster')"
   ]
  },
  {
   "cell_type": "code",
   "execution_count": 70,
   "metadata": {
    "ExecuteTime": {
     "end_time": "2021-01-21T08:01:43.143081Z",
     "start_time": "2021-01-21T08:01:40.166Z"
    },
    "deletable": false,
    "editable": false,
    "run_control": {
     "frozen": true
    }
   },
   "outputs": [
    {
     "data": {
      "text/html": [
       "<div>\n",
       "<style scoped>\n",
       "    .dataframe tbody tr th:only-of-type {\n",
       "        vertical-align: middle;\n",
       "    }\n",
       "\n",
       "    .dataframe tbody tr th {\n",
       "        vertical-align: top;\n",
       "    }\n",
       "\n",
       "    .dataframe thead th {\n",
       "        text-align: right;\n",
       "    }\n",
       "</style>\n",
       "<table border=\"1\" class=\"dataframe\">\n",
       "  <thead>\n",
       "    <tr style=\"text-align: right;\">\n",
       "      <th></th>\n",
       "      <th>uniqueID</th>\n",
       "      <th>cluster</th>\n",
       "    </tr>\n",
       "  </thead>\n",
       "  <tbody>\n",
       "    <tr>\n",
       "      <th>0</th>\n",
       "      <td>nyt://article/69a7090b-9f36-569e-b5ab-b0ba5bb3...</td>\n",
       "      <td>0</td>\n",
       "    </tr>\n",
       "    <tr>\n",
       "      <th>1</th>\n",
       "      <td>nyt://article/9edddb54-0aa3-5835-a833-d311a76f...</td>\n",
       "      <td>3</td>\n",
       "    </tr>\n",
       "    <tr>\n",
       "      <th>2</th>\n",
       "      <td>nyt://article/04bc90f0-b20b-511c-b5bb-3ce13194...</td>\n",
       "      <td>3</td>\n",
       "    </tr>\n",
       "    <tr>\n",
       "      <th>3</th>\n",
       "      <td>nyt://interactive/5b58d876-9351-50af-9b41-a312...</td>\n",
       "      <td>0</td>\n",
       "    </tr>\n",
       "    <tr>\n",
       "      <th>4</th>\n",
       "      <td>nyt://article/bd8647b3-8ec6-50aa-95cf-2b81ed12...</td>\n",
       "      <td>3</td>\n",
       "    </tr>\n",
       "    <tr>\n",
       "      <th>...</th>\n",
       "      <td>...</td>\n",
       "      <td>...</td>\n",
       "    </tr>\n",
       "    <tr>\n",
       "      <th>16782</th>\n",
       "      <td>nyt://article/e8adbb75-a8b3-5a8c-886b-b9c1195f...</td>\n",
       "      <td>0</td>\n",
       "    </tr>\n",
       "    <tr>\n",
       "      <th>16783</th>\n",
       "      <td>nyt://article/1f11417d-2c57-51b9-b75d-8f67f0a9...</td>\n",
       "      <td>5</td>\n",
       "    </tr>\n",
       "    <tr>\n",
       "      <th>16784</th>\n",
       "      <td>nyt://article/c4b9edab-bdde-5d81-b496-06fedb52...</td>\n",
       "      <td>0</td>\n",
       "    </tr>\n",
       "    <tr>\n",
       "      <th>16785</th>\n",
       "      <td>nyt://article/efcaf652-ffad-5b4e-9f17-4fd9aff5...</td>\n",
       "      <td>0</td>\n",
       "    </tr>\n",
       "    <tr>\n",
       "      <th>16786</th>\n",
       "      <td>nyt://article/12048b2b-62e3-5bed-8c77-483a4299...</td>\n",
       "      <td>0</td>\n",
       "    </tr>\n",
       "  </tbody>\n",
       "</table>\n",
       "<p>16787 rows × 2 columns</p>\n",
       "</div>"
      ],
      "text/plain": [
       "                                                uniqueID  cluster\n",
       "0      nyt://article/69a7090b-9f36-569e-b5ab-b0ba5bb3...        0\n",
       "1      nyt://article/9edddb54-0aa3-5835-a833-d311a76f...        3\n",
       "2      nyt://article/04bc90f0-b20b-511c-b5bb-3ce13194...        3\n",
       "3      nyt://interactive/5b58d876-9351-50af-9b41-a312...        0\n",
       "4      nyt://article/bd8647b3-8ec6-50aa-95cf-2b81ed12...        3\n",
       "...                                                  ...      ...\n",
       "16782  nyt://article/e8adbb75-a8b3-5a8c-886b-b9c1195f...        0\n",
       "16783  nyt://article/1f11417d-2c57-51b9-b75d-8f67f0a9...        5\n",
       "16784  nyt://article/c4b9edab-bdde-5d81-b496-06fedb52...        0\n",
       "16785  nyt://article/efcaf652-ffad-5b4e-9f17-4fd9aff5...        0\n",
       "16786  nyt://article/12048b2b-62e3-5bed-8c77-483a4299...        0\n",
       "\n",
       "[16787 rows x 2 columns]"
      ]
     },
     "execution_count": 70,
     "metadata": {},
     "output_type": "execute_result"
    }
   ],
   "source": [
    "merge_df = full_df[['uniqueID', 'cluster']]\n",
    "merge_df"
   ]
  },
  {
   "cell_type": "code",
   "execution_count": 71,
   "metadata": {
    "ExecuteTime": {
     "end_time": "2021-01-21T08:01:43.143081Z",
     "start_time": "2021-01-21T08:01:40.168Z"
    },
    "deletable": false,
    "editable": false,
    "run_control": {
     "frozen": true
    }
   },
   "outputs": [],
   "source": [
    "train = pd.merge(train, merge_df)\n",
    "test = pd.merge(test, merge_df)"
   ]
  },
  {
   "cell_type": "code",
   "execution_count": 72,
   "metadata": {
    "ExecuteTime": {
     "end_time": "2021-01-21T08:01:43.144082Z",
     "start_time": "2021-01-21T08:01:40.170Z"
    },
    "deletable": false,
    "editable": false,
    "run_control": {
     "frozen": true
    }
   },
   "outputs": [],
   "source": [
    "train = pd.get_dummies(data=train, columns=['cluster'])\n",
    "test = pd.get_dummies(data=test, columns=['cluster'])"
   ]
  },
  {
   "cell_type": "markdown",
   "metadata": {},
   "source": [
    "## Process Test"
   ]
  },
  {
   "cell_type": "code",
   "execution_count": 56,
   "metadata": {
    "ExecuteTime": {
     "end_time": "2021-01-21T08:01:43.144082Z",
     "start_time": "2021-01-21T08:01:40.172Z"
    }
   },
   "outputs": [
    {
     "data": {
      "text/plain": [
       "[]"
      ]
     },
     "execution_count": 56,
     "metadata": {},
     "output_type": "execute_result"
    }
   ],
   "source": [
    "[i for i in train if i not in test]"
   ]
  },
  {
   "cell_type": "code",
   "execution_count": 57,
   "metadata": {
    "ExecuteTime": {
     "end_time": "2021-01-21T08:01:43.145082Z",
     "start_time": "2021-01-21T08:01:40.175Z"
    }
   },
   "outputs": [
    {
     "data": {
      "text/plain": [
       "[]"
      ]
     },
     "execution_count": 57,
     "metadata": {},
     "output_type": "execute_result"
    }
   ],
   "source": [
    "[i for i in test if i not in train]"
   ]
  },
  {
   "cell_type": "code",
   "execution_count": 58,
   "metadata": {
    "ExecuteTime": {
     "end_time": "2021-01-21T08:01:43.146082Z",
     "start_time": "2021-01-21T08:01:40.177Z"
    }
   },
   "outputs": [
    {
     "data": {
      "text/plain": [
       "Series([], dtype: int64)"
      ]
     },
     "execution_count": 58,
     "metadata": {},
     "output_type": "execute_result"
    }
   ],
   "source": [
    "train.isnull().sum()[train.isnull().sum() > 0]"
   ]
  },
  {
   "cell_type": "code",
   "execution_count": 59,
   "metadata": {
    "ExecuteTime": {
     "end_time": "2021-01-21T08:01:43.146082Z",
     "start_time": "2021-01-21T08:01:40.179Z"
    }
   },
   "outputs": [
    {
     "data": {
      "text/plain": [
       "keywords    1\n",
       "dtype: int64"
      ]
     },
     "execution_count": 59,
     "metadata": {},
     "output_type": "execute_result"
    }
   ],
   "source": [
    "test.isnull().sum()[test.isnull().sum() > 0]"
   ]
  },
  {
   "cell_type": "code",
   "execution_count": 60,
   "metadata": {
    "ExecuteTime": {
     "end_time": "2021-01-21T08:01:43.147082Z",
     "start_time": "2021-01-21T08:01:40.182Z"
    }
   },
   "outputs": [
    {
     "data": {
      "text/plain": [
       "<AxesSubplot:>"
      ]
     },
     "execution_count": 60,
     "metadata": {},
     "output_type": "execute_result"
    },
    {
     "data": {
      "image/png": "[encoded data removed]",
      "text/plain": [
       "<Figure size 936x936 with 2 Axes>"
      ]
     },
     "metadata": {
      "needs_background": "light"
     },
     "output_type": "display_data"
    }
   ],
   "source": [
    "plt.figure(figsize=(13,13))\n",
    "sns.heatmap(train.corr(), cmap='coolwarm', annot=False, square=True, fmt='.2f', cbar=True)"
   ]
  },
  {
   "cell_type": "code",
   "execution_count": 61,
   "metadata": {
    "ExecuteTime": {
     "end_time": "2021-01-21T08:01:43.148083Z",
     "start_time": "2021-01-21T08:01:40.184Z"
    }
   },
   "outputs": [],
   "source": [
    "top_feats = abs(train._get_numeric_data().corr()['is_popular']).sort_values(ascending=False).index[0:42]"
   ]
  },
  {
   "cell_type": "code",
   "execution_count": 62,
   "metadata": {
    "ExecuteTime": {
     "end_time": "2021-01-21T08:01:43.148083Z",
     "start_time": "2021-01-21T08:01:40.186Z"
    }
   },
   "outputs": [
    {
     "name": "stdout",
     "output_type": "stream",
     "text": [
      "['newsdesk', 'section', 'subsection', 'material', 'headline', 'abstract', 'keywords', 'pub_date', 'uniqueID', 'group_date', 'combi_text', 'combi_text2']\n"
     ]
    }
   ],
   "source": [
    "# We're dropping mostly our text columns, some clusters, headline_len, day_of_month and abs_question\n",
    "print([col for col in train.columns if col not in top_feats])"
   ]
  },
  {
   "cell_type": "code",
   "execution_count": 63,
   "metadata": {},
   "outputs": [],
   "source": [
    "pd.concat([train, test]).to_csv('./datasets/full_processed.csv', index=False)"
   ]
  },
  {
   "cell_type": "code",
   "execution_count": 64,
   "metadata": {
    "ExecuteTime": {
     "end_time": "2021-01-21T08:01:43.149083Z",
     "start_time": "2021-01-21T08:01:40.188Z"
    }
   },
   "outputs": [],
   "source": [
    "train = train[top_feats]\n",
    "test = test[top_feats]"
   ]
  },
  {
   "cell_type": "code",
   "execution_count": 65,
   "metadata": {
    "ExecuteTime": {
     "end_time": "2021-01-21T08:01:43.150083Z",
     "start_time": "2021-01-21T08:01:40.190Z"
    }
   },
   "outputs": [
    {
     "data": {
      "text/plain": [
       "<AxesSubplot:>"
      ]
     },
     "execution_count": 65,
     "metadata": {},
     "output_type": "execute_result"
    },
    {
     "data": {
      "image/png": "[encoded data removed]",
      "text/plain": [
       "<Figure size 720x864 with 2 Axes>"
      ]
     },
     "metadata": {
      "needs_background": "light"
     },
     "output_type": "display_data"
    }
   ],
   "source": [
    "plt.figure(figsize=(10,12))\n",
    "sns.heatmap(train.corr()[['is_popular']].sort_values(ascending=False, by='is_popular'), \n",
    "            cmap='coolwarm', annot=True, vmax=0.8)"
   ]
  },
  {
   "cell_type": "code",
   "execution_count": 66,
   "metadata": {
    "ExecuteTime": {
     "end_time": "2021-01-21T08:01:43.150083Z",
     "start_time": "2021-01-21T08:01:40.191Z"
    }
   },
   "outputs": [],
   "source": [
    "train.to_csv('./datasets/train_processed.csv', index=False)"
   ]
  },
  {
   "cell_type": "code",
   "execution_count": 67,
   "metadata": {
    "ExecuteTime": {
     "end_time": "2021-01-21T08:01:43.151083Z",
     "start_time": "2021-01-21T08:01:40.194Z"
    }
   },
   "outputs": [],
   "source": [
    "test.to_csv('./datasets/test_processed.csv', index=False)"
   ]
  }
 ],
 "metadata": {
  "kernelspec": {
   "display_name": "Python 3",
   "language": "python",
   "name": "python3"
  },
  "language_info": {
   "codemirror_mode": {
    "name": "ipython",
    "version": 3
   },
   "file_extension": ".py",
   "mimetype": "text/x-python",
   "name": "python",
   "nbconvert_exporter": "python",
   "pygments_lexer": "ipython3",
   "version": "3.8.5"
  },
  "toc": {
   "base_numbering": 1,
   "nav_menu": {},
   "number_sections": false,
   "sideBar": true,
   "skip_h1_title": false,
   "title_cell": "Table of Contents",
   "title_sidebar": "Contents",
   "toc_cell": false,
   "toc_position": {
    "height": "calc(100% - 180px)",
    "left": "10px",
    "top": "150px",
    "width": "287px"
   },
   "toc_section_display": true,
   "toc_window_display": true
  }
 },
 "nbformat": 4,
 "nbformat_minor": 4
}
