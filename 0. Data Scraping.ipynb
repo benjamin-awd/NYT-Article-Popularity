{
 "cells": [
  {
   "cell_type": "markdown",
   "metadata": {},
   "source": [
    "# Data Scraping"
   ]
  },
  {
   "cell_type": "markdown",
   "metadata": {},
   "source": [
    "I chose to scrape data from the New York Times as they are one of the very few media publications that offer a wide range of APIs that are open to the public.\n",
    "\n",
    "The New York Times currently offers 10 public APIs: Archive, Article Search, Books, Community, Geographic, Most Popular, Semantic, Times Newswire, TimesTags, and Top Stories.\n",
    "\n",
    "To scrape articles from the NYT, you need to sign up for a free developer’s account which will give you an API key you can use to get article and comment meta data. A detailed guide for the sign-up process can be found [here](https://towardsdatascience.com/collecting-data-from-the-new-york-times-over-any-period-of-time-3e365504004).\n",
    "\n",
    "Instead of manually scraping the data by hand, I opted to use the [nytimes-scraper](https://github.com/ietz/nytimes-scraper) package on Github for this, which allowed me to scrape over 16,000 articles and around 5,000,000 comments from January 2020 to December 2020.\n",
    "\n",
    "The documentation for the NYT articles / comments APIs can be found [here](https://developer.nytimes.com/docs/articlesearch-product/1/overview) and [here](https://developer.nytimes.com/docs/community-api-product/1/overview)."
   ]
  },
  {
   "cell_type": "code",
   "execution_count": 3,
   "metadata": {},
   "outputs": [],
   "source": [
    "#!pip install nytimes-scraper"
   ]
  },
  {
   "cell_type": "code",
   "execution_count": null,
   "metadata": {},
   "outputs": [],
   "source": [
    "import datetime as dt\n",
    "from nytimes_scraper import run_scraper, scrape_month\n",
    "\n",
    "# scrape Jan of 2020\n",
    "article_df, comment_df = scrape_month('<API KEY>', date=dt.date(2020, 1, 1))"
   ]
  }
 ],
 "metadata": {
  "kernelspec": {
   "display_name": "Python 3",
   "language": "python",
   "name": "python3"
  },
  "language_info": {
   "codemirror_mode": {
    "name": "ipython",
    "version": 3
   },
   "file_extension": ".py",
   "mimetype": "text/x-python",
   "name": "python",
   "nbconvert_exporter": "python",
   "pygments_lexer": "ipython3",
   "version": "3.8.5"
  },
  "toc": {
   "base_numbering": 1,
   "nav_menu": {},
   "number_sections": false,
   "sideBar": true,
   "skip_h1_title": false,
   "title_cell": "Table of Contents",
   "title_sidebar": "Contents",
   "toc_cell": false,
   "toc_position": {},
   "toc_section_display": true,
   "toc_window_display": false
  }
 },
 "nbformat": 4,
 "nbformat_minor": 4
}
